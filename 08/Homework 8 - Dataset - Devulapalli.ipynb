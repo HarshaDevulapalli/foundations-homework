{
 "cells": [
  {
   "cell_type": "markdown",
   "metadata": {},
   "source": [
    "## Homework 8: Dataset: Slums of Hyderabad\n",
    "\n",
    "The following dataset is a heavily cleaned up version of the official data on slums from the Government's Rajiv Awas Yojana Scheme's Slum Free City Action Plan of 2011. This dataset is the only geocoded data for slums in India. While the quality of data could be questionable, it still provides an insightful understanding of the spatial patterns of poverty in Indian cities. "
   ]
  },
  {
   "cell_type": "code",
   "execution_count": 16,
   "metadata": {
    "collapsed": true
   },
   "outputs": [],
   "source": [
    "#Starting out the basics. \n",
    "import pandas as pd\n",
    "import matplotlib.pyplot as plt\n",
    "\n",
    "%matplotlib inline"
   ]
  },
  {
   "cell_type": "code",
   "execution_count": 17,
   "metadata": {
    "collapsed": false
   },
   "outputs": [],
   "source": [
    "slums= pd.read_csv(\"hyderabad_slum_master.csv\")"
   ]
  },
  {
   "cell_type": "code",
   "execution_count": 18,
   "metadata": {
    "collapsed": false
   },
   "outputs": [
    {
     "data": {
      "text/html": [
       "<div>\n",
       "<table border=\"1\" class=\"dataframe\">\n",
       "  <thead>\n",
       "    <tr style=\"text-align: right;\">\n",
       "      <th></th>\n",
       "      <th>name_of_the_slum</th>\n",
       "      <th>created_at</th>\n",
       "      <th>updated_at</th>\n",
       "      <th>the_geom</th>\n",
       "      <th>circle_number</th>\n",
       "      <th>ward_number</th>\n",
       "      <th>population</th>\n",
       "      <th>households</th>\n",
       "      <th>number_of_bpl_households</th>\n",
       "      <th>minority</th>\n",
       "      <th>...</th>\n",
       "      <th>structure_kuccha</th>\n",
       "      <th>avg_monthly_income</th>\n",
       "      <th>avg_monthly_expenditure</th>\n",
       "      <th>debts_outstanding</th>\n",
       "      <th>zerotoone_years_of_stay</th>\n",
       "      <th>onetothree_years_of_stay</th>\n",
       "      <th>threetofive_years_of_stay</th>\n",
       "      <th>morethanfive_years_of_stay</th>\n",
       "      <th>female_headed_households</th>\n",
       "      <th>age</th>\n",
       "    </tr>\n",
       "  </thead>\n",
       "  <tbody>\n",
       "    <tr>\n",
       "      <th>0</th>\n",
       "      <td>Nirmal Nagar</td>\n",
       "      <td>0046-06-13 00:00:00.68-04:56:02</td>\n",
       "      <td>26:43.2</td>\n",
       "      <td>0106000020E61000000100000001030000000100000006...</td>\n",
       "      <td>16.0</td>\n",
       "      <td>134.0</td>\n",
       "      <td>1576.0</td>\n",
       "      <td>377.0</td>\n",
       "      <td>222.0</td>\n",
       "      <td>19.0</td>\n",
       "      <td>...</td>\n",
       "      <td>2.0</td>\n",
       "      <td>4769.0</td>\n",
       "      <td>4598</td>\n",
       "      <td>58836.0</td>\n",
       "      <td>8.0</td>\n",
       "      <td>11.0</td>\n",
       "      <td>12.0</td>\n",
       "      <td>346.0</td>\n",
       "      <td>71.0</td>\n",
       "      <td>NaN</td>\n",
       "    </tr>\n",
       "    <tr>\n",
       "      <th>1</th>\n",
       "      <td>Gandhi Nagar</td>\n",
       "      <td>0050-02-06 00:00:00.68-04:56:02</td>\n",
       "      <td>01:28.4</td>\n",
       "      <td>0106000020E61000000100000001030000000100000005...</td>\n",
       "      <td>1.0</td>\n",
       "      <td>1.0</td>\n",
       "      <td>3393.0</td>\n",
       "      <td>862.0</td>\n",
       "      <td>742.0</td>\n",
       "      <td>45.0</td>\n",
       "      <td>...</td>\n",
       "      <td>39.0</td>\n",
       "      <td>4893.0</td>\n",
       "      <td>4784</td>\n",
       "      <td>40130.0</td>\n",
       "      <td>32.0</td>\n",
       "      <td>25.0</td>\n",
       "      <td>31.0</td>\n",
       "      <td>774.0</td>\n",
       "      <td>85.0</td>\n",
       "      <td>NaN</td>\n",
       "    </tr>\n",
       "    <tr>\n",
       "      <th>2</th>\n",
       "      <td>ST Colony</td>\n",
       "      <td>0054-08-08 00:00:00.68-04:56:02</td>\n",
       "      <td>01:32.4</td>\n",
       "      <td>0106000020E61000000100000001030000000100000007...</td>\n",
       "      <td>1.0</td>\n",
       "      <td>1.0</td>\n",
       "      <td>740.0</td>\n",
       "      <td>181.0</td>\n",
       "      <td>168.0</td>\n",
       "      <td>5.0</td>\n",
       "      <td>...</td>\n",
       "      <td>1.0</td>\n",
       "      <td>4704.0</td>\n",
       "      <td>5046</td>\n",
       "      <td>37514.0</td>\n",
       "      <td>3.0</td>\n",
       "      <td>12.0</td>\n",
       "      <td>2.0</td>\n",
       "      <td>164.0</td>\n",
       "      <td>24.0</td>\n",
       "      <td>NaN</td>\n",
       "    </tr>\n",
       "    <tr>\n",
       "      <th>3</th>\n",
       "      <td>Kapra Old Village</td>\n",
       "      <td>0056-10-16 00:00:00.68-04:56:02</td>\n",
       "      <td>01:43.1</td>\n",
       "      <td>0106000020E61000000100000001030000000100000009...</td>\n",
       "      <td>1.0</td>\n",
       "      <td>1.0</td>\n",
       "      <td>1262.0</td>\n",
       "      <td>320.0</td>\n",
       "      <td>286.0</td>\n",
       "      <td>43.0</td>\n",
       "      <td>...</td>\n",
       "      <td>36.0</td>\n",
       "      <td>4253.0</td>\n",
       "      <td>6179</td>\n",
       "      <td>0.0</td>\n",
       "      <td>9.0</td>\n",
       "      <td>5.0</td>\n",
       "      <td>4.0</td>\n",
       "      <td>302.0</td>\n",
       "      <td>36.0</td>\n",
       "      <td>NaN</td>\n",
       "    </tr>\n",
       "    <tr>\n",
       "      <th>4</th>\n",
       "      <td>Yellareddyguda</td>\n",
       "      <td>0063-02-10 00:00:00.68-04:56:02</td>\n",
       "      <td>01:48.9</td>\n",
       "      <td>0106000020E6100000010000000103000000010000000B...</td>\n",
       "      <td>1.0</td>\n",
       "      <td>1.0</td>\n",
       "      <td>997.0</td>\n",
       "      <td>254.0</td>\n",
       "      <td>187.0</td>\n",
       "      <td>7.0</td>\n",
       "      <td>...</td>\n",
       "      <td>17.0</td>\n",
       "      <td>4132.0</td>\n",
       "      <td>4339</td>\n",
       "      <td>42728.0</td>\n",
       "      <td>7.0</td>\n",
       "      <td>3.0</td>\n",
       "      <td>7.0</td>\n",
       "      <td>237.0</td>\n",
       "      <td>31.0</td>\n",
       "      <td>NaN</td>\n",
       "    </tr>\n",
       "  </tbody>\n",
       "</table>\n",
       "<p>5 rows × 34 columns</p>\n",
       "</div>"
      ],
      "text/plain": [
       "    name_of_the_slum                       created_at updated_at  \\\n",
       "0       Nirmal Nagar  0046-06-13 00:00:00.68-04:56:02    26:43.2   \n",
       "1       Gandhi Nagar  0050-02-06 00:00:00.68-04:56:02    01:28.4   \n",
       "2          ST Colony  0054-08-08 00:00:00.68-04:56:02    01:32.4   \n",
       "3  Kapra Old Village  0056-10-16 00:00:00.68-04:56:02    01:43.1   \n",
       "4     Yellareddyguda  0063-02-10 00:00:00.68-04:56:02    01:48.9   \n",
       "\n",
       "                                            the_geom  circle_number  \\\n",
       "0  0106000020E61000000100000001030000000100000006...           16.0   \n",
       "1  0106000020E61000000100000001030000000100000005...            1.0   \n",
       "2  0106000020E61000000100000001030000000100000007...            1.0   \n",
       "3  0106000020E61000000100000001030000000100000009...            1.0   \n",
       "4  0106000020E6100000010000000103000000010000000B...            1.0   \n",
       "\n",
       "   ward_number  population  households  number_of_bpl_households  minority  \\\n",
       "0        134.0      1576.0       377.0                     222.0      19.0   \n",
       "1          1.0      3393.0       862.0                     742.0      45.0   \n",
       "2          1.0       740.0       181.0                     168.0       5.0   \n",
       "3          1.0      1262.0       320.0                     286.0      43.0   \n",
       "4          1.0       997.0       254.0                     187.0       7.0   \n",
       "\n",
       "  ...   structure_kuccha  avg_monthly_income  avg_monthly_expenditure  \\\n",
       "0 ...                2.0              4769.0                     4598   \n",
       "1 ...               39.0              4893.0                     4784   \n",
       "2 ...                1.0              4704.0                     5046   \n",
       "3 ...               36.0              4253.0                     6179   \n",
       "4 ...               17.0              4132.0                     4339   \n",
       "\n",
       "   debts_outstanding  zerotoone_years_of_stay  onetothree_years_of_stay  \\\n",
       "0            58836.0                      8.0                      11.0   \n",
       "1            40130.0                     32.0                      25.0   \n",
       "2            37514.0                      3.0                      12.0   \n",
       "3                0.0                      9.0                       5.0   \n",
       "4            42728.0                      7.0                       3.0   \n",
       "\n",
       "   threetofive_years_of_stay  morethanfive_years_of_stay  \\\n",
       "0                       12.0                       346.0   \n",
       "1                       31.0                       774.0   \n",
       "2                        2.0                       164.0   \n",
       "3                        4.0                       302.0   \n",
       "4                        7.0                       237.0   \n",
       "\n",
       "   female_headed_households  age  \n",
       "0                      71.0  NaN  \n",
       "1                      85.0  NaN  \n",
       "2                      24.0  NaN  \n",
       "3                      36.0  NaN  \n",
       "4                      31.0  NaN  \n",
       "\n",
       "[5 rows x 34 columns]"
      ]
     },
     "execution_count": 18,
     "metadata": {},
     "output_type": "execute_result"
    }
   ],
   "source": [
    "slums.head() #The dataset is a spatialised one, hence the_geom column. "
   ]
  },
  {
   "cell_type": "markdown",
   "metadata": {},
   "source": [
    "Now let's look at the columns in the database."
   ]
  },
  {
   "cell_type": "code",
   "execution_count": 19,
   "metadata": {
    "collapsed": false
   },
   "outputs": [
    {
     "data": {
      "text/plain": [
       "Index(['name_of_the_slum', 'created_at', 'updated_at', 'the_geom',\n",
       "       'circle_number', 'ward_number', 'population', 'households',\n",
       "       'number_of_bpl_households', 'minority', 'caste_general', 'caste_sc',\n",
       "       'caste_st', 'caste_obc', 'literacy_literates', 'literacy_illiterates',\n",
       "       'tenure_patta', 'tenure_possession_certificate', 'tenure_private_land',\n",
       "       'tenure_public', 'tenure_rented', 'tenure_others', 'structure_pucca',\n",
       "       'structure_semipucca', 'structure_kuccha', 'avg_monthly_income',\n",
       "       'avg_monthly_expenditure', 'debts_outstanding',\n",
       "       'zerotoone_years_of_stay', 'onetothree_years_of_stay',\n",
       "       'threetofive_years_of_stay', 'morethanfive_years_of_stay',\n",
       "       'female_headed_households', 'age'],\n",
       "      dtype='object')"
      ]
     },
     "execution_count": 19,
     "metadata": {},
     "output_type": "execute_result"
    }
   ],
   "source": [
    "slums.columns"
   ]
  },
  {
   "cell_type": "markdown",
   "metadata": {},
   "source": [
    "So there are the following things in the dataset. \n",
    "* Name of the Slums\n",
    "\n",
    "* The Municipal Circle and Ward Number\n",
    "\n",
    "* The number of Households and Population slumwise.\n",
    "\n",
    "* The number of Households that are Below Poverty Line (BPL) - It means there are people in slums who are not poor as defined by the government's definition. This becomes crucial because - it is often assumed that the slum is a proxy for urban poverty. Gautam Bhan and Arindam Jana's paper argues otherwise (http://epw.yodasoft.com/journal/2015/22/review-urban-affairs-review-issues/reading-spatial-inequality-urban-india.html)\n",
    "\n",
    "* Caste Parameters : In Indian cities, Caste is an important index. The households that are \"General\", \"Scheduled Caste\", \"Scheduled Tribe\" or \"Other Backward Castes\" are all counted and have their own columns.\n",
    "\n",
    "* Tenure Parameters: Because the dataset is primarily about eliminating slums with the idea of providing Government built houses, the land tenure status of the slum households is essential to know. They are Patta, Possession Certificate, Slums on Private Land, Slums on Public Land, Households that are renters and Other tenures that do not fit under this framework. \n",
    "\n",
    "* Structure of the House : This pertains to what kind of a house the slum dweller lives on. Pucca means a stable house made out of concrete, Semipucca could mean a not so stable house and Kuccha house means a house made out of mud/wood/etc. \n",
    "\n",
    "* Average Monthly Income, Expenditure and Debt.\n",
    "\n",
    "* The number of years have the dwellers stayed in the slums \n",
    "\n",
    "* Number of Female Headed Households. "
   ]
  },
  {
   "cell_type": "markdown",
   "metadata": {},
   "source": [
    "## 1. What are the total number of slums in Hyderabad? What is the number of people who live in slums? How much percentage of the city's population lives in slums?"
   ]
  },
  {
   "cell_type": "code",
   "execution_count": 20,
   "metadata": {
    "collapsed": false
   },
   "outputs": [
    {
     "name": "stdout",
     "output_type": "stream",
     "text": [
      "The total number of people who live in slums in Hyderabad are 1620452\n",
      "\n",
      "The percentage of people who live in slums is 24.0716362216\n"
     ]
    }
   ],
   "source": [
    "totalpopulation=slums['population'].sum()\n",
    "print(\"The total number of people who live in slums in Hyderabad are\",int(totalpopulation))\n",
    "print(\"\")\n",
    "populationofhyderabad=6731790 #According to the 2011 census. \n",
    "percentageofpopulation=(totalpopulation/populationofhyderabad)*100\n",
    "print(\"The percentage of people who live in slums is\",(percentageofpopulation))"
   ]
  },
  {
   "cell_type": "markdown",
   "metadata": {},
   "source": [
    "A quarter of the city's population approximately lives in slums."
   ]
  },
  {
   "cell_type": "markdown",
   "metadata": {},
   "source": [
    "## 2. What is the average number of households in a slum? What is the average family size?"
   ]
  },
  {
   "cell_type": "code",
   "execution_count": 21,
   "metadata": {
    "collapsed": false
   },
   "outputs": [
    {
     "name": "stdout",
     "output_type": "stream",
     "text": [
      "The total number of slum households is 380286.0\n",
      "\n",
      "The average number of households in a slum is 272.802008608\n",
      "\n",
      "The average family size is 4.26114029967\n"
     ]
    }
   ],
   "source": [
    "print(\"The total number of slum households is\",slums['households'].sum())\n",
    "print(\"\")\n",
    "print(\"The average number of households in a slum is\",slums['households'].mean())\n",
    "print(\"\")\n",
    "print(\"The average family size is\", (slums['population'].sum()/slums['households'].sum()))"
   ]
  },
  {
   "cell_type": "markdown",
   "metadata": {},
   "source": [
    "## 3. Which circles have the maximum number of slums?"
   ]
  },
  {
   "cell_type": "markdown",
   "metadata": {},
   "source": [
    "Circle here refers to a Municipal Subdivision. The city is divided into 18 circles, with each circle being further subdivided into wards. The city has 150 of these wards. "
   ]
  },
  {
   "cell_type": "code",
   "execution_count": 22,
   "metadata": {
    "collapsed": false
   },
   "outputs": [
    {
     "data": {
      "text/plain": [
       "4.0     190\n",
       "9.0     183\n",
       "10.0    159\n",
       "7.0     137\n",
       "18.0    119\n",
       "5.0      75\n",
       "3.0      70\n",
       "15.0     65\n",
       "14.0     63\n",
       "16.0     52\n",
       "17.0     49\n",
       "1.0      48\n",
       "8.0      44\n",
       "6.0      39\n",
       "11.0     37\n",
       "12.0     30\n",
       "2.0      27\n",
       "13.0      7\n",
       "Name: circle_number, dtype: int64"
      ]
     },
     "execution_count": 22,
     "metadata": {},
     "output_type": "execute_result"
    }
   ],
   "source": [
    "circle_count=slums['circle_number'].value_counts()\n",
    "circle_count"
   ]
  },
  {
   "cell_type": "code",
   "execution_count": 23,
   "metadata": {
    "collapsed": false
   },
   "outputs": [
    {
     "data": {
      "text/plain": [
       "<matplotlib.axes._subplots.AxesSubplot at 0x1c0f8e35e48>"
      ]
     },
     "execution_count": 23,
     "metadata": {},
     "output_type": "execute_result"
    },
    {
     "data": {
      "image/png": "[encoded data removed]",
      "text/plain": [
       "<matplotlib.figure.Figure at 0x1c0fb46ca58>"
      ]
     },
     "metadata": {},
     "output_type": "display_data"
    }
   ],
   "source": [
    "plt.style.use('ggplot')\n",
    "circle_count.plot(kind='bar',x='Circle Number',y='Number of Slums',legend=False, figsize=(10,10))"
   ]
  },
  {
   "cell_type": "markdown",
   "metadata": {},
   "source": [
    "Circle 4 - which is the old city quarter of Hyderabad has the maximum number of slums in terms of numbers. "
   ]
  },
  {
   "cell_type": "markdown",
   "metadata": {},
   "source": [
    "## 4. Which wards have the maximum number of slums?"
   ]
  },
  {
   "cell_type": "code",
   "execution_count": 24,
   "metadata": {
    "collapsed": false
   },
   "outputs": [
    {
     "data": {
      "text/plain": [
       "0.0      109\n",
       "108.0     43\n",
       "148.0     21\n",
       "77.0      20\n",
       "94.0      20\n",
       "82.0      19\n",
       "61.0      19\n",
       "126.0     17\n",
       "125.0     17\n",
       "105.0     17\n",
       "134.0     17\n",
       "133.0     17\n",
       "109.0     16\n",
       "114.0     16\n",
       "35.0      16\n",
       "119.0     16\n",
       "135.0     16\n",
       "9.0       15\n",
       "3.0       15\n",
       "83.0      15\n",
       "Name: ward_number, dtype: int64"
      ]
     },
     "execution_count": 24,
     "metadata": {},
     "output_type": "execute_result"
    }
   ],
   "source": [
    "slums['ward_number'].value_counts().head(20)"
   ]
  },
  {
   "cell_type": "markdown",
   "metadata": {},
   "source": [
    "Because the data is faulty, there are slums whose ward numbers is empty, ie 0.The remainder of the list are the ward numbers with maximum slums and on the right are the number of slums in them. That makes ward 108 have the maximum number of slums. On introspecting on a map(in CartoDB) - one is curious to know why is it that this ward has a highly fragmented number of slums, often not more than a couple of houses. "
   ]
  },
  {
   "cell_type": "markdown",
   "metadata": {},
   "source": [
    "## 5. What is the total literacy level in the slums? "
   ]
  },
  {
   "cell_type": "markdown",
   "metadata": {},
   "source": [
    "We count the total number of literates in each slum and compare it with the total population. "
   ]
  },
  {
   "cell_type": "code",
   "execution_count": 25,
   "metadata": {
    "collapsed": false
   },
   "outputs": [
    {
     "name": "stdout",
     "output_type": "stream",
     "text": [
      "The total percentage of literacy in slums is 90.7613431314\n"
     ]
    }
   ],
   "source": [
    "print(\"The total percentage of literacy in slums is\",(slums['literacy_literates'].sum())/(slums['population'].sum())*100)"
   ]
  },
  {
   "cell_type": "markdown",
   "metadata": {},
   "source": [
    "## 6. What percentage of households in the slum are BPL(Below Poverty Level)?"
   ]
  },
  {
   "cell_type": "markdown",
   "metadata": {},
   "source": [
    "As argued above, there are valid concerns that the slum might not be a great proxy for urban powerty. But if the percentage of households that are Below Poverty Line is high enough, then the slum can be considered as a proxy for urban poverty."
   ]
  },
  {
   "cell_type": "code",
   "execution_count": 26,
   "metadata": {
    "collapsed": false
   },
   "outputs": [
    {
     "data": {
      "text/plain": [
       "84.167968318581273"
      ]
     },
     "execution_count": 26,
     "metadata": {},
     "output_type": "execute_result"
    }
   ],
   "source": [
    "(slums['number_of_bpl_households'].sum())/(slums['households'].sum())*100 "
   ]
  },
  {
   "cell_type": "markdown",
   "metadata": {},
   "source": [
    "That is high enough for us to consider the slum as a decent proxy for urban poverty in Hyderabad. "
   ]
  },
  {
   "cell_type": "markdown",
   "metadata": {},
   "source": [
    "### The remaining data in its absolute number forms make it impossible for us to compare slums among each other. It would be useful to convert the caste, tenure, age, structures into percentages, making it easy to compare. "
   ]
  },
  {
   "cell_type": "markdown",
   "metadata": {},
   "source": [
    "Now, we create new columns in the dataframe using the existing columns and check. "
   ]
  },
  {
   "cell_type": "code",
   "execution_count": 27,
   "metadata": {
    "collapsed": false
   },
   "outputs": [],
   "source": [
    "slums['percentageofliterates']=slums['literacy_literates']/slums['population']*100"
   ]
  },
  {
   "cell_type": "code",
   "execution_count": 28,
   "metadata": {
    "collapsed": false
   },
   "outputs": [
    {
     "data": {
      "text/plain": [
       "89.81595730956937"
      ]
     },
     "execution_count": 28,
     "metadata": {},
     "output_type": "execute_result"
    }
   ],
   "source": [
    "slums['percentageofliterates'].mean()"
   ]
  },
  {
   "cell_type": "markdown",
   "metadata": {},
   "source": [
    "On closer introspection, it is found that the other datasets are per household and not population wise like tha literacy percentage. So we do the addition of the following columns into the dataframe. So we repeat the above calculation for percentage of households below poverty line. "
   ]
  },
  {
   "cell_type": "code",
   "execution_count": 29,
   "metadata": {
    "collapsed": false
   },
   "outputs": [],
   "source": [
    "slums['percentageofbplhouseholds']=slums['number_of_bpl_households']/slums['households']*100"
   ]
  },
  {
   "cell_type": "markdown",
   "metadata": {},
   "source": [
    "Now we repeat this for the Caste Parameters. "
   ]
  },
  {
   "cell_type": "code",
   "execution_count": 30,
   "metadata": {
    "collapsed": true
   },
   "outputs": [],
   "source": [
    "slums['percentageofgeneral'] = slums['caste_general']/slums['households']*100\n",
    "slums['percentageofminority']= slums['minority']/slums['households']*100\n",
    "slums['percentageofobc'] = slums['caste_obc']/slums['households']*100\n",
    "slums['percentageofsc'] = slums['caste_sc']/slums['households']*100\n",
    "slums['percentageofst'] = slums['caste_st']/slums['households']*100"
   ]
  },
  {
   "cell_type": "markdown",
   "metadata": {},
   "source": [
    "And for the type of structures.."
   ]
  },
  {
   "cell_type": "code",
   "execution_count": 31,
   "metadata": {
    "collapsed": true
   },
   "outputs": [],
   "source": [
    "slums['percentageofpuccastructures'] = slums['structure_pucca']/slums['households']*100\n",
    "slums['percentageofsemipuccastructures'] = slums['structure_semipucca']/slums['households']*100\n",
    "slums['percentageofkucchastructures'] = slums['structure_kuccha']/slums['households']*100"
   ]
  },
  {
   "cell_type": "markdown",
   "metadata": {},
   "source": [
    ".. And for the kind of tenure"
   ]
  },
  {
   "cell_type": "code",
   "execution_count": 32,
   "metadata": {
    "collapsed": true
   },
   "outputs": [],
   "source": [
    "slums['percentageoftenure_patta'] = slums['tenure_patta']/slums['households']*100\n",
    "slums['percentageoftenure_pc'] = slums['tenure_possession_certificate']/slums['households']*100\n",
    "slums['percentageoftenure_private'] = slums['tenure_private_land']/slums['households']*100\n",
    "slums['percentageoftenure_public'] = slums['tenure_public']/slums['households']*100\n",
    "slums['percentageoftenure_renters'] = slums['tenure_rented']/slums['households']*100\n",
    "slums['percentageoftenure_other'] = slums['tenure_others']/slums['households']*100"
   ]
  },
  {
   "cell_type": "markdown",
   "metadata": {},
   "source": [
    "and finally for the number of years the residents have stayed.."
   ]
  },
  {
   "cell_type": "code",
   "execution_count": 33,
   "metadata": {
    "collapsed": true
   },
   "outputs": [],
   "source": [
    "\n",
    "slums['percentageoftenure_0to1'] = slums['zerotoone_years_of_stay']/slums['households']*100\n",
    "slums['percentageoftenure_1to3'] = slums['onetothree_years_of_stay']/slums['households']*100\n",
    "slums['percentageoftenure_3to5'] = slums['threetofive_years_of_stay']/slums['households']*100\n",
    "slums['percentageoftenure_morethan5'] = slums['morethanfive_years_of_stay']/slums['households']*100"
   ]
  },
  {
   "cell_type": "markdown",
   "metadata": {},
   "source": [
    "Now, let us see how the slums dataframe looks like"
   ]
  },
  {
   "cell_type": "code",
   "execution_count": 34,
   "metadata": {
    "collapsed": false
   },
   "outputs": [
    {
     "data": {
      "text/html": [
       "<div>\n",
       "<table border=\"1\" class=\"dataframe\">\n",
       "  <thead>\n",
       "    <tr style=\"text-align: right;\">\n",
       "      <th></th>\n",
       "      <th>name_of_the_slum</th>\n",
       "      <th>created_at</th>\n",
       "      <th>updated_at</th>\n",
       "      <th>the_geom</th>\n",
       "      <th>circle_number</th>\n",
       "      <th>ward_number</th>\n",
       "      <th>population</th>\n",
       "      <th>households</th>\n",
       "      <th>number_of_bpl_households</th>\n",
       "      <th>minority</th>\n",
       "      <th>...</th>\n",
       "      <th>percentageoftenure_patta</th>\n",
       "      <th>percentageoftenure_pc</th>\n",
       "      <th>percentageoftenure_private</th>\n",
       "      <th>percentageoftenure_public</th>\n",
       "      <th>percentageoftenure_renters</th>\n",
       "      <th>percentageoftenure_other</th>\n",
       "      <th>percentageoftenure_0to1</th>\n",
       "      <th>percentageoftenure_1to3</th>\n",
       "      <th>percentageoftenure_3to5</th>\n",
       "      <th>percentageoftenure_morethan5</th>\n",
       "    </tr>\n",
       "  </thead>\n",
       "  <tbody>\n",
       "    <tr>\n",
       "      <th>0</th>\n",
       "      <td>Nirmal Nagar</td>\n",
       "      <td>0046-06-13 00:00:00.68-04:56:02</td>\n",
       "      <td>26:43.2</td>\n",
       "      <td>0106000020E61000000100000001030000000100000006...</td>\n",
       "      <td>16.0</td>\n",
       "      <td>134.0</td>\n",
       "      <td>1576.0</td>\n",
       "      <td>377.0</td>\n",
       "      <td>222.0</td>\n",
       "      <td>19.0</td>\n",
       "      <td>...</td>\n",
       "      <td>61.538462</td>\n",
       "      <td>2.387268</td>\n",
       "      <td>0.530504</td>\n",
       "      <td>0.000000</td>\n",
       "      <td>34.748011</td>\n",
       "      <td>0.795756</td>\n",
       "      <td>2.122016</td>\n",
       "      <td>2.917772</td>\n",
       "      <td>3.183024</td>\n",
       "      <td>91.777188</td>\n",
       "    </tr>\n",
       "    <tr>\n",
       "      <th>1</th>\n",
       "      <td>Gandhi Nagar</td>\n",
       "      <td>0050-02-06 00:00:00.68-04:56:02</td>\n",
       "      <td>01:28.4</td>\n",
       "      <td>0106000020E61000000100000001030000000100000005...</td>\n",
       "      <td>1.0</td>\n",
       "      <td>1.0</td>\n",
       "      <td>3393.0</td>\n",
       "      <td>862.0</td>\n",
       "      <td>742.0</td>\n",
       "      <td>45.0</td>\n",
       "      <td>...</td>\n",
       "      <td>32.830626</td>\n",
       "      <td>8.932715</td>\n",
       "      <td>0.000000</td>\n",
       "      <td>0.000000</td>\n",
       "      <td>57.888631</td>\n",
       "      <td>0.348028</td>\n",
       "      <td>3.712297</td>\n",
       "      <td>2.900232</td>\n",
       "      <td>3.596288</td>\n",
       "      <td>89.791183</td>\n",
       "    </tr>\n",
       "    <tr>\n",
       "      <th>2</th>\n",
       "      <td>ST Colony</td>\n",
       "      <td>0054-08-08 00:00:00.68-04:56:02</td>\n",
       "      <td>01:32.4</td>\n",
       "      <td>0106000020E61000000100000001030000000100000007...</td>\n",
       "      <td>1.0</td>\n",
       "      <td>1.0</td>\n",
       "      <td>740.0</td>\n",
       "      <td>181.0</td>\n",
       "      <td>168.0</td>\n",
       "      <td>5.0</td>\n",
       "      <td>...</td>\n",
       "      <td>40.331492</td>\n",
       "      <td>13.812155</td>\n",
       "      <td>0.000000</td>\n",
       "      <td>6.077348</td>\n",
       "      <td>39.226519</td>\n",
       "      <td>0.552486</td>\n",
       "      <td>1.657459</td>\n",
       "      <td>6.629834</td>\n",
       "      <td>1.104972</td>\n",
       "      <td>90.607735</td>\n",
       "    </tr>\n",
       "    <tr>\n",
       "      <th>3</th>\n",
       "      <td>Kapra Old Village</td>\n",
       "      <td>0056-10-16 00:00:00.68-04:56:02</td>\n",
       "      <td>01:43.1</td>\n",
       "      <td>0106000020E61000000100000001030000000100000009...</td>\n",
       "      <td>1.0</td>\n",
       "      <td>1.0</td>\n",
       "      <td>1262.0</td>\n",
       "      <td>320.0</td>\n",
       "      <td>286.0</td>\n",
       "      <td>43.0</td>\n",
       "      <td>...</td>\n",
       "      <td>55.000000</td>\n",
       "      <td>28.750000</td>\n",
       "      <td>0.625000</td>\n",
       "      <td>0.000000</td>\n",
       "      <td>15.312500</td>\n",
       "      <td>0.312500</td>\n",
       "      <td>2.812500</td>\n",
       "      <td>1.562500</td>\n",
       "      <td>1.250000</td>\n",
       "      <td>94.375000</td>\n",
       "    </tr>\n",
       "    <tr>\n",
       "      <th>4</th>\n",
       "      <td>Yellareddyguda</td>\n",
       "      <td>0063-02-10 00:00:00.68-04:56:02</td>\n",
       "      <td>01:48.9</td>\n",
       "      <td>0106000020E6100000010000000103000000010000000B...</td>\n",
       "      <td>1.0</td>\n",
       "      <td>1.0</td>\n",
       "      <td>997.0</td>\n",
       "      <td>254.0</td>\n",
       "      <td>187.0</td>\n",
       "      <td>7.0</td>\n",
       "      <td>...</td>\n",
       "      <td>83.858268</td>\n",
       "      <td>4.330709</td>\n",
       "      <td>0.787402</td>\n",
       "      <td>0.000000</td>\n",
       "      <td>7.086614</td>\n",
       "      <td>3.937008</td>\n",
       "      <td>2.755906</td>\n",
       "      <td>1.181102</td>\n",
       "      <td>2.755906</td>\n",
       "      <td>93.307087</td>\n",
       "    </tr>\n",
       "  </tbody>\n",
       "</table>\n",
       "<p>5 rows × 54 columns</p>\n",
       "</div>"
      ],
      "text/plain": [
       "    name_of_the_slum                       created_at updated_at  \\\n",
       "0       Nirmal Nagar  0046-06-13 00:00:00.68-04:56:02    26:43.2   \n",
       "1       Gandhi Nagar  0050-02-06 00:00:00.68-04:56:02    01:28.4   \n",
       "2          ST Colony  0054-08-08 00:00:00.68-04:56:02    01:32.4   \n",
       "3  Kapra Old Village  0056-10-16 00:00:00.68-04:56:02    01:43.1   \n",
       "4     Yellareddyguda  0063-02-10 00:00:00.68-04:56:02    01:48.9   \n",
       "\n",
       "                                            the_geom  circle_number  \\\n",
       "0  0106000020E61000000100000001030000000100000006...           16.0   \n",
       "1  0106000020E61000000100000001030000000100000005...            1.0   \n",
       "2  0106000020E61000000100000001030000000100000007...            1.0   \n",
       "3  0106000020E61000000100000001030000000100000009...            1.0   \n",
       "4  0106000020E6100000010000000103000000010000000B...            1.0   \n",
       "\n",
       "   ward_number  population  households  number_of_bpl_households  minority  \\\n",
       "0        134.0      1576.0       377.0                     222.0      19.0   \n",
       "1          1.0      3393.0       862.0                     742.0      45.0   \n",
       "2          1.0       740.0       181.0                     168.0       5.0   \n",
       "3          1.0      1262.0       320.0                     286.0      43.0   \n",
       "4          1.0       997.0       254.0                     187.0       7.0   \n",
       "\n",
       "               ...               percentageoftenure_patta  \\\n",
       "0              ...                              61.538462   \n",
       "1              ...                              32.830626   \n",
       "2              ...                              40.331492   \n",
       "3              ...                              55.000000   \n",
       "4              ...                              83.858268   \n",
       "\n",
       "   percentageoftenure_pc  percentageoftenure_private  \\\n",
       "0               2.387268                    0.530504   \n",
       "1               8.932715                    0.000000   \n",
       "2              13.812155                    0.000000   \n",
       "3              28.750000                    0.625000   \n",
       "4               4.330709                    0.787402   \n",
       "\n",
       "   percentageoftenure_public  percentageoftenure_renters  \\\n",
       "0                   0.000000                   34.748011   \n",
       "1                   0.000000                   57.888631   \n",
       "2                   6.077348                   39.226519   \n",
       "3                   0.000000                   15.312500   \n",
       "4                   0.000000                    7.086614   \n",
       "\n",
       "   percentageoftenure_other  percentageoftenure_0to1  percentageoftenure_1to3  \\\n",
       "0                  0.795756                 2.122016                 2.917772   \n",
       "1                  0.348028                 3.712297                 2.900232   \n",
       "2                  0.552486                 1.657459                 6.629834   \n",
       "3                  0.312500                 2.812500                 1.562500   \n",
       "4                  3.937008                 2.755906                 1.181102   \n",
       "\n",
       "   percentageoftenure_3to5  percentageoftenure_morethan5  \n",
       "0                 3.183024                     91.777188  \n",
       "1                 3.596288                     89.791183  \n",
       "2                 1.104972                     90.607735  \n",
       "3                 1.250000                     94.375000  \n",
       "4                 2.755906                     93.307087  \n",
       "\n",
       "[5 rows x 54 columns]"
      ]
     },
     "execution_count": 34,
     "metadata": {},
     "output_type": "execute_result"
    }
   ],
   "source": [
    "slums.head()"
   ]
  },
  {
   "cell_type": "code",
   "execution_count": 35,
   "metadata": {
    "collapsed": false
   },
   "outputs": [
    {
     "data": {
      "text/plain": [
       "Index(['name_of_the_slum', 'created_at', 'updated_at', 'the_geom',\n",
       "       'circle_number', 'ward_number', 'population', 'households',\n",
       "       'number_of_bpl_households', 'minority', 'caste_general', 'caste_sc',\n",
       "       'caste_st', 'caste_obc', 'literacy_literates', 'literacy_illiterates',\n",
       "       'tenure_patta', 'tenure_possession_certificate', 'tenure_private_land',\n",
       "       'tenure_public', 'tenure_rented', 'tenure_others', 'structure_pucca',\n",
       "       'structure_semipucca', 'structure_kuccha', 'avg_monthly_income',\n",
       "       'avg_monthly_expenditure', 'debts_outstanding',\n",
       "       'zerotoone_years_of_stay', 'onetothree_years_of_stay',\n",
       "       'threetofive_years_of_stay', 'morethanfive_years_of_stay',\n",
       "       'female_headed_households', 'age', 'percentageofliterates',\n",
       "       'percentageofbplhouseholds', 'percentageofgeneral',\n",
       "       'percentageofminority', 'percentageofobc', 'percentageofsc',\n",
       "       'percentageofst', 'percentageofpuccastructures',\n",
       "       'percentageofsemipuccastructures', 'percentageofkucchastructures',\n",
       "       'percentageoftenure_patta', 'percentageoftenure_pc',\n",
       "       'percentageoftenure_private', 'percentageoftenure_public',\n",
       "       'percentageoftenure_renters', 'percentageoftenure_other',\n",
       "       'percentageoftenure_0to1', 'percentageoftenure_1to3',\n",
       "       'percentageoftenure_3to5', 'percentageoftenure_morethan5'],\n",
       "      dtype='object')"
      ]
     },
     "execution_count": 35,
     "metadata": {},
     "output_type": "execute_result"
    }
   ],
   "source": [
    "slums.columns"
   ]
  },
  {
   "cell_type": "markdown",
   "metadata": {},
   "source": [
    "We now have the data with all the calculations necessary made for analysis and now we begin. "
   ]
  },
  {
   "cell_type": "markdown",
   "metadata": {},
   "source": [
    "## CASTE PARAMETERS"
   ]
  },
  {
   "cell_type": "markdown",
   "metadata": {},
   "source": [
    "#### 7. Which slums have the highest percentage of households that belong to the General Caste?"
   ]
  },
  {
   "cell_type": "code",
   "execution_count": 36,
   "metadata": {
    "collapsed": false,
    "scrolled": true
   },
   "outputs": [
    {
     "data": {
      "text/html": [
       "<div>\n",
       "<table border=\"1\" class=\"dataframe\">\n",
       "  <thead>\n",
       "    <tr style=\"text-align: right;\">\n",
       "      <th></th>\n",
       "      <th>name_of_the_slum</th>\n",
       "      <th>created_at</th>\n",
       "      <th>updated_at</th>\n",
       "      <th>the_geom</th>\n",
       "      <th>circle_number</th>\n",
       "      <th>ward_number</th>\n",
       "      <th>population</th>\n",
       "      <th>households</th>\n",
       "      <th>number_of_bpl_households</th>\n",
       "      <th>minority</th>\n",
       "      <th>...</th>\n",
       "      <th>percentageoftenure_patta</th>\n",
       "      <th>percentageoftenure_pc</th>\n",
       "      <th>percentageoftenure_private</th>\n",
       "      <th>percentageoftenure_public</th>\n",
       "      <th>percentageoftenure_renters</th>\n",
       "      <th>percentageoftenure_other</th>\n",
       "      <th>percentageoftenure_0to1</th>\n",
       "      <th>percentageoftenure_1to3</th>\n",
       "      <th>percentageoftenure_3to5</th>\n",
       "      <th>percentageoftenure_morethan5</th>\n",
       "    </tr>\n",
       "  </thead>\n",
       "  <tbody>\n",
       "    <tr>\n",
       "      <th>652</th>\n",
       "      <td>Kashiram Jeera</td>\n",
       "      <td>0019-08-08 00:00:00.68-04:56:02</td>\n",
       "      <td>26:43.2</td>\n",
       "      <td>0106000020E61000000100000001030000000100000008...</td>\n",
       "      <td>9.0</td>\n",
       "      <td>81.0</td>\n",
       "      <td>112.0</td>\n",
       "      <td>29.0</td>\n",
       "      <td>27.0</td>\n",
       "      <td>0.0</td>\n",
       "      <td>...</td>\n",
       "      <td>72.413793</td>\n",
       "      <td>0.000000</td>\n",
       "      <td>13.793103</td>\n",
       "      <td>0.000000</td>\n",
       "      <td>10.344828</td>\n",
       "      <td>3.448276</td>\n",
       "      <td>0.000000</td>\n",
       "      <td>0.000000</td>\n",
       "      <td>0.000000</td>\n",
       "      <td>100.000000</td>\n",
       "    </tr>\n",
       "    <tr>\n",
       "      <th>439</th>\n",
       "      <td>Taranagar Weaker Section Colony</td>\n",
       "      <td>0001-11-05 00:00:00.68-04:56:02</td>\n",
       "      <td>26:43.2</td>\n",
       "      <td>0106000020E6100000010000000103000000010000000C...</td>\n",
       "      <td>12.0</td>\n",
       "      <td>114.0</td>\n",
       "      <td>35.0</td>\n",
       "      <td>9.0</td>\n",
       "      <td>8.0</td>\n",
       "      <td>0.0</td>\n",
       "      <td>...</td>\n",
       "      <td>100.000000</td>\n",
       "      <td>0.000000</td>\n",
       "      <td>0.000000</td>\n",
       "      <td>0.000000</td>\n",
       "      <td>0.000000</td>\n",
       "      <td>0.000000</td>\n",
       "      <td>0.000000</td>\n",
       "      <td>0.000000</td>\n",
       "      <td>0.000000</td>\n",
       "      <td>100.000000</td>\n",
       "    </tr>\n",
       "    <tr>\n",
       "      <th>232</th>\n",
       "      <td>Bandambi,Turakapalli Bollaram</td>\n",
       "      <td>0018-08-10 00:00:00.68-04:56:02</td>\n",
       "      <td>26:43.2</td>\n",
       "      <td>0106000020E6100000010000000103000000010000000D...</td>\n",
       "      <td>16.0</td>\n",
       "      <td>133.0</td>\n",
       "      <td>278.0</td>\n",
       "      <td>68.0</td>\n",
       "      <td>66.0</td>\n",
       "      <td>0.0</td>\n",
       "      <td>...</td>\n",
       "      <td>30.882353</td>\n",
       "      <td>0.000000</td>\n",
       "      <td>0.000000</td>\n",
       "      <td>19.117647</td>\n",
       "      <td>10.294118</td>\n",
       "      <td>39.705882</td>\n",
       "      <td>10.294118</td>\n",
       "      <td>2.941176</td>\n",
       "      <td>0.000000</td>\n",
       "      <td>86.764706</td>\n",
       "    </tr>\n",
       "    <tr>\n",
       "      <th>1284</th>\n",
       "      <td>Prakash Nagar i8</td>\n",
       "      <td>0010-11-14 00:00:00.68-04:56:02</td>\n",
       "      <td>26:43.2</td>\n",
       "      <td>0106000020E61000000100000001030000000100000005...</td>\n",
       "      <td>18.0</td>\n",
       "      <td>148.0</td>\n",
       "      <td>181.0</td>\n",
       "      <td>45.0</td>\n",
       "      <td>36.0</td>\n",
       "      <td>5.0</td>\n",
       "      <td>...</td>\n",
       "      <td>71.111111</td>\n",
       "      <td>24.444444</td>\n",
       "      <td>2.222222</td>\n",
       "      <td>0.000000</td>\n",
       "      <td>2.222222</td>\n",
       "      <td>0.000000</td>\n",
       "      <td>0.000000</td>\n",
       "      <td>0.000000</td>\n",
       "      <td>13.333333</td>\n",
       "      <td>86.666667</td>\n",
       "    </tr>\n",
       "    <tr>\n",
       "      <th>253</th>\n",
       "      <td>Kranthi Nagar</td>\n",
       "      <td>0053-03-13 00:00:00.68-04:56:02</td>\n",
       "      <td>26:43.2</td>\n",
       "      <td>0106000020E6100000010000000103000000010000000D...</td>\n",
       "      <td>4.0</td>\n",
       "      <td>27.0</td>\n",
       "      <td>208.0</td>\n",
       "      <td>51.0</td>\n",
       "      <td>51.0</td>\n",
       "      <td>0.0</td>\n",
       "      <td>...</td>\n",
       "      <td>88.235294</td>\n",
       "      <td>0.000000</td>\n",
       "      <td>0.000000</td>\n",
       "      <td>0.000000</td>\n",
       "      <td>11.764706</td>\n",
       "      <td>0.000000</td>\n",
       "      <td>0.000000</td>\n",
       "      <td>0.000000</td>\n",
       "      <td>0.000000</td>\n",
       "      <td>100.000000</td>\n",
       "    </tr>\n",
       "  </tbody>\n",
       "</table>\n",
       "<p>5 rows × 54 columns</p>\n",
       "</div>"
      ],
      "text/plain": [
       "                     name_of_the_slum                       created_at  \\\n",
       "652                    Kashiram Jeera  0019-08-08 00:00:00.68-04:56:02   \n",
       "439   Taranagar Weaker Section Colony  0001-11-05 00:00:00.68-04:56:02   \n",
       "232     Bandambi,Turakapalli Bollaram  0018-08-10 00:00:00.68-04:56:02   \n",
       "1284                 Prakash Nagar i8  0010-11-14 00:00:00.68-04:56:02   \n",
       "253                     Kranthi Nagar  0053-03-13 00:00:00.68-04:56:02   \n",
       "\n",
       "     updated_at                                           the_geom  \\\n",
       "652     26:43.2  0106000020E61000000100000001030000000100000008...   \n",
       "439     26:43.2  0106000020E6100000010000000103000000010000000C...   \n",
       "232     26:43.2  0106000020E6100000010000000103000000010000000D...   \n",
       "1284    26:43.2  0106000020E61000000100000001030000000100000005...   \n",
       "253     26:43.2  0106000020E6100000010000000103000000010000000D...   \n",
       "\n",
       "      circle_number  ward_number  population  households  \\\n",
       "652             9.0         81.0       112.0        29.0   \n",
       "439            12.0        114.0        35.0         9.0   \n",
       "232            16.0        133.0       278.0        68.0   \n",
       "1284           18.0        148.0       181.0        45.0   \n",
       "253             4.0         27.0       208.0        51.0   \n",
       "\n",
       "      number_of_bpl_households  minority              ...               \\\n",
       "652                       27.0       0.0              ...                \n",
       "439                        8.0       0.0              ...                \n",
       "232                       66.0       0.0              ...                \n",
       "1284                      36.0       5.0              ...                \n",
       "253                       51.0       0.0              ...                \n",
       "\n",
       "      percentageoftenure_patta  percentageoftenure_pc  \\\n",
       "652                  72.413793               0.000000   \n",
       "439                 100.000000               0.000000   \n",
       "232                  30.882353               0.000000   \n",
       "1284                 71.111111              24.444444   \n",
       "253                  88.235294               0.000000   \n",
       "\n",
       "      percentageoftenure_private  percentageoftenure_public  \\\n",
       "652                    13.793103                   0.000000   \n",
       "439                     0.000000                   0.000000   \n",
       "232                     0.000000                  19.117647   \n",
       "1284                    2.222222                   0.000000   \n",
       "253                     0.000000                   0.000000   \n",
       "\n",
       "      percentageoftenure_renters  percentageoftenure_other  \\\n",
       "652                    10.344828                  3.448276   \n",
       "439                     0.000000                  0.000000   \n",
       "232                    10.294118                 39.705882   \n",
       "1284                    2.222222                  0.000000   \n",
       "253                    11.764706                  0.000000   \n",
       "\n",
       "      percentageoftenure_0to1  percentageoftenure_1to3  \\\n",
       "652                  0.000000                 0.000000   \n",
       "439                  0.000000                 0.000000   \n",
       "232                 10.294118                 2.941176   \n",
       "1284                 0.000000                 0.000000   \n",
       "253                  0.000000                 0.000000   \n",
       "\n",
       "      percentageoftenure_3to5  percentageoftenure_morethan5  \n",
       "652                  0.000000                    100.000000  \n",
       "439                  0.000000                    100.000000  \n",
       "232                  0.000000                     86.764706  \n",
       "1284                13.333333                     86.666667  \n",
       "253                  0.000000                    100.000000  \n",
       "\n",
       "[5 rows x 54 columns]"
      ]
     },
     "execution_count": 36,
     "metadata": {},
     "output_type": "execute_result"
    }
   ],
   "source": [
    "slums.sort_values(by='percentageofgeneral').head(5)"
   ]
  },
  {
   "cell_type": "markdown",
   "metadata": {},
   "source": [
    "#### 8. Which slums have the highest percentage of households that belong to the SC Caste?"
   ]
  },
  {
   "cell_type": "code",
   "execution_count": 37,
   "metadata": {
    "collapsed": false
   },
   "outputs": [
    {
     "data": {
      "text/html": [
       "<div>\n",
       "<table border=\"1\" class=\"dataframe\">\n",
       "  <thead>\n",
       "    <tr style=\"text-align: right;\">\n",
       "      <th></th>\n",
       "      <th>name_of_the_slum</th>\n",
       "      <th>created_at</th>\n",
       "      <th>updated_at</th>\n",
       "      <th>the_geom</th>\n",
       "      <th>circle_number</th>\n",
       "      <th>ward_number</th>\n",
       "      <th>population</th>\n",
       "      <th>households</th>\n",
       "      <th>number_of_bpl_households</th>\n",
       "      <th>minority</th>\n",
       "      <th>...</th>\n",
       "      <th>percentageoftenure_patta</th>\n",
       "      <th>percentageoftenure_pc</th>\n",
       "      <th>percentageoftenure_private</th>\n",
       "      <th>percentageoftenure_public</th>\n",
       "      <th>percentageoftenure_renters</th>\n",
       "      <th>percentageoftenure_other</th>\n",
       "      <th>percentageoftenure_0to1</th>\n",
       "      <th>percentageoftenure_1to3</th>\n",
       "      <th>percentageoftenure_3to5</th>\n",
       "      <th>percentageoftenure_morethan5</th>\n",
       "    </tr>\n",
       "  </thead>\n",
       "  <tbody>\n",
       "    <tr>\n",
       "      <th>1016</th>\n",
       "      <td>Mecca Masjid</td>\n",
       "      <td>0032-06-10 00:00:00.68-04:56:02</td>\n",
       "      <td>26:43.2</td>\n",
       "      <td>0106000020E61000000100000001030000000100000005...</td>\n",
       "      <td>5.0</td>\n",
       "      <td>48.0</td>\n",
       "      <td>832.0</td>\n",
       "      <td>151.0</td>\n",
       "      <td>149.0</td>\n",
       "      <td>150.0</td>\n",
       "      <td>...</td>\n",
       "      <td>22.516556</td>\n",
       "      <td>0.0</td>\n",
       "      <td>1.324503</td>\n",
       "      <td>46.357616</td>\n",
       "      <td>29.139073</td>\n",
       "      <td>0.662252</td>\n",
       "      <td>1.324503</td>\n",
       "      <td>0.000000</td>\n",
       "      <td>0.000000</td>\n",
       "      <td>98.675497</td>\n",
       "    </tr>\n",
       "    <tr>\n",
       "      <th>697</th>\n",
       "      <td>Ashok Nagar</td>\n",
       "      <td>0056-08-12 00:00:00.68-04:56:02</td>\n",
       "      <td>26:43.2</td>\n",
       "      <td>0106000020E61000000100000001030000000100000015...</td>\n",
       "      <td>9.0</td>\n",
       "      <td>83.0</td>\n",
       "      <td>283.0</td>\n",
       "      <td>60.0</td>\n",
       "      <td>58.0</td>\n",
       "      <td>55.0</td>\n",
       "      <td>...</td>\n",
       "      <td>8.333333</td>\n",
       "      <td>0.0</td>\n",
       "      <td>58.333333</td>\n",
       "      <td>0.000000</td>\n",
       "      <td>33.333333</td>\n",
       "      <td>0.000000</td>\n",
       "      <td>1.666667</td>\n",
       "      <td>0.000000</td>\n",
       "      <td>0.000000</td>\n",
       "      <td>98.333333</td>\n",
       "    </tr>\n",
       "    <tr>\n",
       "      <th>238</th>\n",
       "      <td>Ekalavya nagar,Weaker Section</td>\n",
       "      <td>0031-01-12 00:00:00.68-04:56:02</td>\n",
       "      <td>26:43.2</td>\n",
       "      <td>0106000020E61000000100000001030000000100000009...</td>\n",
       "      <td>16.0</td>\n",
       "      <td>133.0</td>\n",
       "      <td>133.0</td>\n",
       "      <td>36.0</td>\n",
       "      <td>36.0</td>\n",
       "      <td>0.0</td>\n",
       "      <td>...</td>\n",
       "      <td>61.111111</td>\n",
       "      <td>0.0</td>\n",
       "      <td>0.000000</td>\n",
       "      <td>0.000000</td>\n",
       "      <td>38.888889</td>\n",
       "      <td>0.000000</td>\n",
       "      <td>22.222222</td>\n",
       "      <td>2.777778</td>\n",
       "      <td>0.000000</td>\n",
       "      <td>75.000000</td>\n",
       "    </tr>\n",
       "    <tr>\n",
       "      <th>1085</th>\n",
       "      <td>Andooroon Karwan</td>\n",
       "      <td>0003-11-07 00:00:00.68-04:56:02</td>\n",
       "      <td>26:43.2</td>\n",
       "      <td>0106000020E6100000010000000103000000010000000A...</td>\n",
       "      <td>7.0</td>\n",
       "      <td>61.0</td>\n",
       "      <td>956.0</td>\n",
       "      <td>242.0</td>\n",
       "      <td>93.0</td>\n",
       "      <td>109.0</td>\n",
       "      <td>...</td>\n",
       "      <td>42.561983</td>\n",
       "      <td>0.0</td>\n",
       "      <td>0.413223</td>\n",
       "      <td>0.413223</td>\n",
       "      <td>42.148760</td>\n",
       "      <td>14.462810</td>\n",
       "      <td>0.413223</td>\n",
       "      <td>0.413223</td>\n",
       "      <td>0.413223</td>\n",
       "      <td>98.760331</td>\n",
       "    </tr>\n",
       "    <tr>\n",
       "      <th>926</th>\n",
       "      <td>Nazeer Nagar</td>\n",
       "      <td>0032-07-12 00:00:00.68-04:56:02</td>\n",
       "      <td>26:43.2</td>\n",
       "      <td>0106000020E6100000010000000103000000010000000A...</td>\n",
       "      <td>9.0</td>\n",
       "      <td>81.0</td>\n",
       "      <td>170.0</td>\n",
       "      <td>42.0</td>\n",
       "      <td>42.0</td>\n",
       "      <td>0.0</td>\n",
       "      <td>...</td>\n",
       "      <td>100.000000</td>\n",
       "      <td>0.0</td>\n",
       "      <td>0.000000</td>\n",
       "      <td>0.000000</td>\n",
       "      <td>0.000000</td>\n",
       "      <td>0.000000</td>\n",
       "      <td>0.000000</td>\n",
       "      <td>0.000000</td>\n",
       "      <td>0.000000</td>\n",
       "      <td>100.000000</td>\n",
       "    </tr>\n",
       "  </tbody>\n",
       "</table>\n",
       "<p>5 rows × 54 columns</p>\n",
       "</div>"
      ],
      "text/plain": [
       "                   name_of_the_slum                       created_at  \\\n",
       "1016                   Mecca Masjid  0032-06-10 00:00:00.68-04:56:02   \n",
       "697                     Ashok Nagar  0056-08-12 00:00:00.68-04:56:02   \n",
       "238   Ekalavya nagar,Weaker Section  0031-01-12 00:00:00.68-04:56:02   \n",
       "1085               Andooroon Karwan  0003-11-07 00:00:00.68-04:56:02   \n",
       "926                    Nazeer Nagar  0032-07-12 00:00:00.68-04:56:02   \n",
       "\n",
       "     updated_at                                           the_geom  \\\n",
       "1016    26:43.2  0106000020E61000000100000001030000000100000005...   \n",
       "697     26:43.2  0106000020E61000000100000001030000000100000015...   \n",
       "238     26:43.2  0106000020E61000000100000001030000000100000009...   \n",
       "1085    26:43.2  0106000020E6100000010000000103000000010000000A...   \n",
       "926     26:43.2  0106000020E6100000010000000103000000010000000A...   \n",
       "\n",
       "      circle_number  ward_number  population  households  \\\n",
       "1016            5.0         48.0       832.0       151.0   \n",
       "697             9.0         83.0       283.0        60.0   \n",
       "238            16.0        133.0       133.0        36.0   \n",
       "1085            7.0         61.0       956.0       242.0   \n",
       "926             9.0         81.0       170.0        42.0   \n",
       "\n",
       "      number_of_bpl_households  minority              ...               \\\n",
       "1016                     149.0     150.0              ...                \n",
       "697                       58.0      55.0              ...                \n",
       "238                       36.0       0.0              ...                \n",
       "1085                      93.0     109.0              ...                \n",
       "926                       42.0       0.0              ...                \n",
       "\n",
       "      percentageoftenure_patta  percentageoftenure_pc  \\\n",
       "1016                 22.516556                    0.0   \n",
       "697                   8.333333                    0.0   \n",
       "238                  61.111111                    0.0   \n",
       "1085                 42.561983                    0.0   \n",
       "926                 100.000000                    0.0   \n",
       "\n",
       "      percentageoftenure_private  percentageoftenure_public  \\\n",
       "1016                    1.324503                  46.357616   \n",
       "697                    58.333333                   0.000000   \n",
       "238                     0.000000                   0.000000   \n",
       "1085                    0.413223                   0.413223   \n",
       "926                     0.000000                   0.000000   \n",
       "\n",
       "      percentageoftenure_renters  percentageoftenure_other  \\\n",
       "1016                   29.139073                  0.662252   \n",
       "697                    33.333333                  0.000000   \n",
       "238                    38.888889                  0.000000   \n",
       "1085                   42.148760                 14.462810   \n",
       "926                     0.000000                  0.000000   \n",
       "\n",
       "      percentageoftenure_0to1  percentageoftenure_1to3  \\\n",
       "1016                 1.324503                 0.000000   \n",
       "697                  1.666667                 0.000000   \n",
       "238                 22.222222                 2.777778   \n",
       "1085                 0.413223                 0.413223   \n",
       "926                  0.000000                 0.000000   \n",
       "\n",
       "      percentageoftenure_3to5  percentageoftenure_morethan5  \n",
       "1016                 0.000000                     98.675497  \n",
       "697                  0.000000                     98.333333  \n",
       "238                  0.000000                     75.000000  \n",
       "1085                 0.413223                     98.760331  \n",
       "926                  0.000000                    100.000000  \n",
       "\n",
       "[5 rows x 54 columns]"
      ]
     },
     "execution_count": 37,
     "metadata": {},
     "output_type": "execute_result"
    }
   ],
   "source": [
    "slums.sort_values(by='percentageofsc').head(5)"
   ]
  },
  {
   "cell_type": "markdown",
   "metadata": {},
   "source": [
    "#### 9. Which slums have the highest percentage of households that belong to the ST Caste?"
   ]
  },
  {
   "cell_type": "code",
   "execution_count": 38,
   "metadata": {
    "collapsed": false
   },
   "outputs": [
    {
     "data": {
      "text/html": [
       "<div>\n",
       "<table border=\"1\" class=\"dataframe\">\n",
       "  <thead>\n",
       "    <tr style=\"text-align: right;\">\n",
       "      <th></th>\n",
       "      <th>name_of_the_slum</th>\n",
       "      <th>created_at</th>\n",
       "      <th>updated_at</th>\n",
       "      <th>the_geom</th>\n",
       "      <th>circle_number</th>\n",
       "      <th>ward_number</th>\n",
       "      <th>population</th>\n",
       "      <th>households</th>\n",
       "      <th>number_of_bpl_households</th>\n",
       "      <th>minority</th>\n",
       "      <th>...</th>\n",
       "      <th>percentageoftenure_patta</th>\n",
       "      <th>percentageoftenure_pc</th>\n",
       "      <th>percentageoftenure_private</th>\n",
       "      <th>percentageoftenure_public</th>\n",
       "      <th>percentageoftenure_renters</th>\n",
       "      <th>percentageoftenure_other</th>\n",
       "      <th>percentageoftenure_0to1</th>\n",
       "      <th>percentageoftenure_1to3</th>\n",
       "      <th>percentageoftenure_3to5</th>\n",
       "      <th>percentageoftenure_morethan5</th>\n",
       "    </tr>\n",
       "  </thead>\n",
       "  <tbody>\n",
       "    <tr>\n",
       "      <th>1394</th>\n",
       "      <td>Ayyappa Colony Slum</td>\n",
       "      <td>0060-01-08 00:00:00.68-04:56:02</td>\n",
       "      <td>02:15.5</td>\n",
       "      <td>0106000020E61000000100000001030000000100000008...</td>\n",
       "      <td>3.0</td>\n",
       "      <td>9.0</td>\n",
       "      <td>408.0</td>\n",
       "      <td>89.0</td>\n",
       "      <td>88.0</td>\n",
       "      <td>3.0</td>\n",
       "      <td>...</td>\n",
       "      <td>56.179775</td>\n",
       "      <td>0.000000</td>\n",
       "      <td>0.000000</td>\n",
       "      <td>0.000000</td>\n",
       "      <td>26.966292</td>\n",
       "      <td>16.853933</td>\n",
       "      <td>2.247191</td>\n",
       "      <td>3.370787</td>\n",
       "      <td>0.000000</td>\n",
       "      <td>94.382022</td>\n",
       "    </tr>\n",
       "    <tr>\n",
       "      <th>888</th>\n",
       "      <td>Thalla Basthi(non)</td>\n",
       "      <td>0017-02-14 00:00:00.68-04:56:02</td>\n",
       "      <td>26:43.2</td>\n",
       "      <td>0106000020E61000000100000001030000000100000007...</td>\n",
       "      <td>9.0</td>\n",
       "      <td>94.0</td>\n",
       "      <td>126.0</td>\n",
       "      <td>33.0</td>\n",
       "      <td>33.0</td>\n",
       "      <td>1.0</td>\n",
       "      <td>...</td>\n",
       "      <td>3.030303</td>\n",
       "      <td>0.000000</td>\n",
       "      <td>0.000000</td>\n",
       "      <td>0.000000</td>\n",
       "      <td>69.696970</td>\n",
       "      <td>27.272727</td>\n",
       "      <td>30.303030</td>\n",
       "      <td>3.030303</td>\n",
       "      <td>0.000000</td>\n",
       "      <td>66.666667</td>\n",
       "    </tr>\n",
       "    <tr>\n",
       "      <th>891</th>\n",
       "      <td>Anna Nagar</td>\n",
       "      <td>0029-03-10 00:00:00.68-04:56:02</td>\n",
       "      <td>26:43.2</td>\n",
       "      <td>0106000020E61000000100000001030000000100000007...</td>\n",
       "      <td>9.0</td>\n",
       "      <td>94.0</td>\n",
       "      <td>245.0</td>\n",
       "      <td>63.0</td>\n",
       "      <td>61.0</td>\n",
       "      <td>5.0</td>\n",
       "      <td>...</td>\n",
       "      <td>1.587302</td>\n",
       "      <td>0.000000</td>\n",
       "      <td>22.222222</td>\n",
       "      <td>76.190476</td>\n",
       "      <td>0.000000</td>\n",
       "      <td>0.000000</td>\n",
       "      <td>1.587302</td>\n",
       "      <td>0.000000</td>\n",
       "      <td>0.000000</td>\n",
       "      <td>98.412698</td>\n",
       "    </tr>\n",
       "    <tr>\n",
       "      <th>894</th>\n",
       "      <td>Deen Dayal Nagar</td>\n",
       "      <td>0036-09-07 00:00:00.68-04:56:02</td>\n",
       "      <td>26:43.2</td>\n",
       "      <td>0106000020E61000000100000001030000000100000008...</td>\n",
       "      <td>9.0</td>\n",
       "      <td>94.0</td>\n",
       "      <td>419.0</td>\n",
       "      <td>97.0</td>\n",
       "      <td>78.0</td>\n",
       "      <td>7.0</td>\n",
       "      <td>...</td>\n",
       "      <td>70.103093</td>\n",
       "      <td>5.154639</td>\n",
       "      <td>0.000000</td>\n",
       "      <td>0.000000</td>\n",
       "      <td>18.556701</td>\n",
       "      <td>6.185567</td>\n",
       "      <td>2.061856</td>\n",
       "      <td>1.030928</td>\n",
       "      <td>0.000000</td>\n",
       "      <td>96.907216</td>\n",
       "    </tr>\n",
       "    <tr>\n",
       "      <th>896</th>\n",
       "      <td>Gudalal Basthi</td>\n",
       "      <td>0002-11-08 00:00:00.68-04:56:02</td>\n",
       "      <td>26:43.2</td>\n",
       "      <td>0106000020E61000000100000001030000000100000006...</td>\n",
       "      <td>9.0</td>\n",
       "      <td>94.0</td>\n",
       "      <td>299.0</td>\n",
       "      <td>81.0</td>\n",
       "      <td>75.0</td>\n",
       "      <td>3.0</td>\n",
       "      <td>...</td>\n",
       "      <td>11.111111</td>\n",
       "      <td>1.234568</td>\n",
       "      <td>45.679012</td>\n",
       "      <td>0.000000</td>\n",
       "      <td>40.740741</td>\n",
       "      <td>1.234568</td>\n",
       "      <td>1.234568</td>\n",
       "      <td>2.469136</td>\n",
       "      <td>4.938272</td>\n",
       "      <td>91.358025</td>\n",
       "    </tr>\n",
       "  </tbody>\n",
       "</table>\n",
       "<p>5 rows × 54 columns</p>\n",
       "</div>"
      ],
      "text/plain": [
       "         name_of_the_slum                       created_at updated_at  \\\n",
       "1394  Ayyappa Colony Slum  0060-01-08 00:00:00.68-04:56:02    02:15.5   \n",
       "888    Thalla Basthi(non)  0017-02-14 00:00:00.68-04:56:02    26:43.2   \n",
       "891            Anna Nagar  0029-03-10 00:00:00.68-04:56:02    26:43.2   \n",
       "894      Deen Dayal Nagar  0036-09-07 00:00:00.68-04:56:02    26:43.2   \n",
       "896        Gudalal Basthi  0002-11-08 00:00:00.68-04:56:02    26:43.2   \n",
       "\n",
       "                                               the_geom  circle_number  \\\n",
       "1394  0106000020E61000000100000001030000000100000008...            3.0   \n",
       "888   0106000020E61000000100000001030000000100000007...            9.0   \n",
       "891   0106000020E61000000100000001030000000100000007...            9.0   \n",
       "894   0106000020E61000000100000001030000000100000008...            9.0   \n",
       "896   0106000020E61000000100000001030000000100000006...            9.0   \n",
       "\n",
       "      ward_number  population  households  number_of_bpl_households  minority  \\\n",
       "1394          9.0       408.0        89.0                      88.0       3.0   \n",
       "888          94.0       126.0        33.0                      33.0       1.0   \n",
       "891          94.0       245.0        63.0                      61.0       5.0   \n",
       "894          94.0       419.0        97.0                      78.0       7.0   \n",
       "896          94.0       299.0        81.0                      75.0       3.0   \n",
       "\n",
       "                  ...               percentageoftenure_patta  \\\n",
       "1394              ...                              56.179775   \n",
       "888               ...                               3.030303   \n",
       "891               ...                               1.587302   \n",
       "894               ...                              70.103093   \n",
       "896               ...                              11.111111   \n",
       "\n",
       "      percentageoftenure_pc  percentageoftenure_private  \\\n",
       "1394               0.000000                    0.000000   \n",
       "888                0.000000                    0.000000   \n",
       "891                0.000000                   22.222222   \n",
       "894                5.154639                    0.000000   \n",
       "896                1.234568                   45.679012   \n",
       "\n",
       "      percentageoftenure_public  percentageoftenure_renters  \\\n",
       "1394                   0.000000                   26.966292   \n",
       "888                    0.000000                   69.696970   \n",
       "891                   76.190476                    0.000000   \n",
       "894                    0.000000                   18.556701   \n",
       "896                    0.000000                   40.740741   \n",
       "\n",
       "      percentageoftenure_other  percentageoftenure_0to1  \\\n",
       "1394                 16.853933                 2.247191   \n",
       "888                  27.272727                30.303030   \n",
       "891                   0.000000                 1.587302   \n",
       "894                   6.185567                 2.061856   \n",
       "896                   1.234568                 1.234568   \n",
       "\n",
       "      percentageoftenure_1to3  percentageoftenure_3to5  \\\n",
       "1394                 3.370787                 0.000000   \n",
       "888                  3.030303                 0.000000   \n",
       "891                  0.000000                 0.000000   \n",
       "894                  1.030928                 0.000000   \n",
       "896                  2.469136                 4.938272   \n",
       "\n",
       "      percentageoftenure_morethan5  \n",
       "1394                     94.382022  \n",
       "888                      66.666667  \n",
       "891                      98.412698  \n",
       "894                      96.907216  \n",
       "896                      91.358025  \n",
       "\n",
       "[5 rows x 54 columns]"
      ]
     },
     "execution_count": 38,
     "metadata": {},
     "output_type": "execute_result"
    }
   ],
   "source": [
    "slums.sort_values(by='percentageofst').head(5)"
   ]
  },
  {
   "cell_type": "markdown",
   "metadata": {},
   "source": [
    "#### 10. Which slums have the highest percentage of households that belong to the OBC Caste?"
   ]
  },
  {
   "cell_type": "code",
   "execution_count": 39,
   "metadata": {
    "collapsed": false
   },
   "outputs": [
    {
     "data": {
      "text/html": [
       "<div>\n",
       "<table border=\"1\" class=\"dataframe\">\n",
       "  <thead>\n",
       "    <tr style=\"text-align: right;\">\n",
       "      <th></th>\n",
       "      <th>name_of_the_slum</th>\n",
       "      <th>created_at</th>\n",
       "      <th>updated_at</th>\n",
       "      <th>the_geom</th>\n",
       "      <th>circle_number</th>\n",
       "      <th>ward_number</th>\n",
       "      <th>population</th>\n",
       "      <th>households</th>\n",
       "      <th>number_of_bpl_households</th>\n",
       "      <th>minority</th>\n",
       "      <th>...</th>\n",
       "      <th>percentageoftenure_patta</th>\n",
       "      <th>percentageoftenure_pc</th>\n",
       "      <th>percentageoftenure_private</th>\n",
       "      <th>percentageoftenure_public</th>\n",
       "      <th>percentageoftenure_renters</th>\n",
       "      <th>percentageoftenure_other</th>\n",
       "      <th>percentageoftenure_0to1</th>\n",
       "      <th>percentageoftenure_1to3</th>\n",
       "      <th>percentageoftenure_3to5</th>\n",
       "      <th>percentageoftenure_morethan5</th>\n",
       "    </tr>\n",
       "  </thead>\n",
       "  <tbody>\n",
       "    <tr>\n",
       "      <th>1172</th>\n",
       "      <td>Ambedkar Individual Colony</td>\n",
       "      <td>0006-07-12 00:00:00.68-04:56:02</td>\n",
       "      <td>26:43.2</td>\n",
       "      <td>0106000020E61000000100000001030000000100000005...</td>\n",
       "      <td>10.0</td>\n",
       "      <td>108.0</td>\n",
       "      <td>158.0</td>\n",
       "      <td>41.0</td>\n",
       "      <td>33.0</td>\n",
       "      <td>14.0</td>\n",
       "      <td>...</td>\n",
       "      <td>70.731707</td>\n",
       "      <td>0.000000</td>\n",
       "      <td>0.000000</td>\n",
       "      <td>0.000000</td>\n",
       "      <td>29.268293</td>\n",
       "      <td>0.000000</td>\n",
       "      <td>2.439024</td>\n",
       "      <td>0.000000</td>\n",
       "      <td>4.878049</td>\n",
       "      <td>92.682927</td>\n",
       "    </tr>\n",
       "    <tr>\n",
       "      <th>1351</th>\n",
       "      <td>Kimthi Colony</td>\n",
       "      <td>0041-07-03 00:00:00.68-04:56:02</td>\n",
       "      <td>26:43.2</td>\n",
       "      <td>0106000020E61000000100000001030000000100000005...</td>\n",
       "      <td>18.0</td>\n",
       "      <td>140.0</td>\n",
       "      <td>149.0</td>\n",
       "      <td>33.0</td>\n",
       "      <td>28.0</td>\n",
       "      <td>0.0</td>\n",
       "      <td>...</td>\n",
       "      <td>0.000000</td>\n",
       "      <td>3.030303</td>\n",
       "      <td>48.484848</td>\n",
       "      <td>0.000000</td>\n",
       "      <td>0.000000</td>\n",
       "      <td>48.484848</td>\n",
       "      <td>0.000000</td>\n",
       "      <td>0.000000</td>\n",
       "      <td>0.000000</td>\n",
       "      <td>100.000000</td>\n",
       "    </tr>\n",
       "    <tr>\n",
       "      <th>327</th>\n",
       "      <td>Dood Khana Galli</td>\n",
       "      <td>0061-02-07 00:00:00.68-04:56:02</td>\n",
       "      <td>26:43.2</td>\n",
       "      <td>0106000020E6100000010000000103000000010000000F...</td>\n",
       "      <td>4.0</td>\n",
       "      <td>42.0</td>\n",
       "      <td>1195.0</td>\n",
       "      <td>307.0</td>\n",
       "      <td>218.0</td>\n",
       "      <td>1.0</td>\n",
       "      <td>...</td>\n",
       "      <td>25.081433</td>\n",
       "      <td>14.657980</td>\n",
       "      <td>0.325733</td>\n",
       "      <td>0.000000</td>\n",
       "      <td>59.283388</td>\n",
       "      <td>0.651466</td>\n",
       "      <td>13.355049</td>\n",
       "      <td>8.794788</td>\n",
       "      <td>3.908795</td>\n",
       "      <td>73.941368</td>\n",
       "    </tr>\n",
       "    <tr>\n",
       "      <th>1000</th>\n",
       "      <td>Palem Road</td>\n",
       "      <td>0029-12-11 00:00:00.68-04:56:02</td>\n",
       "      <td>26:43.2</td>\n",
       "      <td>0106000020E61000000100000001030000000100000007...</td>\n",
       "      <td>5.0</td>\n",
       "      <td>54.0</td>\n",
       "      <td>869.0</td>\n",
       "      <td>157.0</td>\n",
       "      <td>34.0</td>\n",
       "      <td>148.0</td>\n",
       "      <td>...</td>\n",
       "      <td>2.547771</td>\n",
       "      <td>3.184713</td>\n",
       "      <td>25.477707</td>\n",
       "      <td>0.000000</td>\n",
       "      <td>68.152866</td>\n",
       "      <td>0.636943</td>\n",
       "      <td>3.821656</td>\n",
       "      <td>0.636943</td>\n",
       "      <td>0.636943</td>\n",
       "      <td>94.904459</td>\n",
       "    </tr>\n",
       "    <tr>\n",
       "      <th>757</th>\n",
       "      <td>M.M. Pahadi</td>\n",
       "      <td>0048-04-14 00:00:00.68-04:56:02</td>\n",
       "      <td>26:43.2</td>\n",
       "      <td>0106000020E61000000100000001030000000100000008...</td>\n",
       "      <td>6.0</td>\n",
       "      <td>60.0</td>\n",
       "      <td>3729.0</td>\n",
       "      <td>697.0</td>\n",
       "      <td>572.0</td>\n",
       "      <td>427.0</td>\n",
       "      <td>...</td>\n",
       "      <td>49.928264</td>\n",
       "      <td>0.860832</td>\n",
       "      <td>13.629842</td>\n",
       "      <td>0.430416</td>\n",
       "      <td>34.720230</td>\n",
       "      <td>0.430416</td>\n",
       "      <td>6.025825</td>\n",
       "      <td>6.025825</td>\n",
       "      <td>6.599713</td>\n",
       "      <td>81.348637</td>\n",
       "    </tr>\n",
       "  </tbody>\n",
       "</table>\n",
       "<p>5 rows × 54 columns</p>\n",
       "</div>"
      ],
      "text/plain": [
       "                name_of_the_slum                       created_at updated_at  \\\n",
       "1172  Ambedkar Individual Colony  0006-07-12 00:00:00.68-04:56:02    26:43.2   \n",
       "1351               Kimthi Colony  0041-07-03 00:00:00.68-04:56:02    26:43.2   \n",
       "327             Dood Khana Galli  0061-02-07 00:00:00.68-04:56:02    26:43.2   \n",
       "1000                  Palem Road  0029-12-11 00:00:00.68-04:56:02    26:43.2   \n",
       "757                  M.M. Pahadi  0048-04-14 00:00:00.68-04:56:02    26:43.2   \n",
       "\n",
       "                                               the_geom  circle_number  \\\n",
       "1172  0106000020E61000000100000001030000000100000005...           10.0   \n",
       "1351  0106000020E61000000100000001030000000100000005...           18.0   \n",
       "327   0106000020E6100000010000000103000000010000000F...            4.0   \n",
       "1000  0106000020E61000000100000001030000000100000007...            5.0   \n",
       "757   0106000020E61000000100000001030000000100000008...            6.0   \n",
       "\n",
       "      ward_number  population  households  number_of_bpl_households  minority  \\\n",
       "1172        108.0       158.0        41.0                      33.0      14.0   \n",
       "1351        140.0       149.0        33.0                      28.0       0.0   \n",
       "327          42.0      1195.0       307.0                     218.0       1.0   \n",
       "1000         54.0       869.0       157.0                      34.0     148.0   \n",
       "757          60.0      3729.0       697.0                     572.0     427.0   \n",
       "\n",
       "                  ...               percentageoftenure_patta  \\\n",
       "1172              ...                              70.731707   \n",
       "1351              ...                               0.000000   \n",
       "327               ...                              25.081433   \n",
       "1000              ...                               2.547771   \n",
       "757               ...                              49.928264   \n",
       "\n",
       "      percentageoftenure_pc  percentageoftenure_private  \\\n",
       "1172               0.000000                    0.000000   \n",
       "1351               3.030303                   48.484848   \n",
       "327               14.657980                    0.325733   \n",
       "1000               3.184713                   25.477707   \n",
       "757                0.860832                   13.629842   \n",
       "\n",
       "      percentageoftenure_public  percentageoftenure_renters  \\\n",
       "1172                   0.000000                   29.268293   \n",
       "1351                   0.000000                    0.000000   \n",
       "327                    0.000000                   59.283388   \n",
       "1000                   0.000000                   68.152866   \n",
       "757                    0.430416                   34.720230   \n",
       "\n",
       "      percentageoftenure_other  percentageoftenure_0to1  \\\n",
       "1172                  0.000000                 2.439024   \n",
       "1351                 48.484848                 0.000000   \n",
       "327                   0.651466                13.355049   \n",
       "1000                  0.636943                 3.821656   \n",
       "757                   0.430416                 6.025825   \n",
       "\n",
       "      percentageoftenure_1to3  percentageoftenure_3to5  \\\n",
       "1172                 0.000000                 4.878049   \n",
       "1351                 0.000000                 0.000000   \n",
       "327                  8.794788                 3.908795   \n",
       "1000                 0.636943                 0.636943   \n",
       "757                  6.025825                 6.599713   \n",
       "\n",
       "      percentageoftenure_morethan5  \n",
       "1172                     92.682927  \n",
       "1351                    100.000000  \n",
       "327                      73.941368  \n",
       "1000                     94.904459  \n",
       "757                      81.348637  \n",
       "\n",
       "[5 rows x 54 columns]"
      ]
     },
     "execution_count": 39,
     "metadata": {},
     "output_type": "execute_result"
    }
   ],
   "source": [
    "slums.sort_values(by='percentageofobc').head(5)"
   ]
  },
  {
   "cell_type": "markdown",
   "metadata": {},
   "source": [
    "Now, we see what percentage of each of these castes live in slums."
   ]
  },
  {
   "cell_type": "code",
   "execution_count": 48,
   "metadata": {
    "collapsed": false
   },
   "outputs": [
    {
     "name": "stdout",
     "output_type": "stream",
     "text": [
      "25.1731439978 24.3594508224 3.89997499162 46.5674301882\n"
     ]
    }
   ],
   "source": [
    "a=slums['percentageofgeneral'].mean()\n",
    "b=slums['percentageofsc'].mean()\n",
    "c=slums['percentageofst'].mean()\n",
    "d=slums['percentageofobc'].mean()\n",
    "print(a,b,c,d)\n"
   ]
  },
  {
   "cell_type": "code",
   "execution_count": 49,
   "metadata": {
    "collapsed": false
   },
   "outputs": [
    {
     "data": {
      "text/plain": [
       "<matplotlib.axes._subplots.AxesSubplot at 0x1c0fab41ba8>"
      ]
     },
     "execution_count": 49,
     "metadata": {},
     "output_type": "execute_result"
    },
    {
     "data": {
      "image/png": "[encoded data removed]",
      "text/plain": [
       "<matplotlib.figure.Figure at 0x1c0fab2b0b8>"
      ]
     },
     "metadata": {},
     "output_type": "display_data"
    }
   ],
   "source": [
    "plt.style.use('ggplot')\n",
    "series=pd.Series([a,b,c,d], index=['General', 'SC', 'ST','OBC'], name='Caste Percentages')\n",
    "series.plot.pie(figsize=(6, 6))"
   ]
  },
  {
   "cell_type": "markdown",
   "metadata": {},
   "source": [
    "## STRUCTURES OF HOUSES"
   ]
  },
  {
   "cell_type": "markdown",
   "metadata": {},
   "source": [
    "Now let us see the number of households that are proper pucca structures:\n",
    "#### 11. What percentage of Households are Pucca Structures?"
   ]
  },
  {
   "cell_type": "code",
   "execution_count": 50,
   "metadata": {
    "collapsed": false
   },
   "outputs": [],
   "source": [
    "a=slums['percentageofpuccastructures'].mean()"
   ]
  },
  {
   "cell_type": "markdown",
   "metadata": {},
   "source": [
    "That's roughly about half of them. What about the remaining half?\n",
    "#### 12. What percentage of Households are Semi-pucca Structures?"
   ]
  },
  {
   "cell_type": "code",
   "execution_count": 51,
   "metadata": {
    "collapsed": false
   },
   "outputs": [],
   "source": [
    "b=slums['percentageofsemipuccastructures'].mean()"
   ]
  },
  {
   "cell_type": "markdown",
   "metadata": {},
   "source": [
    "That still leaves out a little bit more... and the remaining structures are made out of..\n",
    "#### 13. What percentage of Households are Neither Semipucca or Pucca Structures?"
   ]
  },
  {
   "cell_type": "code",
   "execution_count": 52,
   "metadata": {
    "collapsed": false
   },
   "outputs": [],
   "source": [
    "c=slums['percentageofkucchastructures'].mean()\n"
   ]
  },
  {
   "cell_type": "code",
   "execution_count": 53,
   "metadata": {
    "collapsed": false
   },
   "outputs": [
    {
     "data": {
      "text/plain": [
       "<matplotlib.axes._subplots.AxesSubplot at 0x1c0fab36438>"
      ]
     },
     "execution_count": 53,
     "metadata": {},
     "output_type": "execute_result"
    },
    {
     "data": {
      "image/png": "[encoded data removed]",
      "text/plain": [
       "<matplotlib.figure.Figure at 0x1c0fab4ff28>"
      ]
     },
     "metadata": {},
     "output_type": "display_data"
    }
   ],
   "source": [
    "plt.style.use('ggplot')\n",
    "series=pd.Series([a,b,c], index=['Pucca Houses', 'Semipucca Houses', 'Kuccha Houses'], name='Household Structure Type')\n",
    "series.plot.pie(figsize=(6, 6))"
   ]
  },
  {
   "cell_type": "markdown",
   "metadata": {},
   "source": [
    "Kaccha houses. "
   ]
  },
  {
   "cell_type": "markdown",
   "metadata": {},
   "source": [
    "## LAND TENURE DETAILS"
   ]
  },
  {
   "cell_type": "markdown",
   "metadata": {},
   "source": [
    "#### 14. What percentage of Households have access to Pattas?"
   ]
  },
  {
   "cell_type": "code",
   "execution_count": 54,
   "metadata": {
    "collapsed": false
   },
   "outputs": [],
   "source": [
    "a=slums['percentageoftenure_patta'].mean()\n"
   ]
  },
  {
   "cell_type": "markdown",
   "metadata": {},
   "source": [
    "#### 15. What percentage of Households have access to Possession Certificates?"
   ]
  },
  {
   "cell_type": "code",
   "execution_count": 55,
   "metadata": {
    "collapsed": false
   },
   "outputs": [],
   "source": [
    "b=slums['percentageoftenure_pc'].mean()\n"
   ]
  },
  {
   "cell_type": "markdown",
   "metadata": {},
   "source": [
    "#### 16. What percentage of Households are on Private Land?"
   ]
  },
  {
   "cell_type": "code",
   "execution_count": 56,
   "metadata": {
    "collapsed": false
   },
   "outputs": [],
   "source": [
    "c=slums['percentageoftenure_private'].mean()"
   ]
  },
  {
   "cell_type": "markdown",
   "metadata": {},
   "source": [
    "#### 17. What percentage of Households are on Public Land?"
   ]
  },
  {
   "cell_type": "code",
   "execution_count": 57,
   "metadata": {
    "collapsed": false
   },
   "outputs": [],
   "source": [
    "d=slums['percentageoftenure_public'].mean()"
   ]
  },
  {
   "cell_type": "markdown",
   "metadata": {},
   "source": [
    "#### 18. What percentage of Households are Renters?"
   ]
  },
  {
   "cell_type": "code",
   "execution_count": 58,
   "metadata": {
    "collapsed": false
   },
   "outputs": [],
   "source": [
    "e=slums['percentageoftenure_renters'].mean()"
   ]
  },
  {
   "cell_type": "markdown",
   "metadata": {},
   "source": [
    "#### 19. What percentage of Households don't fit in any of the other categories?"
   ]
  },
  {
   "cell_type": "code",
   "execution_count": 59,
   "metadata": {
    "collapsed": false
   },
   "outputs": [],
   "source": [
    "f=slums['percentageoftenure_other'].mean()"
   ]
  },
  {
   "cell_type": "code",
   "execution_count": 60,
   "metadata": {
    "collapsed": false
   },
   "outputs": [
    {
     "data": {
      "text/plain": [
       "<matplotlib.axes._subplots.AxesSubplot at 0x1c0fafa6eb8>"
      ]
     },
     "execution_count": 60,
     "metadata": {},
     "output_type": "execute_result"
    },
    {
     "data": {
      "image/png": "[encoded data removed]",
      "text/plain": [
       "<matplotlib.figure.Figure at 0x1c0fad68358>"
      ]
     },
     "metadata": {},
     "output_type": "display_data"
    }
   ],
   "source": [
    "plt.style.use('ggplot')\n",
    "series=pd.Series([a,b,c,d,e,f], index=['Pattas', 'PC', 'Private Land','Public Land','Renters','Others'], name='Tenuree Type')\n",
    "series.plot.pie(figsize=(6, 6))"
   ]
  },
  {
   "cell_type": "markdown",
   "metadata": {},
   "source": [
    "## WHEN HAVE PEOPLE MOVED IN"
   ]
  },
  {
   "cell_type": "markdown",
   "metadata": {},
   "source": [
    "#### 20. What percentage of Households have moved in the last one year?"
   ]
  },
  {
   "cell_type": "code",
   "execution_count": 61,
   "metadata": {
    "collapsed": false
   },
   "outputs": [
    {
     "data": {
      "text/plain": [
       "5.6785803854119798"
      ]
     },
     "execution_count": 61,
     "metadata": {},
     "output_type": "execute_result"
    }
   ],
   "source": [
    "a=slums['percentageoftenure_0to1'].mean()"
   ]
  },
  {
   "cell_type": "markdown",
   "metadata": {},
   "source": [
    "#### 21. What percentage of Households have moved in the last one to three years?"
   ]
  },
  {
   "cell_type": "code",
   "execution_count": 62,
   "metadata": {
    "collapsed": false
   },
   "outputs": [
    {
     "data": {
      "text/plain": [
       "3.6704461859932622"
      ]
     },
     "execution_count": 62,
     "metadata": {},
     "output_type": "execute_result"
    }
   ],
   "source": [
    "b=slums['percentageoftenure_1to3'].mean()"
   ]
  },
  {
   "cell_type": "markdown",
   "metadata": {},
   "source": [
    "#### 22. What percentage of Households have moved in the last three to five years?"
   ]
  },
  {
   "cell_type": "code",
   "execution_count": 63,
   "metadata": {
    "collapsed": false
   },
   "outputs": [
    {
     "data": {
      "text/plain": [
       "3.4221084010230967"
      ]
     },
     "execution_count": 63,
     "metadata": {},
     "output_type": "execute_result"
    }
   ],
   "source": [
    "c=slums['percentageoftenure_3to5'].mean()"
   ]
  },
  {
   "cell_type": "markdown",
   "metadata": {},
   "source": [
    "#### 23. What percentage of Households have moved more than five years ago?"
   ]
  },
  {
   "cell_type": "code",
   "execution_count": 64,
   "metadata": {
    "collapsed": false
   },
   "outputs": [
    {
     "data": {
      "text/plain": [
       "87.228865027571658"
      ]
     },
     "execution_count": 64,
     "metadata": {},
     "output_type": "execute_result"
    }
   ],
   "source": [
    "d=slums['percentageoftenure_morethan5'].mean()"
   ]
  },
  {
   "cell_type": "code",
   "execution_count": 67,
   "metadata": {
    "collapsed": false
   },
   "outputs": [
    {
     "data": {
      "text/plain": [
       "<matplotlib.axes._subplots.AxesSubplot at 0x1c0fae7f630>"
      ]
     },
     "execution_count": 67,
     "metadata": {},
     "output_type": "execute_result"
    },
    {
     "data": {
      "image/png": "[encoded data removed]",
      "text/plain": [
       "<matplotlib.figure.Figure at 0x1c0fad84588>"
      ]
     },
     "metadata": {},
     "output_type": "display_data"
    }
   ],
   "source": [
    "plt.style.use('ggplot')\n",
    "series=pd.Series([a,b,c,d], index=['Zero to One Years', 'One to Three Years', 'Three to Five Years','More than Five Years'])\n",
    "series.plot.pie(figsize=(6, 6))"
   ]
  },
  {
   "cell_type": "markdown",
   "metadata": {},
   "source": [
    "## INCOME, EXPENDITURE, DEBT"
   ]
  },
  {
   "cell_type": "markdown",
   "metadata": {},
   "source": [
    "####  24. What is the average monthly income of a slum household? (in rupees, 70 rupees make a dollar)"
   ]
  },
  {
   "cell_type": "code",
   "execution_count": 212,
   "metadata": {
    "collapsed": false
   },
   "outputs": [
    {
     "data": {
      "text/plain": [
       "3799.3493543758968"
      ]
     },
     "execution_count": 212,
     "metadata": {},
     "output_type": "execute_result"
    }
   ],
   "source": [
    "slums['avg_monthly_income'].mean()"
   ]
  },
  {
   "cell_type": "markdown",
   "metadata": {},
   "source": [
    "#### 25. What is the average monthly expenditure of a slum household? (in rupees, 70 rupees make a dollar)"
   ]
  },
  {
   "cell_type": "code",
   "execution_count": 213,
   "metadata": {
    "collapsed": false
   },
   "outputs": [
    {
     "data": {
      "text/plain": [
       "3776.6881720430106"
      ]
     },
     "execution_count": 213,
     "metadata": {},
     "output_type": "execute_result"
    }
   ],
   "source": [
    "slums['avg_monthly_expenditure'].mean()"
   ]
  },
  {
   "cell_type": "markdown",
   "metadata": {},
   "source": [
    "####  26. What is the average debt per slum?(in rupees, 70 rupees make a dollar)"
   ]
  },
  {
   "cell_type": "code",
   "execution_count": 211,
   "metadata": {
    "collapsed": false
   },
   "outputs": [
    {
     "data": {
      "text/plain": [
       "19861.378766140602"
      ]
     },
     "execution_count": 211,
     "metadata": {},
     "output_type": "execute_result"
    }
   ],
   "source": [
    "slums['debts_outstanding'].mean()"
   ]
  }
 ],
 "metadata": {
  "kernelspec": {
   "display_name": "Python 3",
   "language": "python",
   "name": "python3"
  },
  "language_info": {
   "codemirror_mode": {
    "name": "ipython",
    "version": 3
   },
   "file_extension": ".py",
   "mimetype": "text/x-python",
   "name": "python",
   "nbconvert_exporter": "python",
   "pygments_lexer": "ipython3",
   "version": "3.5.1"
  }
 },
 "nbformat": 4,
 "nbformat_minor": 0
}
