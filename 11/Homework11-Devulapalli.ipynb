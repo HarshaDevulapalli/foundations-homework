{
 "cells": [
  {
   "cell_type": "markdown",
   "metadata": {
    "collapsed": false
   },
   "source": [
    "\n",
    "# Homework 11: PARKING TICKETS\n",
    "\n",
    "\n",
    "### 1. I want to make sure my Plate ID is a string. Can't lose the leading zeroes!\n",
    "### 2. I don't think anyone's car was built in 0AD. Discard the '0's as NaN.\n",
    "### 3. I want the dates to be dates! Read the read_csv documentation to find out how to make pandas automatically parse dates."
   ]
  },
  {
   "cell_type": "code",
   "execution_count": 1,
   "metadata": {
    "collapsed": false
   },
   "outputs": [],
   "source": [
    "import pandas as pd\n",
    "dates=['Issue Date', 'Vehicle Expiration Date'] #Importing dates as datetime\n",
    "col_types={'Plate ID': 'str','Date First Observed':'str'} #Importing Plate ID and the Date First Observed as a string, because it has to be made into a time by a function. "
   ]
  },
  {
   "cell_type": "code",
   "execution_count": 2,
   "metadata": {
    "collapsed": false,
    "scrolled": true
   },
   "outputs": [
    {
     "name": "stderr",
     "output_type": "stream",
     "text": [
      "c:\\users\\harsha devulapalli\\appdata\\local\\programs\\python\\python35\\lib\\site-packages\\IPython\\core\\interactiveshell.py:2723: DtypeWarning: Columns (17,18,20,21,22,23,29,30,31,32,36,38,39) have mixed types. Specify dtype option on import or set low_memory=False.\n",
      "  interactivity=interactivity, compiler=compiler, result=result)\n"
     ]
    }
   ],
   "source": [
    "df=pd.read_csv(\"small-violations.csv\",dtype=col_types,parse_dates=dates,na_values={'Date First Observed'==0,'Vehicle Expiration Date'==88888888,88888888.0,88880088},infer_datetime_format=True)"
   ]
  },
  {
   "cell_type": "code",
   "execution_count": 3,
   "metadata": {
    "collapsed": false
   },
   "outputs": [
    {
     "data": {
      "text/plain": [
       "Summons Number                                int64\n",
       "Plate ID                                     object\n",
       "Registration State                           object\n",
       "Plate Type                                   object\n",
       "Issue Date                           datetime64[ns]\n",
       "Violation Code                              float64\n",
       "Vehicle Body Type                            object\n",
       "Vehicle Make                                 object\n",
       "Issuing Agency                               object\n",
       "Street Code1                                float64\n",
       "Street Code2                                float64\n",
       "Street Code3                                float64\n",
       "Vehicle Expiration Date                      object\n",
       "Violation Location                          float64\n",
       "Violation Precinct                          float64\n",
       "Issuer Precinct                             float64\n",
       "Issuer Code                                 float64\n",
       "Issuer Command                               object\n",
       "Issuer Squad                                 object\n",
       "Violation Time                               object\n",
       "Time First Observed                          object\n",
       "Violation County                             object\n",
       "Violation In Front Of Or Opposite            object\n",
       "House Number                                 object\n",
       "Street Name                                  object\n",
       "Intersecting Street                          object\n",
       "Date First Observed                          object\n",
       "Law Section                                 float64\n",
       "Sub Division                                 object\n",
       "Violation Legal Code                         object\n",
       "Days Parking In Effect                       object\n",
       "From Hours In Effect                         object\n",
       "To Hours In Effect                           object\n",
       "Vehicle Color                                object\n",
       "Unregistered Vehicle?                       float64\n",
       "Vehicle Year                                float64\n",
       "Meter Number                                 object\n",
       "Feet From Curb                              float64\n",
       "Violation Post Code                          object\n",
       "Violation Description                        object\n",
       "No Standing or Stopping Violation           float64\n",
       "Hydrant Violation                           float64\n",
       "Double Parking Violation                    float64\n",
       "dtype: object"
      ]
     },
     "execution_count": 3,
     "metadata": {},
     "output_type": "execute_result"
    }
   ],
   "source": [
    "df.dtypes #Finding out if our datatype import has worked or not."
   ]
  },
  {
   "cell_type": "code",
   "execution_count": 4,
   "metadata": {
    "collapsed": false
   },
   "outputs": [
    {
     "data": {
      "text/plain": [
       "Index(['Summons Number', 'Plate ID', 'Registration State', 'Plate Type',\n",
       "       'Issue Date', 'Violation Code', 'Vehicle Body Type', 'Vehicle Make',\n",
       "       'Issuing Agency', 'Street Code1', 'Street Code2', 'Street Code3',\n",
       "       'Vehicle Expiration Date', 'Violation Location', 'Violation Precinct',\n",
       "       'Issuer Precinct', 'Issuer Code', 'Issuer Command', 'Issuer Squad',\n",
       "       'Violation Time', 'Time First Observed', 'Violation County',\n",
       "       'Violation In Front Of Or Opposite', 'House Number', 'Street Name',\n",
       "       'Intersecting Street', 'Date First Observed', 'Law Section',\n",
       "       'Sub Division', 'Violation Legal Code', 'Days Parking In Effect    ',\n",
       "       'From Hours In Effect', 'To Hours In Effect', 'Vehicle Color',\n",
       "       'Unregistered Vehicle?', 'Vehicle Year', 'Meter Number',\n",
       "       'Feet From Curb', 'Violation Post Code', 'Violation Description',\n",
       "       'No Standing or Stopping Violation', 'Hydrant Violation',\n",
       "       'Double Parking Violation'],\n",
       "      dtype='object')"
      ]
     },
     "execution_count": 4,
     "metadata": {},
     "output_type": "execute_result"
    }
   ],
   "source": [
    "df.columns #Identifying all the columns of the dataframe."
   ]
  },
  {
   "cell_type": "markdown",
   "metadata": {
    "collapsed": true
   },
   "source": [
    "## 4. \"Date first observed\" is a pretty weird column, but it seems like it has a date hiding inside. Using a function with .apply, transform the string (e.g. \"20140324\") into a Python date. Make the 0's show up as NaN."
   ]
  },
  {
   "cell_type": "code",
   "execution_count": 5,
   "metadata": {
    "collapsed": false
   },
   "outputs": [],
   "source": [
    "## WRITING A FUNCTION TO CONVERT STRING INTO A DATE\n",
    "\n",
    "def string_to_date(string):\n",
    "    from dateutil import parser\n",
    "    if pd.isnull(string):\n",
    "        return None\n",
    "    else:\n",
    "        dt = parser.parse(string)\n",
    "        return dt.date()"
   ]
  },
  {
   "cell_type": "code",
   "execution_count": 6,
   "metadata": {
    "collapsed": false
   },
   "outputs": [
    {
     "data": {
      "text/plain": [
       "datetime.date(2016, 8, 8)"
      ]
     },
     "execution_count": 6,
     "metadata": {},
     "output_type": "execute_result"
    }
   ],
   "source": [
    "string_to_date('20160808') #Testing it out. "
   ]
  },
  {
   "cell_type": "code",
   "execution_count": 7,
   "metadata": {
    "collapsed": false
   },
   "outputs": [],
   "source": [
    "df['Date First Observed']= df['Date First Observed'].apply(string_to_date) #Applying it to the dataframe column"
   ]
  },
  {
   "cell_type": "markdown",
   "metadata": {},
   "source": [
    "## 5. \"Violation time\" is... not a time. Make it a time."
   ]
  },
  {
   "cell_type": "code",
   "execution_count": 8,
   "metadata": {
    "collapsed": true
   },
   "outputs": [],
   "source": [
    "def string_to_time(string): #CONVERTING THE VIOLATION TIME STRING INTO TIME\n",
    "    from dateutil import parser\n",
    "    import re\n",
    "    if pd.isnull(string):\n",
    "        return None\n",
    "    if string =='Nan' or string =='nan' or string =='0':\n",
    "        return None\n",
    "    if string[0:4].isnumeric()==True:\n",
    "        if int(string[0:2]) <=12 and int(string[2:4])<=59:\n",
    "            regex=re.search(r\"\\d\\d\\d\\d[AaPp]\",string)\n",
    "            if regex:\n",
    "                time=string[0:2]+\":\"+string[2:4]+\" \"+string[4]+\"M\"\n",
    "                return parser.parse(time).time()\n",
    "            else:\n",
    "                return None"
   ]
  },
  {
   "cell_type": "code",
   "execution_count": 9,
   "metadata": {
    "collapsed": false
   },
   "outputs": [],
   "source": [
    "def float_to_int(float): #THE VIOLATION CODE COLUMN IS ACTUALLY A FLOAT, SO WE'RE CONVERTING INTO AN INTEGER FIRST. \n",
    "    if pd.isnull(float):\n",
    "        return None\n",
    "    else:\n",
    "         return int(float)"
   ]
  },
  {
   "cell_type": "code",
   "execution_count": 10,
   "metadata": {
    "collapsed": false
   },
   "outputs": [],
   "source": [
    "df['Violation Code']=df['Violation Code'].apply(float_to_int)"
   ]
  },
  {
   "cell_type": "code",
   "execution_count": 11,
   "metadata": {
    "collapsed": false
   },
   "outputs": [],
   "source": [
    "df['Violation Time']=df['Violation Time'].apply(string_to_time)"
   ]
  },
  {
   "cell_type": "code",
   "execution_count": 12,
   "metadata": {
    "collapsed": false
   },
   "outputs": [
    {
     "data": {
      "text/plain": [
       "0    07:52:00\n",
       "1    12:40:00\n",
       "2    12:43:00\n",
       "3    14:32:00\n",
       "4    12:39:00\n",
       "Name: Violation Time, dtype: object"
      ]
     },
     "execution_count": 12,
     "metadata": {},
     "output_type": "execute_result"
    }
   ],
   "source": [
    "df['Violation Time'].head() #TESTING IF IT WORKED"
   ]
  },
  {
   "cell_type": "markdown",
   "metadata": {
    "collapsed": true
   },
   "source": [
    "## 6, There sure are a lot of colors of cars, too bad so many of them are the same. Make \"BLK\" and \"BLACK\", \"WT\" and \"WHITE\", and any other combinations that you notice."
   ]
  },
  {
   "cell_type": "code",
   "execution_count": 13,
   "metadata": {
    "collapsed": false
   },
   "outputs": [
    {
     "data": {
      "text/plain": [
       "WHITE    149076\n",
       "WH       132446\n",
       "GY       123169\n",
       "BK        96899\n",
       "BLACK     71865\n",
       "BL        46399\n",
       "GREY      46237\n",
       "BLUE      35237\n",
       "SILVE     34335\n",
       "BROWN     31801\n",
       "RED       31768\n",
       "RD        28920\n",
       "GR        21184\n",
       "GREEN     16673\n",
       "TN        13939\n",
       "BLK        9342\n",
       "BR         8893\n",
       "OTHER      8751\n",
       "TAN        8421\n",
       "YW         8144\n",
       "GRAY       7620\n",
       "GOLD       6546\n",
       "WHT        5989\n",
       "GL         5758\n",
       "YELLO      5179\n",
       "GRY        3521\n",
       "MR         3114\n",
       "WT         2286\n",
       "BRN        2146\n",
       "ORANG      1652\n",
       "          ...  \n",
       "NY            1\n",
       "WITH          1\n",
       "GR/BL         1\n",
       "FLORI         1\n",
       "GOLDT         1\n",
       "DK-TN         1\n",
       "PEAR          1\n",
       "BURQU         1\n",
       "GLW           1\n",
       "BLUGR         1\n",
       "LABLU         1\n",
       "RUBY          1\n",
       "BRWB          1\n",
       "BRNZ          1\n",
       "BLAKE         1\n",
       "SW            1\n",
       "GR/WH         1\n",
       "BULE          1\n",
       "CNY           1\n",
       "NAVYB         1\n",
       "METBL         1\n",
       "NNHE          1\n",
       "IL            1\n",
       "TEN           1\n",
       "B/R           1\n",
       "CHAPI         1\n",
       "GOL/S         1\n",
       "SIK           1\n",
       "FL            1\n",
       "WHIOT         1\n",
       "Name: Vehicle Color, dtype: int64"
      ]
     },
     "execution_count": 13,
     "metadata": {},
     "output_type": "execute_result"
    }
   ],
   "source": [
    "df['Vehicle Color'].value_counts() #LOOKING AT COLORS IN THE ORIGINAL DATASET"
   ]
  },
  {
   "cell_type": "code",
   "execution_count": 14,
   "metadata": {
    "collapsed": true
   },
   "outputs": [],
   "source": [
    "df['Vehicle Color'] = df['Vehicle Color'].replace(['WHT', 'WH','WT','WHI'], 'WHITE')"
   ]
  },
  {
   "cell_type": "code",
   "execution_count": 15,
   "metadata": {
    "collapsed": true
   },
   "outputs": [],
   "source": [
    "df['Vehicle Color'] = df['Vehicle Color'].replace(['GRAY', 'GY','GRY'], 'GREY')"
   ]
  },
  {
   "cell_type": "code",
   "execution_count": 16,
   "metadata": {
    "collapsed": true
   },
   "outputs": [],
   "source": [
    "df['Vehicle Color'] = df['Vehicle Color'].replace(['BLK', 'BK'], 'BLACK')"
   ]
  },
  {
   "cell_type": "code",
   "execution_count": 17,
   "metadata": {
    "collapsed": true
   },
   "outputs": [],
   "source": [
    "df['Vehicle Color'] = df['Vehicle Color'].replace('BL', 'BLUE')"
   ]
  },
  {
   "cell_type": "code",
   "execution_count": 18,
   "metadata": {
    "collapsed": true
   },
   "outputs": [],
   "source": [
    "df['Vehicle Color'] = df['Vehicle Color'].replace(['BR', 'BN','BRWN'], 'BROWN')"
   ]
  },
  {
   "cell_type": "code",
   "execution_count": 19,
   "metadata": {
    "collapsed": true
   },
   "outputs": [],
   "source": [
    "df['Vehicle Color'] = df['Vehicle Color'].replace('RD', 'RED')"
   ]
  },
  {
   "cell_type": "code",
   "execution_count": 20,
   "metadata": {
    "collapsed": true
   },
   "outputs": [],
   "source": [
    "df['Vehicle Color'] = df['Vehicle Color'].replace(['GR', 'GN','GRN'], 'GREEN')"
   ]
  },
  {
   "cell_type": "code",
   "execution_count": 21,
   "metadata": {
    "collapsed": true
   },
   "outputs": [],
   "source": [
    "df['Vehicle Color'] = df['Vehicle Color'].replace('TN', 'TAN')"
   ]
  },
  {
   "cell_type": "code",
   "execution_count": 22,
   "metadata": {
    "collapsed": true
   },
   "outputs": [],
   "source": [
    "df['Vehicle Color'] = df['Vehicle Color'].replace('GL', 'GOLD')"
   ]
  },
  {
   "cell_type": "code",
   "execution_count": 23,
   "metadata": {
    "collapsed": true
   },
   "outputs": [],
   "source": [
    "df['Vehicle Color'] = df['Vehicle Color'].replace('BRN', 'BROWN')"
   ]
  },
  {
   "cell_type": "code",
   "execution_count": 24,
   "metadata": {
    "collapsed": true
   },
   "outputs": [],
   "source": [
    "df['Vehicle Color'] = df['Vehicle Color'].replace(['YW', 'YELLO','YELL'], 'YELLOW')"
   ]
  },
  {
   "cell_type": "code",
   "execution_count": 25,
   "metadata": {
    "collapsed": true
   },
   "outputs": [],
   "source": [
    "df['Vehicle Color'] = df['Vehicle Color'].replace(['BL', 'BLU'], 'BLUE')"
   ]
  },
  {
   "cell_type": "code",
   "execution_count": 26,
   "metadata": {
    "collapsed": true
   },
   "outputs": [],
   "source": [
    "df['Vehicle Color'] = df['Vehicle Color'].replace('MR', 'MAROON')"
   ]
  },
  {
   "cell_type": "code",
   "execution_count": 27,
   "metadata": {
    "collapsed": true
   },
   "outputs": [],
   "source": [
    "df['Vehicle Color'] = df['Vehicle Color'].replace(['SIL', 'SILVR','SILVE','SILV'], 'SILVER')"
   ]
  },
  {
   "cell_type": "code",
   "execution_count": 28,
   "metadata": {
    "collapsed": true
   },
   "outputs": [],
   "source": [
    "df['Vehicle Color'] = df['Vehicle Color'].replace(['OR', 'ORANG'], 'ORANGE')"
   ]
  },
  {
   "cell_type": "code",
   "execution_count": 29,
   "metadata": {
    "collapsed": false
   },
   "outputs": [
    {
     "data": {
      "text/plain": [
       "WHITE     290458\n",
       "GREY      180547\n",
       "BLACK     178106\n",
       "BLUE       82534\n",
       "RED        60688\n",
       "BROWN      43890\n",
       "GREEN      39536\n",
       "SILVER     36460\n",
       "TAN        22360\n",
       "YELLOW     13520\n",
       "GOLD       12304\n",
       "OTHER       8751\n",
       "MAROON      3114\n",
       "ORANGE      2873\n",
       "LTG         1325\n",
       "SL          1214\n",
       "PURPL        963\n",
       "LT/          634\n",
       "DKG          622\n",
       "DK/          537\n",
       "PR           476\n",
       "DKB          358\n",
       "BEIGE        272\n",
       "BLG          257\n",
       "W            255\n",
       "LTGY         233\n",
       "BRW          207\n",
       "LAVEN        206\n",
       "MAROO        191\n",
       "NOC          166\n",
       "           ...  \n",
       "CHRYS          1\n",
       "BLU/G          1\n",
       "BKACK          1\n",
       "BT             1\n",
       "GRY/G          1\n",
       "NY             1\n",
       "GR/BL          1\n",
       "FLORI          1\n",
       "GOLDT          1\n",
       "PEAR           1\n",
       "NNHE           1\n",
       "FL             1\n",
       "SIK            1\n",
       "GOL/S          1\n",
       "LTW            1\n",
       "RUBY           1\n",
       "BRNZ           1\n",
       "BLAKE          1\n",
       "SW             1\n",
       "GR/WH          1\n",
       "BULE           1\n",
       "CNY            1\n",
       "NAVYB          1\n",
       "BRWB           1\n",
       "METBL          1\n",
       "IL             1\n",
       "TEN            1\n",
       "B/R            1\n",
       "CHAPI          1\n",
       "WHIOT          1\n",
       "Name: Vehicle Color, dtype: int64"
      ]
     },
     "execution_count": 29,
     "metadata": {},
     "output_type": "execute_result"
    }
   ],
   "source": [
    "df['Vehicle Color'].value_counts() #LOOKING AT THE COLORS AFTER CLEANING UP, MUCH BETTER!"
   ]
  },
  {
   "cell_type": "markdown",
   "metadata": {},
   "source": [
    "## 7. Join the data with the Parking Violations Code dataset from the NYC Open Data site.\n"
   ]
  },
  {
   "cell_type": "code",
   "execution_count": 30,
   "metadata": {
    "collapsed": false
   },
   "outputs": [],
   "source": [
    "#READING PARKING VIOLATION CODES FROM NYC DATASET\n",
    "codesdf=pd.read_csv(\"DOF_Parking_Violation_Codes.csv\",dtype={'Manhattan\\xa0 96th St. & below':int, 'All Other Areas': int}) "
   ]
  },
  {
   "cell_type": "code",
   "execution_count": 31,
   "metadata": {
    "collapsed": false
   },
   "outputs": [
    {
     "data": {
      "text/plain": [
       "Index(['CODE', 'DEFINITION', 'Manhattan  96th St. & below', 'All Other Areas'], dtype='object')"
      ]
     },
     "execution_count": 31,
     "metadata": {},
     "output_type": "execute_result"
    }
   ],
   "source": [
    "codesdf.columns"
   ]
  },
  {
   "cell_type": "code",
   "execution_count": 32,
   "metadata": {
    "collapsed": false
   },
   "outputs": [
    {
     "data": {
      "text/plain": [
       "65     36\n",
       "115    29\n",
       "95     11\n",
       "60      2\n",
       "100     1\n",
       "180     1\n",
       "50      1\n",
       "165     1\n",
       "265     1\n",
       "0       1\n",
       "Name: Manhattan  96th St. & below, dtype: int64"
      ]
     },
     "execution_count": 32,
     "metadata": {},
     "output_type": "execute_result"
    }
   ],
   "source": [
    "codesdf['Manhattan\\xa0 96th St. & below'].value_counts() #CHECKING IF THE IMPORT WORKED WELL"
   ]
  },
  {
   "cell_type": "code",
   "execution_count": 33,
   "metadata": {
    "collapsed": true
   },
   "outputs": [],
   "source": [
    "newdf=df.join(codesdf, on='Violation Code', how='left') #MERGING THE TWO DATAFRAMES INTO A NEW DATAFRAME Unimaginatively CALLED NEWDF"
   ]
  },
  {
   "cell_type": "code",
   "execution_count": 34,
   "metadata": {
    "collapsed": false
   },
   "outputs": [
    {
     "data": {
      "text/html": [
       "<div>\n",
       "<table border=\"1\" class=\"dataframe\">\n",
       "  <thead>\n",
       "    <tr style=\"text-align: right;\">\n",
       "      <th></th>\n",
       "      <th>Summons Number</th>\n",
       "      <th>Plate ID</th>\n",
       "      <th>Registration State</th>\n",
       "      <th>Plate Type</th>\n",
       "      <th>Issue Date</th>\n",
       "      <th>Violation Code</th>\n",
       "      <th>Vehicle Body Type</th>\n",
       "      <th>Vehicle Make</th>\n",
       "      <th>Issuing Agency</th>\n",
       "      <th>Street Code1</th>\n",
       "      <th>...</th>\n",
       "      <th>Feet From Curb</th>\n",
       "      <th>Violation Post Code</th>\n",
       "      <th>Violation Description</th>\n",
       "      <th>No Standing or Stopping Violation</th>\n",
       "      <th>Hydrant Violation</th>\n",
       "      <th>Double Parking Violation</th>\n",
       "      <th>CODE</th>\n",
       "      <th>DEFINITION</th>\n",
       "      <th>Manhattan  96th St. &amp; below</th>\n",
       "      <th>All Other Areas</th>\n",
       "    </tr>\n",
       "  </thead>\n",
       "  <tbody>\n",
       "    <tr>\n",
       "      <th>0</th>\n",
       "      <td>1283294138</td>\n",
       "      <td>GBB9093</td>\n",
       "      <td>NY</td>\n",
       "      <td>PAS</td>\n",
       "      <td>2013-08-04</td>\n",
       "      <td>46.0</td>\n",
       "      <td>SUBN</td>\n",
       "      <td>AUDI</td>\n",
       "      <td>P</td>\n",
       "      <td>37250.0</td>\n",
       "      <td>...</td>\n",
       "      <td>NaN</td>\n",
       "      <td>NaN</td>\n",
       "      <td>NaN</td>\n",
       "      <td>NaN</td>\n",
       "      <td>NaN</td>\n",
       "      <td>NaN</td>\n",
       "      <td>62</td>\n",
       "      <td>Standing or parking a vehicle beyond markings ...</td>\n",
       "      <td>65.0</td>\n",
       "      <td>45.0</td>\n",
       "    </tr>\n",
       "    <tr>\n",
       "      <th>1</th>\n",
       "      <td>1283294151</td>\n",
       "      <td>62416MB</td>\n",
       "      <td>NY</td>\n",
       "      <td>COM</td>\n",
       "      <td>2013-08-04</td>\n",
       "      <td>46.0</td>\n",
       "      <td>VAN</td>\n",
       "      <td>FORD</td>\n",
       "      <td>P</td>\n",
       "      <td>37290.0</td>\n",
       "      <td>...</td>\n",
       "      <td>NaN</td>\n",
       "      <td>NaN</td>\n",
       "      <td>NaN</td>\n",
       "      <td>NaN</td>\n",
       "      <td>NaN</td>\n",
       "      <td>NaN</td>\n",
       "      <td>62</td>\n",
       "      <td>Standing or parking a vehicle beyond markings ...</td>\n",
       "      <td>65.0</td>\n",
       "      <td>45.0</td>\n",
       "    </tr>\n",
       "    <tr>\n",
       "      <th>2</th>\n",
       "      <td>1283294163</td>\n",
       "      <td>78755JZ</td>\n",
       "      <td>NY</td>\n",
       "      <td>COM</td>\n",
       "      <td>2013-08-05</td>\n",
       "      <td>46.0</td>\n",
       "      <td>P-U</td>\n",
       "      <td>CHEVR</td>\n",
       "      <td>P</td>\n",
       "      <td>37030.0</td>\n",
       "      <td>...</td>\n",
       "      <td>NaN</td>\n",
       "      <td>NaN</td>\n",
       "      <td>NaN</td>\n",
       "      <td>NaN</td>\n",
       "      <td>NaN</td>\n",
       "      <td>NaN</td>\n",
       "      <td>62</td>\n",
       "      <td>Standing or parking a vehicle beyond markings ...</td>\n",
       "      <td>65.0</td>\n",
       "      <td>45.0</td>\n",
       "    </tr>\n",
       "    <tr>\n",
       "      <th>3</th>\n",
       "      <td>1283294175</td>\n",
       "      <td>63009MA</td>\n",
       "      <td>NY</td>\n",
       "      <td>COM</td>\n",
       "      <td>2013-08-05</td>\n",
       "      <td>46.0</td>\n",
       "      <td>VAN</td>\n",
       "      <td>FORD</td>\n",
       "      <td>P</td>\n",
       "      <td>37270.0</td>\n",
       "      <td>...</td>\n",
       "      <td>NaN</td>\n",
       "      <td>NaN</td>\n",
       "      <td>NaN</td>\n",
       "      <td>NaN</td>\n",
       "      <td>NaN</td>\n",
       "      <td>NaN</td>\n",
       "      <td>62</td>\n",
       "      <td>Standing or parking a vehicle beyond markings ...</td>\n",
       "      <td>65.0</td>\n",
       "      <td>45.0</td>\n",
       "    </tr>\n",
       "    <tr>\n",
       "      <th>4</th>\n",
       "      <td>1283294187</td>\n",
       "      <td>91648MC</td>\n",
       "      <td>NY</td>\n",
       "      <td>COM</td>\n",
       "      <td>2013-08-08</td>\n",
       "      <td>41.0</td>\n",
       "      <td>TRLR</td>\n",
       "      <td>GMC</td>\n",
       "      <td>P</td>\n",
       "      <td>37240.0</td>\n",
       "      <td>...</td>\n",
       "      <td>NaN</td>\n",
       "      <td>NaN</td>\n",
       "      <td>NaN</td>\n",
       "      <td>NaN</td>\n",
       "      <td>NaN</td>\n",
       "      <td>NaN</td>\n",
       "      <td>57</td>\n",
       "      <td>Parking a vehicle within the area designated a...</td>\n",
       "      <td>65.0</td>\n",
       "      <td>65.0</td>\n",
       "    </tr>\n",
       "  </tbody>\n",
       "</table>\n",
       "<p>5 rows × 47 columns</p>\n",
       "</div>"
      ],
      "text/plain": [
       "   Summons Number Plate ID Registration State Plate Type Issue Date  \\\n",
       "0      1283294138  GBB9093                 NY        PAS 2013-08-04   \n",
       "1      1283294151  62416MB                 NY        COM 2013-08-04   \n",
       "2      1283294163  78755JZ                 NY        COM 2013-08-05   \n",
       "3      1283294175  63009MA                 NY        COM 2013-08-05   \n",
       "4      1283294187  91648MC                 NY        COM 2013-08-08   \n",
       "\n",
       "   Violation Code Vehicle Body Type Vehicle Make Issuing Agency  Street Code1  \\\n",
       "0            46.0              SUBN         AUDI              P       37250.0   \n",
       "1            46.0               VAN         FORD              P       37290.0   \n",
       "2            46.0               P-U        CHEVR              P       37030.0   \n",
       "3            46.0               VAN         FORD              P       37270.0   \n",
       "4            41.0              TRLR          GMC              P       37240.0   \n",
       "\n",
       "        ...        Feet From Curb  Violation Post Code Violation Description  \\\n",
       "0       ...                   NaN                  NaN                   NaN   \n",
       "1       ...                   NaN                  NaN                   NaN   \n",
       "2       ...                   NaN                  NaN                   NaN   \n",
       "3       ...                   NaN                  NaN                   NaN   \n",
       "4       ...                   NaN                  NaN                   NaN   \n",
       "\n",
       "   No Standing or Stopping Violation  Hydrant Violation  \\\n",
       "0                                NaN                NaN   \n",
       "1                                NaN                NaN   \n",
       "2                                NaN                NaN   \n",
       "3                                NaN                NaN   \n",
       "4                                NaN                NaN   \n",
       "\n",
       "   Double Parking Violation  CODE  \\\n",
       "0                       NaN    62   \n",
       "1                       NaN    62   \n",
       "2                       NaN    62   \n",
       "3                       NaN    62   \n",
       "4                       NaN    57   \n",
       "\n",
       "                                          DEFINITION  \\\n",
       "0  Standing or parking a vehicle beyond markings ...   \n",
       "1  Standing or parking a vehicle beyond markings ...   \n",
       "2  Standing or parking a vehicle beyond markings ...   \n",
       "3  Standing or parking a vehicle beyond markings ...   \n",
       "4  Parking a vehicle within the area designated a...   \n",
       "\n",
       "  Manhattan  96th St. & below All Other Areas  \n",
       "0                        65.0            45.0  \n",
       "1                        65.0            45.0  \n",
       "2                        65.0            45.0  \n",
       "3                        65.0            45.0  \n",
       "4                        65.0            65.0  \n",
       "\n",
       "[5 rows x 47 columns]"
      ]
     },
     "execution_count": 34,
     "metadata": {},
     "output_type": "execute_result"
    }
   ],
   "source": [
    "newdf.head() #DID IT WORK? SEEMS TO HAVE, THE NANS IN THE END OF THIS FRAME ARE THERE IN THE ORIGINAL ONE TOO. "
   ]
  },
  {
   "cell_type": "code",
   "execution_count": 35,
   "metadata": {
    "collapsed": false
   },
   "outputs": [
    {
     "data": {
      "text/plain": [
       "Index(['Summons Number', 'Plate ID', 'Registration State', 'Plate Type',\n",
       "       'Issue Date', 'Violation Code', 'Vehicle Body Type', 'Vehicle Make',\n",
       "       'Issuing Agency', 'Street Code1', 'Street Code2', 'Street Code3',\n",
       "       'Vehicle Expiration Date', 'Violation Location', 'Violation Precinct',\n",
       "       'Issuer Precinct', 'Issuer Code', 'Issuer Command', 'Issuer Squad',\n",
       "       'Violation Time', 'Time First Observed', 'Violation County',\n",
       "       'Violation In Front Of Or Opposite', 'House Number', 'Street Name',\n",
       "       'Intersecting Street', 'Date First Observed', 'Law Section',\n",
       "       'Sub Division', 'Violation Legal Code', 'Days Parking In Effect    ',\n",
       "       'From Hours In Effect', 'To Hours In Effect', 'Vehicle Color',\n",
       "       'Unregistered Vehicle?', 'Vehicle Year', 'Meter Number',\n",
       "       'Feet From Curb', 'Violation Post Code', 'Violation Description',\n",
       "       'No Standing or Stopping Violation', 'Hydrant Violation',\n",
       "       'Double Parking Violation', 'CODE', 'DEFINITION',\n",
       "       'Manhattan  96th St. & below', 'All Other Areas'],\n",
       "      dtype='object')"
      ]
     },
     "execution_count": 35,
     "metadata": {},
     "output_type": "execute_result"
    }
   ],
   "source": [
    "newdf.columns #THE NEW COLUMNS SEEM TO HAVE BEEN ADDED"
   ]
  },
  {
   "cell_type": "markdown",
   "metadata": {},
   "source": [
    "## 8. How much money did NYC make off of parking violations?"
   ]
  },
  {
   "cell_type": "code",
   "execution_count": 36,
   "metadata": {
    "collapsed": false
   },
   "outputs": [
    {
     "data": {
      "text/plain": [
       "NY       392873\n",
       "K        216562\n",
       "Q        193612\n",
       "BX        94041\n",
       "R          9454\n",
       "KINGS         1\n",
       "RICH          1\n",
       "BRONX         1\n",
       "Name: Violation County, dtype: int64"
      ]
     },
     "execution_count": 36,
     "metadata": {},
     "output_type": "execute_result"
    }
   ],
   "source": [
    "newdf['Violation County'].value_counts() #LET US SEE THE VIOLATION COUNTY DATA, THIS NEEDS TO BE CLEANED UP A BIT"
   ]
  },
  {
   "cell_type": "code",
   "execution_count": 37,
   "metadata": {
    "collapsed": false
   },
   "outputs": [],
   "source": [
    "newdf['Violation County'] = newdf['Violation County'].replace('BX', 'BRONX')"
   ]
  },
  {
   "cell_type": "code",
   "execution_count": 38,
   "metadata": {
    "collapsed": true
   },
   "outputs": [],
   "source": [
    "newdf['Violation County'] = newdf['Violation County'].replace(['R', 'RICH'], 'RICHMOND')"
   ]
  },
  {
   "cell_type": "code",
   "execution_count": 39,
   "metadata": {
    "collapsed": true
   },
   "outputs": [],
   "source": [
    "newdf['Violation County'] = newdf['Violation County'].replace('K', 'KINGS')"
   ]
  },
  {
   "cell_type": "code",
   "execution_count": 40,
   "metadata": {
    "collapsed": false
   },
   "outputs": [
    {
     "data": {
      "text/plain": [
       "NY          392873\n",
       "KINGS       216563\n",
       "Q           193612\n",
       "BRONX        94042\n",
       "RICHMOND      9455\n",
       "Name: Violation County, dtype: int64"
      ]
     },
     "execution_count": 40,
     "metadata": {},
     "output_type": "execute_result"
    }
   ],
   "source": [
    "newdf['Violation County'].value_counts() #ALL CLEANED"
   ]
  },
  {
   "cell_type": "markdown",
   "metadata": {},
   "source": [
    "Now, we know the locations of the violation and from the merged dataset we know that there the fine rates vary upon the location of the violation, with certain rates for everything under 96th street in Manhattan and other rates for elsewhere. So using the Violation County numbers, and the assumption that NY county is everything under 96th - we calculate. "
   ]
  },
  {
   "cell_type": "code",
   "execution_count": 41,
   "metadata": {
    "collapsed": true
   },
   "outputs": [],
   "source": [
    "manhattanviolations=newdf[newdf['Violation County']=='NY']"
   ]
  },
  {
   "cell_type": "code",
   "execution_count": 42,
   "metadata": {
    "collapsed": false
   },
   "outputs": [
    {
     "data": {
      "text/plain": [
       "38633190.0"
      ]
     },
     "execution_count": 42,
     "metadata": {},
     "output_type": "execute_result"
    }
   ],
   "source": [
    "#FINES COLLECTED IN MANHATTAN\n",
    "manhattanviolations['Manhattan\\xa0 96th St. & below'].sum() "
   ]
  },
  {
   "cell_type": "code",
   "execution_count": 43,
   "metadata": {
    "collapsed": true
   },
   "outputs": [],
   "source": [
    "allotherviolations=newdf[newdf['Violation County']!= 'NY']"
   ]
  },
  {
   "cell_type": "code",
   "execution_count": 44,
   "metadata": {
    "collapsed": false
   },
   "outputs": [
    {
     "data": {
      "text/plain": [
       "48133905.0"
      ]
     },
     "execution_count": 44,
     "metadata": {},
     "output_type": "execute_result"
    }
   ],
   "source": [
    "#FINES NOT COLLECTED IN MANHATTAN\n",
    "\n",
    "allotherviolations['All Other Areas'].sum()"
   ]
  },
  {
   "cell_type": "code",
   "execution_count": 45,
   "metadata": {
    "collapsed": false
   },
   "outputs": [
    {
     "data": {
      "text/plain": [
       "86767095.0"
      ]
     },
     "execution_count": 45,
     "metadata": {},
     "output_type": "execute_result"
    }
   ],
   "source": [
    "#FINES COLLECTED IN ALL OF NYC\n",
    "manhattanviolations['Manhattan\\xa0 96th St. & below'].sum()+allotherviolations['All Other Areas'].sum()"
   ]
  },
  {
   "cell_type": "markdown",
   "metadata": {},
   "source": [
    "## 9. What's the most lucrative kind of parking violation? The most frequent?\n"
   ]
  },
  {
   "cell_type": "code",
   "execution_count": 46,
   "metadata": {
    "collapsed": false
   },
   "outputs": [
    {
     "data": {
      "text/plain": [
       "115.0    482727\n",
       "65.0     407620\n",
       "95.0      59637\n",
       "180.0     24322\n",
       "165.0      6976\n",
       "0.0        1857\n",
       "60.0       1482\n",
       "265.0      1227\n",
       "100.0       533\n",
       "50.0         37\n",
       "Name: Manhattan  96th St. & below, dtype: int64"
      ]
     },
     "execution_count": 46,
     "metadata": {},
     "output_type": "execute_result"
    }
   ],
   "source": [
    "newdf['Manhattan\\xa0 96th St. & below'].value_counts()\n",
    "#IT IS EVIDENT THAT THE 265 DOLLARS IS THE MOST LUCRATIVE FINE in terms of monetary amount, but 115 DOlLARS IS THE MOST COMMON"
   ]
  },
  {
   "cell_type": "code",
   "execution_count": 47,
   "metadata": {
    "collapsed": false
   },
   "outputs": [],
   "source": [
    "lucrative=newdf[newdf['Manhattan\\xa0 96th St. & below']==265]"
   ]
  },
  {
   "cell_type": "code",
   "execution_count": 48,
   "metadata": {
    "collapsed": false
   },
   "outputs": [
    {
     "data": {
      "text/plain": [
       "Parking a tractor-trailer on a residential street between 9PM and 5AM.    1227\n",
       "Name: DEFINITION, dtype: int64"
      ]
     },
     "execution_count": 48,
     "metadata": {},
     "output_type": "execute_result"
    }
   ],
   "source": [
    "lucrative['DEFINITION'].value_counts()\n",
    "#TRACTOR TRAILER PARKING SEEMS TO MAKE MONIES"
   ]
  },
  {
   "cell_type": "code",
   "execution_count": 49,
   "metadata": {
    "collapsed": false
   },
   "outputs": [],
   "source": [
    "frequent=newdf['DEFINITION'].value_counts()\n",
    "#IDENTIFYING THE MOST FREQUENT SETS OF VIOLATIONS"
   ]
  },
  {
   "cell_type": "code",
   "execution_count": 50,
   "metadata": {
    "collapsed": false
   },
   "outputs": [
    {
     "data": {
      "text/plain": [
       "Expired Meter -- parking in a metered space where the meter works and the time has ended. Drivers get a 5-minute grace period past the expired time on Alternate Side Parking signs and any other parking spaces with specific times listed (i.e.. 8:30am - 9:30am). During the 5-minute grace period, parking tickets cannot be issued.    140329\n",
       "Standing or parking in a safety zone, between a safety zone and the nearest curb, or within 30 feet of points on the curb immediately opposite the ends of a safety zone.                                                                                                                                                                   125716\n",
       "Standing at a commuter van stop, other than temporarily for the purpose of quickly picking up or dropping off passengers.                                                                                                                                                                                                                    93579\n",
       "Stopping, standing or parking within an intersection.                                                                                                                                                                                                                                                                                        75484\n",
       "Bus Lane: Standing or parking where standing is not allowed by sign, street marking or; traffic control device.                                                                                                                                                                                                                              66747\n",
       "Name: DEFINITION, dtype: int64"
      ]
     },
     "execution_count": 50,
     "metadata": {},
     "output_type": "execute_result"
    }
   ],
   "source": [
    "frequent.head() #THE TOP FIVE SETS OF VIOLATIONS"
   ]
  },
  {
   "cell_type": "markdown",
   "metadata": {},
   "source": [
    "## 10. New Jersey has bad drivers, but does it have bad parkers, too? How much money does NYC make off of all non-New York vehicles?\n"
   ]
  },
  {
   "cell_type": "code",
   "execution_count": 51,
   "metadata": {
    "collapsed": false
   },
   "outputs": [],
   "source": [
    "nonnyviolations=newdf[newdf['Registration State']!= 'NY']"
   ]
  },
  {
   "cell_type": "code",
   "execution_count": 52,
   "metadata": {
    "collapsed": true
   },
   "outputs": [],
   "source": [
    "nonnymanhattanviolations=nonnyviolations[nonnyviolations['Violation County']=='NY']"
   ]
  },
  {
   "cell_type": "code",
   "execution_count": 53,
   "metadata": {
    "collapsed": false
   },
   "outputs": [
    {
     "data": {
      "text/plain": [
       "11523570.0"
      ]
     },
     "execution_count": 53,
     "metadata": {},
     "output_type": "execute_result"
    }
   ],
   "source": [
    "nonnymanhattanviolations['Manhattan\\xa0 96th St. & below'].sum()\n",
    "#MONEY MADE BY NON NY VEHICLES IN MANHATTAN"
   ]
  },
  {
   "cell_type": "code",
   "execution_count": 54,
   "metadata": {
    "collapsed": true
   },
   "outputs": [],
   "source": [
    "nonnymanhattanviolations=nonnyviolations[nonnyviolations['Violation County']!='NY']"
   ]
  },
  {
   "cell_type": "code",
   "execution_count": 55,
   "metadata": {
    "collapsed": false
   },
   "outputs": [
    {
     "data": {
      "text/plain": [
       "10324830.0"
      ]
     },
     "execution_count": 55,
     "metadata": {},
     "output_type": "execute_result"
    }
   ],
   "source": [
    "nonnymanhattanviolations['All Other Areas'].sum()\n",
    "#MONEY MADE BY NON NY VEHICLES OUTSIDE MANHATTAN"
   ]
  },
  {
   "cell_type": "code",
   "execution_count": 56,
   "metadata": {
    "collapsed": false
   },
   "outputs": [
    {
     "data": {
      "text/plain": [
       "22184410.0"
      ]
     },
     "execution_count": 56,
     "metadata": {},
     "output_type": "execute_result"
    }
   ],
   "source": [
    "nonnymanhattanviolations['Manhattan\\xa0 96th St. & below'].sum()+nonnymanhattanviolations['All Other Areas'].sum()\n",
    "#TOTAL MONEY MADE BY NON NY VEHICLES "
   ]
  },
  {
   "cell_type": "markdown",
   "metadata": {},
   "source": [
    "## 11. Make a chart of the top few.\n"
   ]
  },
  {
   "cell_type": "code",
   "execution_count": 57,
   "metadata": {
    "collapsed": false
   },
   "outputs": [],
   "source": [
    "import matplotlib.pyplot as plt\n",
    "\n",
    "%matplotlib inline"
   ]
  },
  {
   "cell_type": "code",
   "execution_count": 58,
   "metadata": {
    "collapsed": false
   },
   "outputs": [
    {
     "data": {
      "text/plain": [
       "<matplotlib.axes._subplots.AxesSubplot at 0x18e04067b38>"
      ]
     },
     "execution_count": 58,
     "metadata": {},
     "output_type": "execute_result"
    },
    {
     "data": {
      "image/png": "[encoded data removed]",
      "text/plain": [
       "<matplotlib.figure.Figure at 0x18e040670f0>"
      ]
     },
     "metadata": {},
     "output_type": "display_data"
    }
   ],
   "source": [
    "plt.style.use('ggplot')\n",
    "toptenviolations=nonnyviolations['Violation Code'].value_counts()\n",
    "toptenviolations.head(10).plot(kind='bar')\n",
    "#I USE THE VIOLATION CODE INSTEAD OF ACTUAL VIOLATION NAME BECAUSE THE NAMES OF SOME OF THEM ARE TOO LONG. "
   ]
  },
  {
   "cell_type": "markdown",
   "metadata": {
    "collapsed": true
   },
   "source": [
    "We can then inspect what 21,38,14 violation codes are. "
   ]
  },
  {
   "cell_type": "markdown",
   "metadata": {},
   "source": [
    "## 12. What time of day do people usually get their tickets? You can break the day up into several blocks - for example 12am-6am, 6am-12pm, 12pm-6pm, 6pm-12am.\n"
   ]
  },
  {
   "cell_type": "code",
   "execution_count": 59,
   "metadata": {
    "collapsed": false
   },
   "outputs": [
    {
     "data": {
      "text/plain": [
       "<matplotlib.axes._subplots.AxesSubplot at 0x18e0404ada0>"
      ]
     },
     "execution_count": 59,
     "metadata": {},
     "output_type": "execute_result"
    },
    {
     "data": {
      "image/png": "[encoded data removed]",
      "text/plain": [
       "<matplotlib.figure.Figure at 0x18e0415f160>"
      ]
     },
     "metadata": {},
     "output_type": "display_data"
    }
   ],
   "source": [
    "newdf['Violation Time'].value_counts().plot(figsize=(16, 8))"
   ]
  },
  {
   "cell_type": "markdown",
   "metadata": {
    "collapsed": true
   },
   "source": [
    "From the graph above, it is very evident that most people get tickets in the 6 AM to 12 PM ie the morning slot. More than any other segments of the day."
   ]
  },
  {
   "cell_type": "markdown",
   "metadata": {},
   "source": [
    "## 13. What's the average ticket cost in NYC?\n"
   ]
  },
  {
   "cell_type": "code",
   "execution_count": 60,
   "metadata": {
    "collapsed": false
   },
   "outputs": [
    {
     "name": "stderr",
     "output_type": "stream",
     "text": [
      "c:\\users\\harsha devulapalli\\appdata\\local\\programs\\python\\python35\\lib\\site-packages\\numpy\\lib\\function_base.py:3834: RuntimeWarning: Invalid value encountered in percentile\n",
      "  RuntimeWarning)\n"
     ]
    },
    {
     "data": {
      "text/plain": [
       "count    986418.000000\n",
       "mean         94.962425\n",
       "std          28.902005\n",
       "min           0.000000\n",
       "25%                NaN\n",
       "50%                NaN\n",
       "75%                NaN\n",
       "max         265.000000\n",
       "Name: Manhattan  96th St. & below, dtype: float64"
      ]
     },
     "execution_count": 60,
     "metadata": {},
     "output_type": "execute_result"
    }
   ],
   "source": [
    "newdf['Manhattan\\xa0 96th St. & below'].describe()\n",
    "#AVERAGE COST OF TICKETS IN MANHATTAN is 95 DOLALRS"
   ]
  },
  {
   "cell_type": "code",
   "execution_count": 61,
   "metadata": {
    "collapsed": false
   },
   "outputs": [
    {
     "name": "stderr",
     "output_type": "stream",
     "text": [
      "c:\\users\\harsha devulapalli\\appdata\\local\\programs\\python\\python35\\lib\\site-packages\\numpy\\lib\\function_base.py:3834: RuntimeWarning: Invalid value encountered in percentile\n",
      "  RuntimeWarning)\n"
     ]
    },
    {
     "data": {
      "text/plain": [
       "count    986418.000000\n",
       "mean         84.716996\n",
       "std          40.356772\n",
       "min           0.000000\n",
       "25%                NaN\n",
       "50%                NaN\n",
       "75%                NaN\n",
       "max         265.000000\n",
       "Name: All Other Areas, dtype: float64"
      ]
     },
     "execution_count": 61,
     "metadata": {},
     "output_type": "execute_result"
    }
   ],
   "source": [
    "newdf['All Other Areas'].describe()\n",
    "#AVERAGE COST OF TICKET ELSEWHERE IS 85 DOLLARS"
   ]
  },
  {
   "cell_type": "code",
   "execution_count": 62,
   "metadata": {
    "collapsed": false
   },
   "outputs": [
    {
     "data": {
      "text/plain": [
       "89.839710499999995"
      ]
     },
     "execution_count": 62,
     "metadata": {},
     "output_type": "execute_result"
    }
   ],
   "source": [
    "import numpy\n",
    "a=[84.716996,94.962425]\n",
    "numpy.mean(a)\n",
    "#SO THE AVERAGE TICKET COST IN NEW YORK CITY IS ABOUT 90 DOLLARS"
   ]
  },
  {
   "cell_type": "markdown",
   "metadata": {},
   "source": [
    "## 14. Make a graph of the number of tickets per day.\n"
   ]
  },
  {
   "cell_type": "code",
   "execution_count": 63,
   "metadata": {
    "collapsed": false
   },
   "outputs": [],
   "source": [
    "ticketsperday=newdf['Issue Date'].value_counts()"
   ]
  },
  {
   "cell_type": "code",
   "execution_count": 64,
   "metadata": {
    "collapsed": false
   },
   "outputs": [
    {
     "data": {
      "text/plain": [
       "<matplotlib.axes._subplots.AxesSubplot at 0x18e000e08d0>"
      ]
     },
     "execution_count": 64,
     "metadata": {},
     "output_type": "execute_result"
    },
    {
     "data": {
      "image/png": "[encoded data removed]",
      "text/plain": [
       "<matplotlib.figure.Figure at 0x18e042ad2b0>"
      ]
     },
     "metadata": {},
     "output_type": "display_data"
    }
   ],
   "source": [
    "ticketsperday.head(100).plot(figsize=(16, 8))"
   ]
  },
  {
   "cell_type": "markdown",
   "metadata": {},
   "source": [
    "Looks like, the month of August is when the Police seem to have gone on a fining spree. "
   ]
  },
  {
   "cell_type": "markdown",
   "metadata": {},
   "source": [
    "## 15. Make a graph of the amount of revenue collected per day.\n"
   ]
  },
  {
   "cell_type": "markdown",
   "metadata": {
    "collapsed": true
   },
   "source": [
    "<< Not too sure on how to get this done>> "
   ]
  },
  {
   "cell_type": "markdown",
   "metadata": {},
   "source": [
    "## 16. Manually construct a dataframe out of https://dmv.ny.gov/statistic/2015licinforce-web.pdf (only NYC boroughts - bronx, queens, manhattan, staten island, brooklyn), having columns for borough name, abbreviation, and number of licensed drivers.\n"
   ]
  },
  {
   "cell_type": "code",
   "execution_count": 84,
   "metadata": {
    "collapsed": true
   },
   "outputs": [],
   "source": [
    "driversdf=pd.read_csv(\"drivers.csv\")"
   ]
  },
  {
   "cell_type": "code",
   "execution_count": 85,
   "metadata": {
    "collapsed": false
   },
   "outputs": [
    {
     "data": {
      "text/html": [
       "<div>\n",
       "<table border=\"1\" class=\"dataframe\">\n",
       "  <thead>\n",
       "    <tr style=\"text-align: right;\">\n",
       "      <th></th>\n",
       "      <th>County</th>\n",
       "      <th>Male</th>\n",
       "      <th>Female</th>\n",
       "      <th>Total</th>\n",
       "      <th>Borough Abbreviation</th>\n",
       "    </tr>\n",
       "  </thead>\n",
       "  <tbody>\n",
       "    <tr>\n",
       "      <th>0</th>\n",
       "      <td>BRONX</td>\n",
       "      <td>259845</td>\n",
       "      <td>197002</td>\n",
       "      <td>456847</td>\n",
       "      <td>BRONX</td>\n",
       "    </tr>\n",
       "    <tr>\n",
       "      <th>1</th>\n",
       "      <td>KINGS</td>\n",
       "      <td>555917</td>\n",
       "      <td>427852</td>\n",
       "      <td>983769</td>\n",
       "      <td>KINGS</td>\n",
       "    </tr>\n",
       "    <tr>\n",
       "      <th>2</th>\n",
       "      <td>NEW YORK</td>\n",
       "      <td>399606</td>\n",
       "      <td>348977</td>\n",
       "      <td>748583</td>\n",
       "      <td>NEW YORK</td>\n",
       "    </tr>\n",
       "    <tr>\n",
       "      <th>3</th>\n",
       "      <td>QUEENS</td>\n",
       "      <td>631912</td>\n",
       "      <td>502152</td>\n",
       "      <td>1134064</td>\n",
       "      <td>QUEENS</td>\n",
       "    </tr>\n",
       "    <tr>\n",
       "      <th>4</th>\n",
       "      <td>RICHMOND</td>\n",
       "      <td>156339</td>\n",
       "      <td>147911</td>\n",
       "      <td>304250</td>\n",
       "      <td>RICHMOND</td>\n",
       "    </tr>\n",
       "    <tr>\n",
       "      <th>5</th>\n",
       "      <td>NYC</td>\n",
       "      <td>2003619</td>\n",
       "      <td>1623894</td>\n",
       "      <td>3627513</td>\n",
       "      <td>NYC</td>\n",
       "    </tr>\n",
       "  </tbody>\n",
       "</table>\n",
       "</div>"
      ],
      "text/plain": [
       "     County     Male   Female    Total Borough Abbreviation\n",
       "0     BRONX   259845   197002   456847                BRONX\n",
       "1     KINGS   555917   427852   983769                KINGS\n",
       "2  NEW YORK   399606   348977   748583             NEW YORK\n",
       "3    QUEENS   631912   502152  1134064               QUEENS\n",
       "4  RICHMOND   156339   147911   304250             RICHMOND\n",
       "5       NYC  2003619  1623894  3627513                  NYC"
      ]
     },
     "execution_count": 85,
     "metadata": {},
     "output_type": "execute_result"
    }
   ],
   "source": [
    "driversdf.head(6)"
   ]
  },
  {
   "cell_type": "markdown",
   "metadata": {},
   "source": [
    "## 17. What's the parking-ticket in dollars-per-licensed-driver in each borough of NYC? Do this with pandas and the dataframe you just made, not with your head!"
   ]
  },
  {
   "cell_type": "code",
   "execution_count": 91,
   "metadata": {
    "collapsed": false
   },
   "outputs": [],
   "source": [
    "#MAKING DATAFRAMES FOR EACH OF THESE BOROUGHS/COUNTIES\n",
    "bronxviolations=newdf[newdf['Violation County']=='BRONX']\n",
    "brooklynviolations=newdf[newdf['Violation County']=='KINGS']\n",
    "manhattanviolations=newdf[newdf['Violation County']=='NY']\n",
    "queensviolations=newdf[newdf['Violation County']=='Q']\n",
    "statenislandviolations=newdf[newdf['Violation County']=='RICHMOND']"
   ]
  },
  {
   "cell_type": "code",
   "execution_count": 97,
   "metadata": {
    "collapsed": false
   },
   "outputs": [],
   "source": [
    "#GETTING THE TOTAL NUMBER OF DRIVERS FROM THE NEW DATA FRAME\n",
    "numberofdriversinbronx=driversdf.iloc[0]['Total']\n",
    "numberofdriversinbrooklyn=driversdf.iloc[1]['Total']\n",
    "numberofdriversinmanhattan=driversdf.iloc[2]['Total']\n",
    "numberofdriversinqueens=driversdf.iloc[3]['Total']\n",
    "numberofdriversinstatenisland=driversdf.iloc[4]['Total']\n"
   ]
  },
  {
   "cell_type": "code",
   "execution_count": 98,
   "metadata": {
    "collapsed": false
   },
   "outputs": [
    {
     "data": {
      "text/plain": [
       "14.477724489818254"
      ]
     },
     "execution_count": 98,
     "metadata": {},
     "output_type": "execute_result"
    }
   ],
   "source": [
    "bronxviolations['All Other Areas'].sum()/numberofdriversinbronx #AVERAGE PARKING TICKET PER DRIVER IN BRONX"
   ]
  },
  {
   "cell_type": "code",
   "execution_count": 99,
   "metadata": {
    "collapsed": false
   },
   "outputs": [
    {
     "data": {
      "text/plain": [
       "16.182579447004326"
      ]
     },
     "execution_count": 99,
     "metadata": {},
     "output_type": "execute_result"
    }
   ],
   "source": [
    "brooklynviolations['All Other Areas'].sum()/numberofdriversinbrooklyn #AVERAGE PARKING TICKET PER DRIVER IN BROOKLYN"
   ]
  },
  {
   "cell_type": "code",
   "execution_count": 100,
   "metadata": {
    "collapsed": false
   },
   "outputs": [
    {
     "data": {
      "text/plain": [
       "51.608425518613167"
      ]
     },
     "execution_count": 100,
     "metadata": {},
     "output_type": "execute_result"
    }
   ],
   "source": [
    "manhattanviolations['Manhattan\\xa0 96th St. & below'].sum()/numberofdriversinmanhattan #AVERAGE PARKING TICKET PER DRIVER IN MANHATTAN"
   ]
  },
  {
   "cell_type": "code",
   "execution_count": 101,
   "metadata": {
    "collapsed": false
   },
   "outputs": [
    {
     "data": {
      "text/plain": [
       "13.185256740360332"
      ]
     },
     "execution_count": 101,
     "metadata": {},
     "output_type": "execute_result"
    }
   ],
   "source": [
    "queensviolations['All Other Areas'].sum()/numberofdriversinqueens #AVERAGE PARKING TICKET PER DRIVER IN QUEENS"
   ]
  },
  {
   "cell_type": "code",
   "execution_count": 102,
   "metadata": {
    "collapsed": false
   },
   "outputs": [
    {
     "data": {
      "text/plain": [
       "2.2674281018898932"
      ]
     },
     "execution_count": 102,
     "metadata": {},
     "output_type": "execute_result"
    }
   ],
   "source": [
    "statenislandviolations['All Other Areas'].sum()/numberofdriversinstatenisland #AVERAGE PARKING TICKET PER DRIVER IN STATEN ISLAND"
   ]
  }
 ],
 "metadata": {
  "kernelspec": {
   "display_name": "Python 3",
   "language": "python",
   "name": "python3"
  },
  "language_info": {
   "codemirror_mode": {
    "name": "ipython",
    "version": 3
   },
   "file_extension": ".py",
   "mimetype": "text/x-python",
   "name": "python",
   "nbconvert_exporter": "python",
   "pygments_lexer": "ipython3",
   "version": "3.5.1"
  }
 },
 "nbformat": 4,
 "nbformat_minor": 0
}
