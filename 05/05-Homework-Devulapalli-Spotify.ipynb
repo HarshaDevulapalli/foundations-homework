{
 "cells": [
  {
   "cell_type": "markdown",
   "metadata": {
    "collapsed": false,
    "scrolled": true
   },
   "source": [
    "# SPOTIFY HOMEWORK NOTEBOOK"
   ]
  },
  {
   "cell_type": "markdown",
   "metadata": {},
   "source": [
    "1) With \"Lil Wayne\" and \"Lil Kim\" there are a lot of \"Lil\" musicians. Do a search and print a list of 50 that are playable in the USA (or the country of your choice), along with their popularity score."
   ]
  },
  {
   "cell_type": "code",
   "execution_count": 1,
   "metadata": {
    "collapsed": false
   },
   "outputs": [],
   "source": [
    "import requests\n",
    "lil_response = requests.get('https://api.spotify.com/v1/search?query=lil&type=artist&type=track&market=US&limit=50')\n",
    "#print(response.text)"
   ]
  },
  {
   "cell_type": "code",
   "execution_count": 2,
   "metadata": {
    "collapsed": true
   },
   "outputs": [],
   "source": [
    "lil_data = lil_response.json()"
   ]
  },
  {
   "cell_type": "code",
   "execution_count": 3,
   "metadata": {
    "collapsed": false
   },
   "outputs": [
    {
     "data": {
      "text/plain": [
       "dict_keys(['artists'])"
      ]
     },
     "execution_count": 3,
     "metadata": {},
     "output_type": "execute_result"
    }
   ],
   "source": [
    "lil_data.keys()\n",
    "#print(lil_data)"
   ]
  },
  {
   "cell_type": "code",
   "execution_count": 4,
   "metadata": {
    "collapsed": false
   },
   "outputs": [
    {
     "data": {
      "text/plain": [
       "dict_keys(['limit', 'next', 'offset', 'previous', 'href', 'total', 'items'])"
      ]
     },
     "execution_count": 4,
     "metadata": {},
     "output_type": "execute_result"
    }
   ],
   "source": [
    "lil_data['artists'].keys()\n"
   ]
  },
  {
   "cell_type": "code",
   "execution_count": 8,
   "metadata": {
    "collapsed": false
   },
   "outputs": [
    {
     "name": "stdout",
     "output_type": "stream",
     "text": [
      "Artist Name: Lil Wayne || Artist Popularity Score: 86 || Artist ID for reference,later 55Aa2cqylxrFIXC767Z865\n",
      "Artist Name: Lil Yachty || Artist Popularity Score: 73 || Artist ID for reference,later 6icQOAFXDZKsumw3YXyusw\n",
      "Artist Name: Lil Uzi Vert || Artist Popularity Score: 73 || Artist ID for reference,later 4O15NlyKLIASxsJ0PrXPfz\n",
      "Artist Name: Lil Dicky || Artist Popularity Score: 68 || Artist ID for reference,later 1tqhsYv8yBBdwANFNzHtcr\n",
      "Artist Name: Boosie Badazz || Artist Popularity Score: 67 || Artist ID for reference,later 6z7xFFHxYkE9t8bwIF0Bvg\n",
      "Artist Name: Lil Jon || Artist Popularity Score: 72 || Artist ID for reference,later 7sfl4Xt5KmfyDs2T3SVSMK\n",
      "Artist Name: King Lil G || Artist Popularity Score: 61 || Artist ID for reference,later 6L3x3if9RVimruryD9LoFb\n",
      "Artist Name: Lil Durk || Artist Popularity Score: 60 || Artist ID for reference,later 3hcs9uc56yIGFCSy9leWe7\n",
      "Artist Name: Lil Jon & The East Side Boyz || Artist Popularity Score: 60 || Artist ID for reference,later 3ciRvbBIVz9fBoPbtSYq4x\n",
      "Artist Name: Lil Bibby || Artist Popularity Score: 54 || Artist ID for reference,later 4uSN8Y3kgFNVULUWsZEAVW\n",
      "Artist Name: G Herbo || Artist Popularity Score: 53 || Artist ID for reference,later 5QdEbQJ3ylBnc3gsIASAT5\n",
      "Artist Name: Lil Rob || Artist Popularity Score: 50 || Artist ID for reference,later 7B7TGqQe7QTVm2U6q8jzk1\n",
      "Artist Name: Lil Reese || Artist Popularity Score: 50 || Artist ID for reference,later 1bPxKZtCdjB1aj1csBJpdS\n",
      "Artist Name: Lil Keke || Artist Popularity Score: 48 || Artist ID for reference,later 1grI9x4Uzos1Asx8JmRW6T\n",
      "Artist Name: Bow Wow || Artist Popularity Score: 57 || Artist ID for reference,later 7352aRY2mqSxBZwzUb6LmA\n",
      "Artist Name: Lil Scrappy || Artist Popularity Score: 49 || Artist ID for reference,later 5einkgXXrjhfYCyac1FANB\n",
      "Artist Name: Lil Wyte || Artist Popularity Score: 50 || Artist ID for reference,later 21O7WwRkik43ErKppxDKJq\n",
      "Artist Name: Lil Blood || Artist Popularity Score: 45 || Artist ID for reference,later 74nSA5FdDOuuLw7Rn5JnuP\n",
      "Artist Name: Lil Snupe || Artist Popularity Score: 45 || Artist ID for reference,later 42FaEHFfyxTdZQ5W28dXnj\n",
      "Artist Name: Lil Mama || Artist Popularity Score: 45 || Artist ID for reference,later 5qK5bOC6wLtuLhG5KvU17c\n",
      "Artist Name: Lil B || Artist Popularity Score: 44 || Artist ID for reference,later 4dqh62yIzDBmrMeBOLiP5F\n",
      "Artist Name: Lil' Kim || Artist Popularity Score: 62 || Artist ID for reference,later 5tth2a3v0sWwV1C7bApBdX\n",
      "Artist Name: Lil Cuete || Artist Popularity Score: 40 || Artist ID for reference,later 1I5u5Umau1AgHl0ZbPL1oR\n",
      "Artist Name: Lil Phat || Artist Popularity Score: 39 || Artist ID for reference,later 3QnIBUOS4mUzs67rZ8r4c9\n",
      "Artist Name: Lil Boom || Artist Popularity Score: 42 || Artist ID for reference,later 1mmlWsyPJvvxMdabcGJjRn\n",
      "Artist Name: Lil Debbie || Artist Popularity Score: 43 || Artist ID for reference,later 3FNZcjyqT7F5upP99JV0oN\n",
      "Artist Name: Lil Twist || Artist Popularity Score: 40 || Artist ID for reference,later 564gvOqSRcQoYAhaBpTiK2\n",
      "Artist Name: Lil Trill || Artist Popularity Score: 37 || Artist ID for reference,later 5EQERGi7ffHvHsv3bnqzBn\n",
      "Artist Name: Lil AJ || Artist Popularity Score: 37 || Artist ID for reference,later 2jXwYLNnCxNavms4mc1DYM\n",
      "Artist Name: Lil Lonnie || Artist Popularity Score: 37 || Artist ID for reference,later 6zSBkdKFLKKggDtE3amfCk\n",
      "Artist Name: Lil Twon || Artist Popularity Score: 37 || Artist ID for reference,later 5YZZbPdI7P7te3lW3dTpzK\n",
      "Artist Name: Lil Goofy || Artist Popularity Score: 35 || Artist ID for reference,later 3rWaFjgOi5mjQfllMfN3VI\n",
      "Artist Name: Lil Haiti || Artist Popularity Score: 37 || Artist ID for reference,later 4E9dumwOMLlTyXUp1i2WdI\n",
      "Artist Name: Lil Cray || Artist Popularity Score: 35 || Artist ID for reference,later 43BqexhEx5NKF7VfeOYP9m\n",
      "Artist Name: Mr. Lil One || Artist Popularity Score: 36 || Artist ID for reference,later 6tslWi0BXiDdtChermDzkU\n",
      "Artist Name: Lil Flash || Artist Popularity Score: 38 || Artist ID for reference,later 069qBEK34YGoX7nSIT74Eg\n",
      "Artist Name: Lil Silva || Artist Popularity Score: 43 || Artist ID for reference,later 2Kv0ApBohrL213X9avMrEn\n",
      "Artist Name: Lil Yase || Artist Popularity Score: 34 || Artist ID for reference,later 4vIlHBnzWKbmWe8ZOkT1ZT\n",
      "Artist Name: Lil Eddie || Artist Popularity Score: 41 || Artist ID for reference,later 5CY0QKsbUBpQJIE2yycsYi\n",
      "Artist Name: Lil Rue || Artist Popularity Score: 34 || Artist ID for reference,later 4IFVaKBbEO8Qkurg6nmoc4\n",
      "Artist Name: Lil Kesh || Artist Popularity Score: 39 || Artist ID for reference,later 38XiDu0kK3Z5jdHUDqBzNT\n",
      "Artist Name: Lil Suzy || Artist Popularity Score: 34 || Artist ID for reference,later 5HPsVk1MblCoa44WLJsQwN\n",
      "Artist Name: Lil Wayne, DJ Drama || Artist Popularity Score: 35 || Artist ID for reference,later 65npPa1U4cgobX9wU7Jgpb\n",
      "Artist Name: Lil Mouse || Artist Popularity Score: 34 || Artist ID for reference,later 1cEHxCgGlEgqBc91YOcAEQ\n",
      "Artist Name: Lil C || Artist Popularity Score: 33 || Artist ID for reference,later 69swdLSkKxCQBMYJ55O2mA\n",
      "Artist Name: Lil Rick || Artist Popularity Score: 39 || Artist ID for reference,later 1qKzKUnuQsjB83hBZffoq0\n",
      "Artist Name: Lil June || Artist Popularity Score: 32 || Artist ID for reference,later 3GH3KD2078kLPpEkN1UN26\n",
      "Artist Name: Lil E || Artist Popularity Score: 34 || Artist ID for reference,later 0zn6yzsbWj3EPMgOTqfG5k\n",
      "Artist Name: Lil Fate || Artist Popularity Score: 34 || Artist ID for reference,later 6JUnsP7jmvYmdhbg7lTMQj\n",
      "Artist Name: Lil' Flip || Artist Popularity Score: 50 || Artist ID for reference,later 4Q5sPmM8j4SpMqL4UA1DtS\n"
     ]
    }
   ],
   "source": [
    "lil_artists = lil_data['artists']['items']\n",
    "for artist in lil_artists:\n",
    "    print(\"Artist Name:\",artist['name'],\"|| Artist Popularity Score:\",artist['popularity'],\"|| Artist ID for reference,later\",artist['id'])"
   ]
  },
  {
   "cell_type": "markdown",
   "metadata": {
    "collapsed": true
   },
   "source": [
    "2) What genres are most represented in the search results? Edit your previous printout to also display a list of their genres in the format \"GENRE_1, GENRE_2, GENRE_3\". If there are no genres, print \"No genres listed\".\n",
    "Tip: \"how to join a list Python\" might be a helpful search"
   ]
  },
  {
   "cell_type": "code",
   "execution_count": 6,
   "metadata": {
    "collapsed": false
   },
   "outputs": [
    {
     "name": "stdout",
     "output_type": "stream",
     "text": [
      "Artist Name: Lil Wayne\n",
      "Artist Genres: dirty south rap,pop rap,southern hip hop,trap music\n",
      "Artist Name: Lil Yachty\n",
      "No genres listed.\n",
      "Artist Name: Lil Uzi Vert\n",
      "No genres listed.\n",
      "Artist Name: Lil Dicky\n",
      "No genres listed.\n",
      "Artist Name: Boosie Badazz\n",
      "No genres listed.\n",
      "Artist Name: Lil Jon\n",
      "Artist Genres: crunk,dirty south rap,southern hip hop\n",
      "Artist Name: King Lil G\n",
      "No genres listed.\n",
      "Artist Name: Lil Durk\n",
      "No genres listed.\n",
      "Artist Name: Lil Jon & The East Side Boyz\n",
      "No genres listed.\n",
      "Artist Name: Lil Bibby\n",
      "No genres listed.\n",
      "Artist Name: G Herbo\n",
      "No genres listed.\n",
      "Artist Name: Lil Rob\n",
      "Artist Genres: chicano rap,latin hip hop\n",
      "Artist Name: Lil Reese\n",
      "No genres listed.\n",
      "Artist Name: Lil Keke\n",
      "No genres listed.\n",
      "Artist Name: Bow Wow\n",
      "Artist Genres: hip pop,pop rap\n",
      "Artist Name: Lil Scrappy\n",
      "Artist Genres: crunk,dirty south rap,southern hip hop,trap music\n",
      "Artist Name: Lil Wyte\n",
      "Artist Genres: juggalo\n",
      "Artist Name: Lil Blood\n",
      "No genres listed.\n",
      "Artist Name: Lil Snupe\n",
      "No genres listed.\n",
      "Artist Name: Lil Mama\n",
      "Artist Genres: hip pop\n",
      "Artist Name: Lil B\n",
      "No genres listed.\n",
      "Artist Name: Lil' Kim\n",
      "Artist Genres: hip pop\n",
      "Artist Name: Lil Cuete\n",
      "Artist Genres: chicano rap\n",
      "Artist Name: Lil Phat\n",
      "No genres listed.\n",
      "Artist Name: Lil Boom\n",
      "No genres listed.\n",
      "Artist Name: Lil Debbie\n",
      "No genres listed.\n",
      "Artist Name: Lil Twist\n",
      "Artist Genres: jerk\n",
      "Artist Name: Lil Trill\n",
      "Artist Genres: deep trap\n",
      "Artist Name: Lil AJ\n",
      "No genres listed.\n",
      "Artist Name: Lil Lonnie\n",
      "No genres listed.\n",
      "Artist Name: Lil Twon\n",
      "No genres listed.\n",
      "Artist Name: Lil Goofy\n",
      "No genres listed.\n",
      "Artist Name: Lil Haiti\n",
      "No genres listed.\n",
      "Artist Name: Lil Cray\n",
      "No genres listed.\n",
      "Artist Name: Mr. Lil One\n",
      "Artist Genres: chicano rap\n",
      "Artist Name: Lil Flash\n",
      "No genres listed.\n",
      "Artist Name: Lil Silva\n",
      "No genres listed.\n",
      "Artist Name: Lil Yase\n",
      "No genres listed.\n",
      "Artist Name: Lil Eddie\n",
      "No genres listed.\n",
      "Artist Name: Lil Rue\n",
      "No genres listed.\n",
      "Artist Name: Lil Kesh\n",
      "No genres listed.\n",
      "Artist Name: Lil Suzy\n",
      "Artist Genres: freestyle\n",
      "Artist Name: Lil Wayne, DJ Drama\n",
      "No genres listed.\n",
      "Artist Name: Lil Mouse\n",
      "No genres listed.\n",
      "Artist Name: Lil C\n",
      "No genres listed.\n",
      "Artist Name: Lil Rick\n",
      "Artist Genres: soca\n",
      "Artist Name: Lil June\n",
      "No genres listed.\n",
      "Artist Name: Lil E\n",
      "No genres listed.\n",
      "Artist Name: Lil Fate\n",
      "No genres listed.\n",
      "Artist Name: Lil' Flip\n",
      "Artist Genres: crunk,dirty south rap\n"
     ]
    }
   ],
   "source": [
    "for artist in lil_artists:\n",
    "        print(\"Artist Name:\",artist['name'])\n",
    "        if not artist['genres']==[]:\n",
    "            print(\"Artist Genres:\",\",\".join(artist['genres']))\n",
    "        else:\n",
    "            print(\"No genres listed.\")"
   ]
  },
  {
   "cell_type": "markdown",
   "metadata": {
    "collapsed": true
   },
   "source": [
    "3) Use a for loop to determine who BESIDES Lil Wayne has the highest popularity rating. Is it the same artist who has the largest number of followers?"
   ]
  },
  {
   "cell_type": "code",
   "execution_count": 24,
   "metadata": {
    "collapsed": false
   },
   "outputs": [
    {
     "name": "stdout",
     "output_type": "stream",
     "text": [
      "Artist Name: Lil Uzi Vert || Popularity Score: 73\n"
     ]
    }
   ],
   "source": [
    "artistpopularity=0\n",
    "for artist in lil_artists:\n",
    "    if not artist['name']=='Lil Wayne':\n",
    "        if artist['popularity'] > artistpopularity:\n",
    "            artistpopularity=artist['popularity']\n",
    "            artistname=artist['name']\n",
    "print(\"Artist Name:\",artistname, \"|| Popularity Score:\",artistpopularity)\n",
    "            "
   ]
  },
  {
   "cell_type": "code",
   "execution_count": 9,
   "metadata": {
    "collapsed": false
   },
   "outputs": [
    {
     "name": "stdout",
     "output_type": "stream",
     "text": [
      "256564\n",
      "Lil Jon\n"
     ]
    }
   ],
   "source": [
    "artistfollowers=0\n",
    "for artist in lil_artists:\n",
    "    if not artist['name']=='Lil Wayne':\n",
    "        if artist['followers']['total'] > artistfollowers:\n",
    "            artistfollowers=artist['followers']['total']\n",
    "            artistname=artist['name']\n",
    "print(artistfollowers)\n",
    "print(artistname)\n",
    "                "
   ]
  },
  {
   "cell_type": "markdown",
   "metadata": {
    "collapsed": true
   },
   "source": [
    "4) Print a list of Lil's that are more popular than Lil' Kim."
   ]
  },
  {
   "cell_type": "code",
   "execution_count": 26,
   "metadata": {
    "collapsed": false
   },
   "outputs": [
    {
     "name": "stdout",
     "output_type": "stream",
     "text": [
      "Artist Name: Lil Wayne Popularity Score: 86\n",
      "Artist Name: Lil Yachty Popularity Score: 72\n",
      "Artist Name: Lil Uzi Vert Popularity Score: 73\n",
      "Artist Name: Lil Dicky Popularity Score: 68\n",
      "Artist Name: Boosie Badazz Popularity Score: 67\n",
      "Artist Name: Lil Jon Popularity Score: 72\n"
     ]
    }
   ],
   "source": [
    "kimpopularity=0\n",
    "for artist in lil_artists:\n",
    "    if artist['name']==\"Lil' Kim\":\n",
    "        kimpopularity=artist['popularity']\n",
    "for artist in lil_artists:\n",
    "    if kimpopularity < artist['popularity']:\n",
    "        print(\"Artist Name:\",artist['name'], \"Popularity Score:\",artist['popularity'])"
   ]
  },
  {
   "cell_type": "markdown",
   "metadata": {
    "collapsed": true
   },
   "source": [
    "5) Pick two of your favorite Lils to fight it out, and use their IDs to print out their top tracks.\n",
    "Tip: You're going to be making two separate requests, be sure you DO NOT save them into the same variable."
   ]
  },
  {
   "cell_type": "code",
   "execution_count": 27,
   "metadata": {
    "collapsed": false
   },
   "outputs": [
    {
     "name": "stdout",
     "output_type": "stream",
     "text": [
      "BBE Challenge\n",
      "Certified Freak (feat. Beatking)\n",
      "Solid (feat. D Bo & Kevin Gates)\n",
      "Dat $tick (feat. Yung Navo)\n",
      "Thugged Out (feat. Ralph)\n",
      "Skrilla\n",
      "Street Life (feat. Kevin Gates)\n",
      "I Deserve Ya\n",
      "Fuckin' Dat (feat. D Bo)\n",
      "Young Wild and Reckless\n"
     ]
    }
   ],
   "source": [
    "artist_id = \"0zn6yzsbWj3EPMgOTqfG5k\"\n",
    "\n",
    "response = requests.get(\"https://api.spotify.com/v1/artists/\" + artist_id + \"/top-tracks?country=US\")\n",
    "data = response.json()\n",
    "tracks_e = data['tracks']\n",
    "for track in tracks_e:\n",
    "    print(track['name'])\n"
   ]
  },
  {
   "cell_type": "code",
   "execution_count": 28,
   "metadata": {
    "collapsed": false
   },
   "outputs": [
    {
     "name": "stdout",
     "output_type": "stream",
     "text": [
      "Shortie Like Mine\n",
      "Outta My System\n",
      "Let Me Hold You\n",
      "Like You\n",
      "Basketball\n",
      "Ain't Thinkin' 'Bout You\n",
      "Fresh Az I'm Iz\n",
      "Girlfriend - Explicit Album Version\n",
      "You Can Get It All - Album Crossfade Version\n",
      "Sweat\n"
     ]
    }
   ],
   "source": [
    "artist_id = \"7352aRY2mqSxBZwzUb6LmA\"\n",
    "\n",
    "response = requests.get(\"https://api.spotify.com/v1/artists/\" + artist_id + \"/top-tracks?country=US\")\n",
    "data = response.json()\n",
    "tracks_bowwow = data['tracks']\n",
    "for track in tracks_bowwow:\n",
    "    print(track['name'])"
   ]
  },
  {
   "cell_type": "markdown",
   "metadata": {
    "collapsed": true
   },
   "source": [
    "6) Will the world explode if a musicians swears? Get an average popularity for their explicit songs vs. their non-explicit songs. How many minutes of explicit songs do they have? Non-explicit?"
   ]
  },
  {
   "cell_type": "code",
   "execution_count": 11,
   "metadata": {
    "collapsed": false
   },
   "outputs": [
    {
     "name": "stdout",
     "output_type": "stream",
     "text": [
      "The Average Popularity of Explicit Songs by the Artist Lil E is 6.285714285714286\n",
      "The minutes of Explicit Songs in their album 25.386766666666666 minutes\n",
      "The Average Popularity of Clean Songs by the Artist Lil E is 17.0\n",
      "The minutes of Explicit Songs in their album 7.264783333333333 minutes\n"
     ]
    }
   ],
   "source": [
    "artist_id = \"0zn6yzsbWj3EPMgOTqfG5k\"\n",
    "popularity_of_explicit_e=0\n",
    "popularity_of_clean_e=0\n",
    "c_count=0\n",
    "e_count=0\n",
    "e_time=0\n",
    "c_time=0\n",
    "response = requests.get(\"https://api.spotify.com/v1/artists/\" + artist_id + \"/top-tracks?country=US\")\n",
    "data = response.json()\n",
    "tracks_e = data['tracks']\n",
    "for track in tracks_e:\n",
    "   \n",
    "    if track['explicit']==True:\n",
    "        popularity_of_explicit_e= popularity_of_explicit_e+track['popularity']\n",
    "        e_count=e_count+1\n",
    "        e_time=e_time+track['duration_ms']\n",
    "    else:\n",
    "        popularity_of_clean_e= popularity_of_clean_e+track['popularity']\n",
    "        c_count=c_count+1\n",
    "        c_time=c_time+track['duration_ms']\n",
    "print(\"The Average Popularity of Explicit Songs by the Artist Lil E is\",popularity_of_explicit_e/e_count)\n",
    "print(\"The minutes of Explicit Songs in their album\",(e_time/1000)/60,\"minutes\")\n",
    "print(\"The Average Popularity of Clean Songs by the Artist Lil E is\",popularity_of_clean_e/c_count)\n",
    "print(\"The minutes of Explicit Songs in their album\",(c_time/1000)/60,\"minutes\")\n",
    "    \n"
   ]
  },
  {
   "cell_type": "code",
   "execution_count": 12,
   "metadata": {
    "collapsed": false
   },
   "outputs": [
    {
     "name": "stdout",
     "output_type": "stream",
     "text": [
      "The Average Popularity of Explicit Songs by the Artist Lil Bow Wow is 56.333333333333336\n",
      "The minutes of Explicit Songs in their album 38.86073333333333 minutes\n",
      "The Average Popularity of Clean Songs by the Artist Lil Bow Wow is 56.0\n",
      "The minutes of Explicit Songs in their album 34.66851666666666 minutes\n"
     ]
    }
   ],
   "source": [
    "artist_id = \"7352aRY2mqSxBZwzUb6LmA\"\n",
    "popularity_of_explicit_bowwow=0\n",
    "popularity_of_clean_bowwow=0\n",
    "c_count=0\n",
    "e_count=0\n",
    "\n",
    "response = requests.get(\"https://api.spotify.com/v1/artists/\" + artist_id + \"/top-tracks?country=US\")\n",
    "data = response.json()\n",
    "tracks_bowwow = data['tracks']\n",
    "for track in tracks_bowwow:\n",
    "    if track['explicit']==True:\n",
    "        popularity_of_explicit_e= popularity_of_explicit_e+track['popularity']\n",
    "        e_count=e_count+1\n",
    "        e_time=e_time+track['duration_ms']\n",
    "    else:\n",
    "        popularity_of_clean_e= popularity_of_clean_e+track['popularity']\n",
    "        c_count=c_count+1\n",
    "        c_time=c_time+track['duration_ms']\n",
    "print(\"The Average Popularity of Explicit Songs by the Artist Lil Bow Wow is\",popularity_of_explicit_e/e_count)\n",
    "print(\"The minutes of Explicit Songs in their album\",(e_time/1000)/60,\"minutes\")\n",
    "print(\"The Average Popularity of Clean Songs by the Artist Lil Bow Wow is\",popularity_of_clean_e/c_count)\n",
    "print(\"The minutes of Explicit Songs in their album\",(c_time/1000)/60,\"minutes\")"
   ]
  },
  {
   "cell_type": "markdown",
   "metadata": {
    "collapsed": true
   },
   "source": [
    "7) Since we're talking about Lils, what about Biggies? How many total \"Biggie\" artists are there? How many total \"Lil\"s? If you made 1 request every 5 seconds, how long would it take to download information on all the Lils vs the Biggies?"
   ]
  },
  {
   "cell_type": "code",
   "execution_count": 64,
   "metadata": {
    "collapsed": false
   },
   "outputs": [
    {
     "name": "stdout",
     "output_type": "stream",
     "text": [
      "There are in total 50 Biggies\n",
      "There are in total 4513 Lils.\n"
     ]
    }
   ],
   "source": [
    "biggie_artist_count = 0\n",
    "offset_value = 0\n",
    "for page in range(0, 100):\n",
    "    biggie_response = requests.get('https://api.spotify.com/v1/search?query=biggie&type=artist&limit=50&offset=' + str(offset_value) + '')\n",
    "    biggie_data = biggie_response.json()\n",
    "    biggie_artists = biggie_data['artists']['items']\n",
    "\n",
    "    for artist in biggie_artists:\n",
    "        biggie_artist_count = biggie_artist_count + 1\n",
    "    offset_value = offset_value + 50\n",
    "print(\"There are in total\", biggie_artist_count, \"Biggies\")\n",
    "\n",
    "lil_artist_count = 0\n",
    "offset_value = 0\n",
    "for page in range(0, 100):\n",
    "    lil_response = requests.get('https://api.spotify.com/v1/search?query=lil&type=artist&limit=50&offset=' + str(offset_value) + '')\n",
    "    lil_data = lil_response.json()\n",
    "    lil_artists = lil_data['artists']['items']\n",
    "\n",
    "    for artist in lil_artists:\n",
    "        lil_artist_count = lil_artist_count + 1\n",
    "    offset_value = offset_value + 50\n",
    "print(\"There are in total\", lil_artist_count, \"Lils.\")\n"
   ]
  },
  {
   "cell_type": "markdown",
   "metadata": {
    "collapsed": true
   },
   "source": [
    "8) Out of the top 50 \"Lil\"s and the top 50 \"Biggie\"s, who is more popular on average?"
   ]
  },
  {
   "cell_type": "code",
   "execution_count": 17,
   "metadata": {
    "collapsed": false,
    "scrolled": true
   },
   "outputs": [
    {
     "name": "stdout",
     "output_type": "stream",
     "text": [
      "Average Popularity of Lil's is 46.42\n",
      "Average Popularity of Biggies's is 3.86\n",
      "Lils are more popular.\n"
     ]
    }
   ],
   "source": [
    "import requests\n",
    "big_response = requests.get('https://api.spotify.com/v1/search?query=biggie&type=artist&type=track&market=US&limit=50')\n",
    "lil_response = requests.get('https://api.spotify.com/v1/search?query=lil&type=artist&type=track&market=US&limit=50')\n",
    "lil_data = lil_response.json()\n",
    "big_data = big_response.json()\n",
    "lil_count=0\n",
    "lil_popularity=0\n",
    "big_count=0\n",
    "big_popularity=0\n",
    "lil_artists = lil_data['artists']['items']\n",
    "big_artists = big_data['artists']['items']\n",
    "\n",
    "for count in lil_artists:\n",
    "    lil_popularity=lil_popularity+count['popularity']\n",
    "    \n",
    "for count in big_artists:\n",
    "    big_popularity=big_popularity+count['popularity']    \n",
    "\n",
    "print (\"Average Popularity of Lil's is\",lil_popularity/50)\n",
    "print (\"Average Popularity of Biggies's is\",big_popularity/50)\n",
    "\n",
    "if lil_popularity/50>big_popularity/50:\n",
    "    print(\"Lils are more popular.\")\n",
    "else:\n",
    "    print(\"Biggies are more popular.\")"
   ]
  }
 ],
 "metadata": {
  "kernelspec": {
   "display_name": "Python 3",
   "language": "python",
   "name": "python3"
  },
  "language_info": {
   "codemirror_mode": {
    "name": "ipython",
    "version": 3
   },
   "file_extension": ".py",
   "mimetype": "text/x-python",
   "name": "python",
   "nbconvert_exporter": "python",
   "pygments_lexer": "ipython3",
   "version": "3.5.1"
  }
 },
 "nbformat": 4,
 "nbformat_minor": 0
}
