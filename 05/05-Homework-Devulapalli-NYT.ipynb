{
 "cells": [
  {
   "cell_type": "markdown",
   "metadata": {},
   "source": [
    "1) What books topped the Hardcover Fiction NYT best-sellers list on Mother's Day in 2009 and 2010? How about Father's Day?"
   ]
  },
  {
   "cell_type": "code",
   "execution_count": 11,
   "metadata": {
    "collapsed": false
   },
   "outputs": [
    {
     "name": "stdout",
     "output_type": "stream",
     "text": [
      "The Best Sellers on 2009-05-08 are the following:\n",
      "\n",
      "1 . FIRST FAMILY by David Baldacci\n",
      "2 . TEA TIME FOR THE TRADITIONALLY BUILT by Alexander McCall Smith\n",
      "3 . LOITERING WITH INTENT by Stuart Woods\n",
      "4 . JUST TAKE MY HEART by Mary Higgins Clark\n",
      "5 . THE PERFECT POISON by Amanda Quick\n",
      "6 . THE HOST by Stephenie Meyer\n",
      "7 . LOOK AGAIN by Lisa Scottoline\n",
      "8 . DEADLOCK by Iris Johansen\n",
      "9 . LONG LOST by Harlan Coben\n",
      "10 . TURN COAT by Jim Butcher\n",
      "11 . THE ASSOCIATE by John Grisham\n",
      "12 . HANDLE WITH CARE by Jodi Picoult\n",
      "13 . THE HELP by Kathryn Stockett\n",
      "14 . THE GUERNSEY LITERARY AND POTATO PEEL PIE SOCIETY by Mary Ann Shaffer and Annie Barrows\n",
      "15 . FATALLY FLAKY by Diane Mott Davidson\n",
      "16 . ARTHAS by Christie Golden\n",
      "17 . A RELIABLE WIFE by Robert Goolrick\n",
      "18 . BORDERLINE by Nevada Barr\n",
      "19 . ONE SECOND AFTER by William R Forstchen\n",
      "20 . BONEMAN'S DAUGHTERS by Ted Dekker\n"
     ]
    }
   ],
   "source": [
    "import requests\n",
    "date='2009-05-08' #Replace with 2010-05-09,2009-06-21,2010-06-20\n",
    "url=\"https://api.nytimes.com/svc/books/v2/lists/\"+date+\"/hardcover-fiction.json?&num_results=1&api-key=4182fa9aca904ae18f4a1f6bef2fc7e9\"\n",
    "response=requests.get(url)\n",
    "data=response.json()\n",
    "print(\"The Best Sellers on\",date,\"are the following:\")\n",
    "print(\"\")\n",
    "for n in range(0,len(data['results'])):\n",
    "    for title in data['results'][n]['book_details']:\n",
    "        print(n+1,\".\",title['title'],\"by\",title['author'])"
   ]
  },
  {
   "cell_type": "code",
   "execution_count": 438,
   "metadata": {
    "collapsed": false
   },
   "outputs": [
    {
     "name": "stdout",
     "output_type": "stream",
     "text": [
      "The Best Sellers on 2010-05-09 are the following:\n",
      "\n",
      "1 . DELIVER US FROM EVIL by David Baldacci\n",
      "2 . THE HELP by Kathryn Stockett\n",
      "3 . THE DOUBLE COMFORT SAFARI CLUB by Alexander McCall Smith\n",
      "4 . THIS BODY OF DEATH by Elizabeth George\n",
      "5 . LUCID INTERVALS by Stuart Woods\n",
      "6 . THE SHADOW OF YOUR SMILE by Mary Higgins Clark\n",
      "7 . BURNING LAMP by Amanda Quick\n",
      "8 . EVERY LAST ONE by Anna Quindlen\n",
      "9 . EIGHT DAYS TO LIVE by Iris Johansen\n",
      "10 . CHANGES by Jim Butcher\n",
      "11 . CAUGHT by Harlan Coben\n",
      "12 . HOUSE RULES by Jodi Picoult\n",
      "13 . MATTERHORN by Karl Marlantes\n",
      "14 . THE WALK by Richard Paul Evans\n",
      "15 . DECEPTION by Jonathan Kellerman\n",
      "16 . BEATRICE AND VIRGIL by Yann Martel\n",
      "17 . WRECKED by Carol Higgins Clark\n",
      "18 . SILVER BORNE by Patricia Briggs\n",
      "19 . ABRAHAM LINCOLN: VAMPIRE HUNTER by Seth Grahame-Smith\n",
      "20 . A RIVER IN THE SKY by Elizabeth Peters\n"
     ]
    }
   ],
   "source": [
    "import requests\n",
    "date='2010-05-09' #Replace with 2010-05-09,2009-06-21,2010-06-20\n",
    "url=\"https://api.nytimes.com/svc/books/v2/lists/\"+date+\"/hardcover-fiction.json?&num_results=1&api-key=4182fa9aca904ae18f4a1f6bef2fc7e9\"\n",
    "response=requests.get(url)\n",
    "data=response.json()\n",
    "print(\"The Best Sellers on\",date,\"are the following:\")\n",
    "print(\"\")\n",
    "for n in range(0,len(data['results'])):\n",
    "    for title in data['results'][n]['book_details']:\n",
    "        print(n+1,\".\",title['title'],\"by\",title['author'])"
   ]
  },
  {
   "cell_type": "code",
   "execution_count": 14,
   "metadata": {
    "collapsed": false
   },
   "outputs": [
    {
     "name": "stdout",
     "output_type": "stream",
     "text": [
      "The Best Sellers on 2009-06-21 are the following:\n",
      "\n",
      "1 . SKIN TRADE by Laurell K Hamilton\n",
      "2 . MEDUSA by Clive Cussler and Paul Kemprecos\n",
      "3 . THE SCARECROW by Michael Connelly\n",
      "4 . SHANGHAI GIRLS by Lisa See\n",
      "5 . MATTERS OF THE HEART by Danielle Steel\n",
      "6 . GONE TOMORROW by Lee Child\n",
      "7 . DEAD AND GONE by Charlaine Harris\n",
      "8 . THE 8TH CONFESSION by James Patterson and Maxine Paetro\n",
      "9 . THE STRAIN by Guillermo del Toro and Chuck Hogan\n",
      "10 . WICKED PREY by John Sandford\n",
      "11 . THE HOST by Stephenie Meyer\n",
      "12 . FIRST FAMILY by David Baldacci\n",
      "13 . CEMETERY DANCE by Douglas Preston and Lincoln Child\n",
      "14 . UNDEAD AND UNWELCOME by MaryJanice Davidson\n",
      "15 . THE HELP by Kathryn Stockett\n",
      "16 . PYGMY by Chuck Palahniuk\n",
      "17 . MY FATHER'S TEARS AND OTHER STORIES by John Updike\n",
      "18 . ROAD DOGS by Elmore Leonard\n",
      "19 . THE STORY SISTERS by Alice Hoffman\n",
      "20 . HEARTLESS by Diana Palmer\n"
     ]
    }
   ],
   "source": [
    "import requests\n",
    "date='2009-06-21' #Replace with 2010-05-09,2009-06-21,2010-06-20\n",
    "url=\"https://api.nytimes.com/svc/books/v2/lists/\"+date+\"/hardcover-fiction.json?&num_results=1&api-key=4182fa9aca904ae18f4a1f6bef2fc7e9\"\n",
    "response=requests.get(url)\n",
    "data=response.json()\n",
    "print(\"The Best Sellers on\",date,\"are the following:\")\n",
    "print(\"\")\n",
    "for n in range(0,len(data['results'])):\n",
    "    for title in data['results'][n]['book_details']:\n",
    "        print(n+1,\".\",title['title'],\"by\",title['author'])"
   ]
  },
  {
   "cell_type": "code",
   "execution_count": 15,
   "metadata": {
    "collapsed": false
   },
   "outputs": [
    {
     "name": "stdout",
     "output_type": "stream",
     "text": [
      "The Best Sellers on 2010-06-20 are the following:\n",
      "\n",
      "1 . THE GIRL WHO KICKED THE HORNET’S NEST by Stieg Larsson\n",
      "2 . BULLET by Laurell K Hamilton\n",
      "3 . THE SPY by Clive Cussler and Justin Scott\n",
      "4 . THE HELP by Kathryn Stockett\n",
      "5 . DEAD IN THE FAMILY by Charlaine Harris\n",
      "6 . 61 HOURS by Lee Child\n",
      "7 . THE BURNING WIRE by Jeffery Deaver\n",
      "8 . STORM PREY by John Sandford\n",
      "9 . THE BOURNE OBJECTIVE by Eric Van Lustbader\n",
      "10 . INNOCENT by Scott Turow\n",
      "11 . HEART OF THE MATTER by Emily Giffin\n",
      "12 . THE 9TH JUDGMENT by James Patterson and Maxine Paetro\n",
      "13 . BLOCKADE BILLY by Stephen King\n",
      "14 . ALLIES by Christie Golden\n",
      "15 . THE RULE OF NINE by Steve Martini\n",
      "16 . FEVER DREAM by Lincoln Child and Douglas Preston\n",
      "17 . DELIVER US FROM EVIL by David Baldacci\n",
      "18 . MATTERHORN by Karl Marlantes\n",
      "19 . THE PARTICULAR SADNESS OF LEMON CAKE by Aimee Bender\n",
      "20 . DANGEROUS by Diana Palmer\n"
     ]
    }
   ],
   "source": [
    "import requests\n",
    "date='2010-06-20' #Replace with 2010-05-09,2009-06-21,2010-06-20\n",
    "url=\"https://api.nytimes.com/svc/books/v2/lists/\"+date+\"/hardcover-fiction.json?&num_results=1&api-key=4182fa9aca904ae18f4a1f6bef2fc7e9\"\n",
    "response=requests.get(url)\n",
    "data=response.json()\n",
    "print(\"The Best Sellers on\",date,\"are the following:\")\n",
    "print(\"\")\n",
    "for n in range(0,len(data['results'])):\n",
    "    for title in data['results'][n]['book_details']:\n",
    "        print(n+1,\".\",title['title'],\"by\",title['author'])"
   ]
  },
  {
   "cell_type": "markdown",
   "metadata": {},
   "source": [
    "2) What are all the different book categories the NYT ranked in June 6, 2009? How about June 6, 2015?"
   ]
  },
  {
   "cell_type": "code",
   "execution_count": 16,
   "metadata": {
    "collapsed": false
   },
   "outputs": [
    {
     "name": "stdout",
     "output_type": "stream",
     "text": [
      "The different book categories NYT ranked on 2009-06-06 are:\n",
      "\n",
      "Combined Print and E-Book Fiction\n",
      "Combined Print and E-Book Nonfiction\n",
      "Hardcover Fiction\n",
      "Hardcover Nonfiction\n",
      "Trade Fiction Paperback\n",
      "Mass Market Paperback\n"
     ]
    }
   ],
   "source": [
    "import requests\n",
    "date='2009-06-06'\n",
    "url=\"https://api.nytimes.com/svc/books/v3/lists/overview.json?&api-key=4182fa9aca904ae18f4a1f6bef2fc7e9\"\n",
    "response=requests.get(url)\n",
    "data=response.json()\n",
    "print(\"The different book categories NYT ranked on\",date,\"are:\")\n",
    "print(\"\")\n",
    "for n in range(0,len(data['results'])):\n",
    "   print(data['results']['lists'][n]['list_name'])"
   ]
  },
  {
   "cell_type": "code",
   "execution_count": 17,
   "metadata": {
    "collapsed": false
   },
   "outputs": [
    {
     "name": "stdout",
     "output_type": "stream",
     "text": [
      "The different book categories NYT ranked on 2015-06-06 are:\n",
      "\n",
      "Combined Print and E-Book Fiction\n",
      "Combined Print and E-Book Nonfiction\n",
      "Hardcover Fiction\n",
      "Hardcover Nonfiction\n",
      "Trade Fiction Paperback\n",
      "Mass Market Paperback\n"
     ]
    }
   ],
   "source": [
    "import requests\n",
    "date='2015-06-06'\n",
    "url=\"https://api.nytimes.com/svc/books/v3/lists/overview.json?&api-key=4182fa9aca904ae18f4a1f6bef2fc7e9\"\n",
    "response=requests.get(url)\n",
    "data=response.json()\n",
    "print(\"The different book categories NYT ranked on\",date,\"are:\")\n",
    "print(\"\")\n",
    "for n in range(0,len(data['results'])):\n",
    "   print(data['results']['lists'][n]['list_name'])"
   ]
  },
  {
   "cell_type": "markdown",
   "metadata": {},
   "source": [
    "3) Muammar Gaddafi's name can be transliterated many many ways. His last name is often a source of a million and one versions - Gadafi, Gaddafi, Kadafi, and Qaddafi to name a few. How many times has the New York Times referred to him by each of those names?\n",
    "Tip: Add \"Libya\" to your search to make sure (-ish) you're talking about the right guy."
   ]
  },
  {
   "cell_type": "code",
   "execution_count": 18,
   "metadata": {
    "collapsed": false,
    "scrolled": true
   },
   "outputs": [
    {
     "name": "stdout",
     "output_type": "stream",
     "text": [
      "The NYT has referred to the Libyan despot 0 times using the spelling Gadafi\n",
      "The NYT has referred to the Libyan despot 1030 times using the spelling Gaddafi\n",
      "The NYT has referred to the Libyan despot 4 times using the spelling Kadafi\n",
      "The NYT has referred to the Libyan despot 5688 times using the spelling Qaddafi\n"
     ]
    }
   ],
   "source": [
    "despot_names = ['Gadafi', 'Gaddafi', 'Kadafi', 'Qaddafi']\n",
    "\n",
    "for name in despot_names:\n",
    "   despot_response = requests.get('http://api.nytimes.com/svc/search/v2/articlesearch.json?q=' + name +'+Libya&api-key=0c3ba2a8848c44eea6a3443a17e57448')\n",
    "   despot_data = despot_response.json()\n",
    "      \n",
    "   despot_hits_meta = despot_data['response']['meta']\n",
    "   despot_hit_count = despot_hits_meta['hits']\n",
    "   print(\"The NYT has referred to the Libyan despot\", despot_hit_count, \"times using the spelling\", name)"
   ]
  },
  {
   "cell_type": "markdown",
   "metadata": {},
   "source": [
    "4) What's the title of the first story to mention the word 'hipster' in 1995? What's the first paragraph?"
   ]
  },
  {
   "cell_type": "code",
   "execution_count": 19,
   "metadata": {
    "collapsed": false
   },
   "outputs": [
    {
     "name": "stdout",
     "output_type": "stream",
     "text": [
      "The main headline for the first article in 1995 mentioning the term hipster is: SOUND\n",
      "The kicker headline for the first article in 1995 mentioning the term hipster is: SURFACING\n",
      "\n",
      "The first paragrah for the first article in 1995 mentioning the term hipster is: Portable record players with built-in speakers, from the 1960's, are the latest points on hipster score cards. In some cases, they are the only way to listen to many of the old LP or 45-r.p.m. recordings still around but not released on cassette or CD. Usually available in white plastic or metal, they can be found in flea markets and secondhand stores. One style has the arm cast in the shape of a cobra. (Don Hogan Charles/The New York Times)\n"
     ]
    }
   ],
   "source": [
    "import requests\n",
    "term='hipster'\n",
    "url='http://api.nytimes.com/svc/search/v2/articlesearch.json?q='+ term +'&begin_date=19950101&end_date=19951231&api-key=0c3ba2a8848c44eea6a3443a17e57448'\n",
    "response=requests.get(url)\n",
    "data=response.json()\n",
    "#print(data.keys())\n",
    "#print(data['response'].keys())\n",
    " \n",
    "print(\"The main headline for the first article in 1995 mentioning the term hipster is:\",data['response']['docs'][0]['headline']['main'])\n",
    "print(\"The kicker headline for the first article in 1995 mentioning the term hipster is:\",data['response']['docs'][0]['headline']['kicker'])\n",
    "\n",
    "print(\"\")\n",
    "print(\"The first paragrah for the first article in 1995 mentioning the term hipster is:\",data['response']['docs'][0]['lead_paragraph'])\n"
   ]
  },
  {
   "cell_type": "markdown",
   "metadata": {},
   "source": [
    "5) How many times was gay marriage mentioned in the NYT between 1950-1959, 1960-1969, 1970-1978, 1980-1989, 1990-2099, 2000-2009, and 2010-present?\n",
    "Tip: You'll want to put quotes around the search term so it isn't just looking for \"gay\" and \"marriage\" in the same article.\n",
    "Tip: Write code to find the number of mentions between Jan 1, 1950 and Dec 31, 1959.\n"
   ]
  },
  {
   "cell_type": "code",
   "execution_count": 20,
   "metadata": {
    "collapsed": false
   },
   "outputs": [
    {
     "name": "stdout",
     "output_type": "stream",
     "text": [
      "556 is the number of times the term gay marriage ,appears between 19500101 and 19591231\n"
     ]
    }
   ],
   "source": [
    "search_term='gay marriage'\n",
    "begin_date='19500101'\n",
    "end_date='19591231'\n",
    "gay_response = requests.get('http://api.nytimes.com/svc/search/v2/articlesearch.json?q='+search_term+'&begin_date='+begin_date+'&end_date='+end_date+'&api-key=0c3ba2a8848c44eea6a3443a17e57448')\n",
    "gay_data=gay_response.json()\n",
    "\n",
    "print(gay_data['response']['meta']['hits'],\"is the number of times the term\",search_term,\",appears between\",begin_date,\"and\",end_date)\n"
   ]
  },
  {
   "cell_type": "code",
   "execution_count": 21,
   "metadata": {
    "collapsed": false
   },
   "outputs": [
    {
     "name": "stdout",
     "output_type": "stream",
     "text": [
      "450 is the number of times the term gay marriage ,appears between 19700101 and 19791231\n"
     ]
    }
   ],
   "source": [
    "search_term='gay marriage'\n",
    "begin_date='19700101'\n",
    "end_date='19791231'\n",
    "gay_response = requests.get('http://api.nytimes.com/svc/search/v2/articlesearch.json?q='+search_term+'&begin_date='+begin_date+'&end_date='+end_date+'&api-key=0c3ba2a8848c44eea6a3443a17e57448')\n",
    "gay_data=gay_response.json()\n",
    "\n",
    "print(gay_data['response']['meta']['hits'],\"is the number of times the term\",search_term,\",appears between\",begin_date,\"and\",end_date)\n"
   ]
  },
  {
   "cell_type": "code",
   "execution_count": 22,
   "metadata": {
    "collapsed": false
   },
   "outputs": [
    {
     "name": "stdout",
     "output_type": "stream",
     "text": [
      "368 is the number of times the term gay marriage ,appears between 19800101 and 19891231\n"
     ]
    }
   ],
   "source": [
    "search_term='gay marriage'\n",
    "begin_date='19800101'\n",
    "end_date='19891231'\n",
    "gay_response = requests.get('http://api.nytimes.com/svc/search/v2/articlesearch.json?q='+search_term+'&begin_date='+begin_date+'&end_date='+end_date+'&api-key=0c3ba2a8848c44eea6a3443a17e57448')\n",
    "gay_data=gay_response.json()\n",
    "\n",
    "print(gay_data['response']['meta']['hits'],\"is the number of times the term\",search_term,\",appears between\",begin_date,\"and\",end_date)\n"
   ]
  },
  {
   "cell_type": "code",
   "execution_count": 23,
   "metadata": {
    "collapsed": false
   },
   "outputs": [
    {
     "name": "stdout",
     "output_type": "stream",
     "text": [
      "1102 is the number of times the term gay marriage ,appears between 19900101 and 19991231\n"
     ]
    }
   ],
   "source": [
    "search_term='gay marriage'\n",
    "begin_date='19900101'\n",
    "end_date='19991231'\n",
    "gay_response = requests.get('http://api.nytimes.com/svc/search/v2/articlesearch.json?q='+search_term+'&begin_date='+begin_date+'&end_date='+end_date+'&api-key=0c3ba2a8848c44eea6a3443a17e57448')\n",
    "gay_data=gay_response.json()\n",
    "\n",
    "print(gay_data['response']['meta']['hits'],\"is the number of times the term\",search_term,\",appears between\",begin_date,\"and\",end_date)\n"
   ]
  },
  {
   "cell_type": "code",
   "execution_count": 24,
   "metadata": {
    "collapsed": false
   },
   "outputs": [
    {
     "name": "stdout",
     "output_type": "stream",
     "text": [
      "4858 is the number of times the term gay marriage ,appears between 20000101 and 20091231\n"
     ]
    }
   ],
   "source": [
    "search_term='gay marriage'\n",
    "begin_date='20000101'\n",
    "end_date='20091231'\n",
    "gay_response = requests.get('http://api.nytimes.com/svc/search/v2/articlesearch.json?q='+search_term+'&begin_date='+begin_date+'&end_date='+end_date+'&api-key=0c3ba2a8848c44eea6a3443a17e57448')\n",
    "gay_data=gay_response.json()\n",
    "\n",
    "print(gay_data['response']['meta']['hits'],\"is the number of times the term\",search_term,\",appears between\",begin_date,\"and\",end_date)\n"
   ]
  },
  {
   "cell_type": "markdown",
   "metadata": {},
   "source": [
    "6) What section talks about motorcycles the most? Tip: You'll be using facets\n"
   ]
  },
  {
   "cell_type": "code",
   "execution_count": 25,
   "metadata": {
    "collapsed": false
   },
   "outputs": [
    {
     "name": "stdout",
     "output_type": "stream",
     "text": [
      "The section that talks about, motorcycles the most is World\n",
      "It is mentioned 1032 times in the section.\n"
     ]
    }
   ],
   "source": [
    "search_term='motorcycles'\n",
    "motor_response = requests.get('http://api.nytimes.com/svc/search/v2/articlesearch.json?q=motorcycles&facet_field=section_name&api-key=0c3ba2a8848c44eea6a3443a17e57448')\n",
    "motor_data=motor_response.json()\n",
    "\n",
    "print(\"The section that talks about,\",search_term,\"the most is\",motor_data['response']['facets']['section_name']['terms'][0]['term'])\n",
    "print(\"It is mentioned\",motor_data['response']['facets']['section_name']['terms'][0]['count'],\"times in the section.\")"
   ]
  },
  {
   "cell_type": "markdown",
   "metadata": {},
   "source": [
    "7) How many of the last 20 movies reviewed by the NYT were Critics' Picks? How about the last 40? The last 60?\n",
    "Tip: You really don't want to do this 3 separate times (1-20, 21-40 and 41-60) and add them together. What if, perhaps, you were able to figure out how to combine two lists? Then you could have a 1-20 list, a 1-40 list, and a 1-60 list, and then just run similar code for each of them."
   ]
  },
  {
   "cell_type": "code",
   "execution_count": 40,
   "metadata": {
    "collapsed": false
   },
   "outputs": [
    {
     "name": "stdout",
     "output_type": "stream",
     "text": [
      "De Palma .This movie is meh.\n",
      "Genius .This movie is meh.\n",
      "Call Her Applebroog .This movie is critically acclaimed\n",
      "Careful What You Wish For .This movie is meh.\n",
      "Len and Company .This movie is critically acclaimed\n",
      "Germans & Jews .This movie is meh.\n",
      "Puerto Ricans in Paris .This movie is meh.\n",
      "Last Cab to Darwin .This movie is meh.\n",
      "Now You See Me 2 .This movie is meh.\n",
      "King Jack .This movie is critically acclaimed\n",
      "Be Somebody .This movie is meh.\n",
      "The Music of Strangers .This movie is meh.\n",
      "Therapy for a Vampire .This movie is meh.\n",
      "Tikkun .This movie is meh.\n",
      "Diary of a Chambermaid .This movie is meh.\n",
      "The Conjuring 2 .This movie is critically acclaimed\n",
      "Warcraft .This movie is meh.\n",
      "'Til Madness Do Us Part .This movie is meh.\n",
      "From Afar .This movie is critically acclaimed\n",
      "The Fits .This movie is critically acclaimed\n",
      "De Palma .This movie is meh.\n",
      "Genius .This movie is meh.\n",
      "Call Her Applebroog .This movie is critically acclaimed\n",
      "Careful What You Wish For .This movie is meh.\n",
      "Len and Company .This movie is critically acclaimed\n",
      "Germans & Jews .This movie is meh.\n",
      "Puerto Ricans in Paris .This movie is meh.\n",
      "Last Cab to Darwin .This movie is meh.\n",
      "Now You See Me 2 .This movie is meh.\n",
      "King Jack .This movie is critically acclaimed\n",
      "Be Somebody .This movie is meh.\n",
      "The Music of Strangers .This movie is meh.\n",
      "Therapy for a Vampire .This movie is meh.\n",
      "Tikkun .This movie is meh.\n",
      "Diary of a Chambermaid .This movie is meh.\n",
      "The Conjuring 2 .This movie is critically acclaimed\n",
      "Warcraft .This movie is meh.\n",
      "'Til Madness Do Us Part .This movie is meh.\n",
      "From Afar .This movie is critically acclaimed\n",
      "The Fits .This movie is critically acclaimed\n",
      "De Palma .This movie is meh.\n",
      "Genius .This movie is meh.\n",
      "Call Her Applebroog .This movie is critically acclaimed\n",
      "Careful What You Wish For .This movie is meh.\n",
      "Len and Company .This movie is critically acclaimed\n",
      "Germans & Jews .This movie is meh.\n",
      "Puerto Ricans in Paris .This movie is meh.\n",
      "Last Cab to Darwin .This movie is meh.\n",
      "Now You See Me 2 .This movie is meh.\n",
      "King Jack .This movie is critically acclaimed\n",
      "Be Somebody .This movie is meh.\n",
      "The Music of Strangers .This movie is meh.\n",
      "Therapy for a Vampire .This movie is meh.\n",
      "Tikkun .This movie is meh.\n",
      "Diary of a Chambermaid .This movie is meh.\n",
      "The Conjuring 2 .This movie is critically acclaimed\n",
      "Warcraft .This movie is meh.\n",
      "'Til Madness Do Us Part .This movie is meh.\n",
      "From Afar .This movie is critically acclaimed\n",
      "The Fits .This movie is critically acclaimed\n",
      "The number of critically picked movies is 18\n",
      "The number of meh movies is 42\n"
     ]
    }
   ],
   "source": [
    "critics_pick_count=0\n",
    "meh_movie=0\n",
    "offset_value = 0\n",
    "movie_list=[]\n",
    "critical_acclaimed_movies=[]\n",
    "meh_movies=[]\n",
    "for page in range(3):\n",
    "    movie_response = requests.get('https://api.nytimes.com/svc/movies/v2/reviews/search.json?publication_date=20160611&api-key=07c67436f1864abc8a144c14adff69c8&'+ str(offset_value))\n",
    "    movie_data=movie_response.json()\n",
    "    n=0\n",
    "    n1=0\n",
    "    movie_list=movie_list+movie_data['results']\n",
    "    for count in movie_data['results']:\n",
    "        if(movie_data['results'][n]['critics_pick']==1):\n",
    "            critics_pick_count=critics_pick_count+1\n",
    "            #print(movie_data['results'][n]['display_title'],\".This movie is critically acclaimed\")\n",
    "            critical_acclaimed_movies=critical_acclaimed_movies+movie_data['results']\n",
    "        else:\n",
    "            meh_movie=meh_movie+1\n",
    "            #print(movie_data['results'][n]['display_title'],\".This movie is meh.\")\n",
    "        n=n+1\n",
    "        \n",
    "\n",
    "print(\"The number of critically picked movies is\",critics_pick_count)\n",
    "\n",
    "print(\"The number of meh movies is\",meh_movie)\n"
   ]
  },
  {
   "cell_type": "markdown",
   "metadata": {},
   "source": [
    "8) Out of the last 40 movie reviews from the NYT, which critic has written the most reviews?"
   ]
  },
  {
   "cell_type": "code",
   "execution_count": 54,
   "metadata": {
    "collapsed": false
   },
   "outputs": [
    {
     "name": "stdout",
     "output_type": "stream",
     "text": [
      "The list of all the reviewers are ['A. O. SCOTT', 'KEN JAWOROWSKI', 'ANDY WEBSTER', 'KEN JAWOROWSKI', 'GLENN KENNY', 'NEIL GENZLINGER', 'JEANNETTE CATSOULIS', 'JEANNETTE CATSOULIS', 'KEN JAWOROWSKI', 'NICOLAS RAPOLD', 'JEANNETTE CATSOULIS', 'A. O. SCOTT', 'NICOLAS RAPOLD', 'ANDY WEBSTER', 'ANDY WEBSTER', 'MANOHLA DARGIS', 'A. O. SCOTT', 'DANIEL M. GOLD', 'A. O. SCOTT', 'ANDY WEBSTER', 'A. O. SCOTT', 'A. O. SCOTT', 'STEPHEN HOLDEN', 'A. O. SCOTT', 'ANDY WEBSTER', 'KEN JAWOROWSKI', 'STEPHEN HOLDEN', 'A. O. SCOTT', 'NEIL GENZLINGER', 'NICOLAS RAPOLD', 'MIKE HALE', 'ANDY WEBSTER', 'GLENN KENNY', 'GLENN KENNY', 'STEPHEN HOLDEN', 'A. O. SCOTT', 'GLENN KENNY', 'JEANNETTE CATSOULIS', 'GLENN KENNY', 'MANOHLA DARGIS', 'ANDY WEBSTER', 'MANOHLA DARGIS']\n",
      "The reviewer who has reviewed the most in the last 40 films is A. O. SCOTT and that person has reviewed 9 times\n"
     ]
    }
   ],
   "source": [
    "critics_pick_count=0\n",
    "meh_movie=0\n",
    "offset= 0\n",
    "page=offset+20\n",
    "reviewers=[]\n",
    "reviewers1=[]\n",
    "reviewers2=[]\n",
    "x=0\n",
    "import requests\n",
    "for page in range(40):\n",
    "    movie_response = requests.get('https://api.nytimes.com/svc/movies/v2/reviews/search.json?publication_date=20160611&&offset='+str(offset)+'&api-key=07c67436f1864abc8a144c14adff69c8')\n",
    "    movie_data=movie_response.json()\n",
    "    movie_results=movie_data['results']\n",
    "    byline=movie_results[x]['byline']\n",
    "    reviewers1.insert(x,byline)\n",
    "    offset=offset+20\n",
    "    x=x+1\n",
    "    if(x>19):\n",
    "        x=0\n",
    "        reviewers2.insert(x,byline) \n",
    "reviewers = reviewers1 + reviewers2\n",
    "print(\"The list of all the reviewers are\",reviewers)\n",
    "print(\"\")\n",
    "print(\"\")\n",
    "from collections import Counter\n",
    "most_common,num_most_common = Counter(reviewers).most_common(1)[0]\n",
    "print(\"The reviewer who has reviewed the most in the last 40 films is\",most_common,\"and that person has reviewed\",num_most_common,\"times\")"
   ]
  }
 ],
 "metadata": {
  "kernelspec": {
   "display_name": "Python 3",
   "language": "python",
   "name": "python3"
  },
  "language_info": {
   "codemirror_mode": {
    "name": "ipython",
    "version": 3
   },
   "file_extension": ".py",
   "mimetype": "text/x-python",
   "name": "python",
   "nbconvert_exporter": "python",
   "pygments_lexer": "ipython3",
   "version": "3.5.1"
  }
 },
 "nbformat": 4,
 "nbformat_minor": 0
}
