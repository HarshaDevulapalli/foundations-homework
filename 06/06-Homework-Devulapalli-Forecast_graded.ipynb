{
 "cells": [
  {
   "cell_type": "markdown",
   "metadata": {},
   "source": [
    "Graded = 7/7"
   ]
  },
  {
   "cell_type": "markdown",
   "metadata": {},
   "source": [
    "\n",
    "HOMEWORK 06\n",
    "\n",
    "You'll be using the Dark Sky Forecast API from Forecast.io, available at https://developer.forecast.io. It's a pretty simple API, but be sure to read the documentation!"
   ]
  },
  {
   "cell_type": "markdown",
   "metadata": {},
   "source": [
    "1) Make a request from the Forecast.io API for where you were born (or lived, or want to visit!).\n",
    "Tip: Once you've imported the JSON into a variable, check the timezone's name to make sure it seems like it got the right part of the world!\n",
    "Tip 2: How is north vs. south and east vs. west latitude/longitude represented? Is it the normal North/South/East/West?"
   ]
  },
  {
   "cell_type": "code",
   "execution_count": 1,
   "metadata": {
    "collapsed": false
   },
   "outputs": [
    {
     "data": {
      "text/plain": [
       "dict_keys(['precipIntensity', 'ozone', 'summary', 'precipProbability', 'icon', 'visibility', 'windSpeed', 'dewPoint', 'pressure', 'humidity', 'windBearing', 'apparentTemperature', 'time', 'cloudCover', 'temperature', 'precipType'])"
      ]
     },
     "execution_count": 1,
     "metadata": {},
     "output_type": "execute_result"
    }
   ],
   "source": [
    "import requests\n",
    "url=\"https://api.forecast.io/forecast/64f4867f7d4c86182f3d1c6ed881dbfc/17.3850,78.4867\"\n",
    "response=requests.get(url)\n",
    "data=response.json()\n",
    "data.keys()\n",
    "data['currently'].keys()"
   ]
  },
  {
   "cell_type": "markdown",
   "metadata": {},
   "source": [
    "2) What's the current wind speed? How much warmer does it feel than it actually is?"
   ]
  },
  {
   "cell_type": "code",
   "execution_count": 2,
   "metadata": {
    "collapsed": false
   },
   "outputs": [
    {
     "name": "stdout",
     "output_type": "stream",
     "text": [
      "The current wind speed is 9.67 miles per hour.\n",
      "It feels 0.00 degrees cooler.\n"
     ]
    }
   ],
   "source": [
    "print(\"The current wind speed is\",data['currently']['windSpeed'],\"miles per hour.\")\n",
    "apparentTemperature=data['currently']['apparentTemperature']\n",
    "temperature=data['currently']['temperature']\n",
    "if apparentTemperature-temperature > 0:\n",
    "    print(\"It feels\", \"%.2f\" %(apparentTemperature-temperature),\"degrees warmer.\")\n",
    "else:\n",
    "    print(\"It feels\", \"%.2f\" %(temperature-apparentTemperature),\"degrees cooler.\")\n"
   ]
  },
  {
   "cell_type": "markdown",
   "metadata": {},
   "source": [
    "3) The first daily forecast is the forecast for today. For the place you decided on up above, how much of the moon is currently visible?\n"
   ]
  },
  {
   "cell_type": "code",
   "execution_count": 3,
   "metadata": {
    "collapsed": false
   },
   "outputs": [
    {
     "name": "stdout",
     "output_type": "stream",
     "text": [
      "The moon is in waxing gibbous phase. The mooncover is 0.43\n"
     ]
    }
   ],
   "source": [
    "data['daily'].keys()\n",
    "mooncover=data['daily']['data'][0]['moonPhase']\n",
    "if mooncover == 0:\n",
    "    print(\"Today is a new moon day. The mooncover is\",mooncover)\n",
    "if mooncover > 0 and mooncover <0.25:\n",
    "    print(\"The moon is in waxing crescent phase. The mooncover is\",mooncover)\n",
    "if mooncover == 0.25:\n",
    "    print(\"Today is a first quarter moon. The mooncover is\",mooncover)\n",
    "if mooncover > 0.25 and mooncover <0.5:\n",
    "    print(\"The moon is in waxing gibbous phase. The mooncover is\",mooncover)\n",
    "if mooncover == 0.5:\n",
    "    print(\"Today is a full moon day. The mooncover is\",mooncover)\n",
    "if mooncover > 0.5 and mooncover<0.75:\n",
    "    print(\"The moon is in waning gibbous phase. The mooncover is\",mooncover)\n",
    "if mooncover == 0.75:\n",
    "    print(\"Today is a last quarter moon. The mooncover is\",mooncover)    \n",
    "if mooncover >0.75:\n",
    "    print(\"The moon is in waning crescent phase. The mooncover is\",mooncover)"
   ]
  },
  {
   "cell_type": "markdown",
   "metadata": {},
   "source": [
    "4) What's the difference between the high and low temperatures for today?\n"
   ]
  },
  {
   "cell_type": "code",
   "execution_count": 5,
   "metadata": {
    "collapsed": false
   },
   "outputs": [
    {
     "name": "stdout",
     "output_type": "stream",
     "text": [
      "The low temperature is 78.36\n",
      "The high temperature is 86.92\n",
      "There is a difference of 8.560000000000002 degrees between the high and low temperatures today.\n"
     ]
    }
   ],
   "source": [
    "low=data['daily']['data'][0]['temperatureMin']\n",
    "print(\"The low temperature is\",low)\n",
    "high=data['daily']['data'][0]['temperatureMax']\n",
    "print(\"The high temperature is\",high)\n",
    "print(\"There is a difference of\",high-low,\"degrees between the high and low temperatures today.\")"
   ]
  },
  {
   "cell_type": "markdown",
   "metadata": {},
   "source": [
    "5) Loop through the daily forecast, printing out the next week's worth of predictions. I'd like to know the high temperature for each day, and whether it's hot, warm, or cold, based on what temperatures you think are hot, warm or cold."
   ]
  },
  {
   "cell_type": "code",
   "execution_count": 6,
   "metadata": {
    "collapsed": false
   },
   "outputs": [
    {
     "name": "stdout",
     "output_type": "stream",
     "text": [
      "The high for day 0 of the mext week is 86.92 Fahrenheit\n",
      "It's a hot day. \n",
      "The high for day 1 of the mext week is 97.88 Fahrenheit\n",
      "It's a hot day. \n",
      "The high for day 2 of the mext week is 99.25 Fahrenheit\n",
      "It's a hot day. \n",
      "The high for day 3 of the mext week is 100.14 Fahrenheit\n",
      "It's a hot day. \n",
      "The high for day 4 of the mext week is 95.39 Fahrenheit\n",
      "It's a hot day. \n",
      "The high for day 5 of the mext week is 81.87 Fahrenheit\n",
      "It's a warm day. \n",
      "The high for day 6 of the mext week is 83.7 Fahrenheit\n",
      "It's a warm day. \n",
      "The high for day 7 of the mext week is 86.06 Fahrenheit\n",
      "It's a hot day. \n"
     ]
    }
   ],
   "source": [
    "x=0\n",
    "hotlimit=86\n",
    "warmlimit=68\n",
    "for date in data['daily']['data']:\n",
    "    if data['daily']['data'][x]['temperatureMax'] > hotlimit:\n",
    "        print(\"The high for day\",x,\"of the mext week is\",data['daily']['data'][x]['temperatureMax'],\"Fahrenheit\")\n",
    "        print(\"It's a hot day. \")\n",
    "    if data['daily']['data'][x]['temperatureMax'] < hotlimit and data['daily']['data'][x]['temperatureMax'] > warmlimit :\n",
    "        print(\"The high for day\",x,\"of the mext week is\",data['daily']['data'][x]['temperatureMax'],\"Fahrenheit\")\n",
    "        print(\"It's a warm day. \")\n",
    "    if data['daily']['data'][x]['temperatureMax'] < warmlimit:\n",
    "        print(\"The high for day\",x,\"of the mext week is\",data['daily']['data'][x]['temperatureMax'],\"Fahrenheit\")\n",
    "        print(\"It's a cold day. \")\n",
    "    x=x+1\n",
    "    "
   ]
  },
  {
   "cell_type": "markdown",
   "metadata": {},
   "source": [
    "6) What's the weather looking like for the rest of today in Miami, Florida? I'd like to know the temperature for every hour, and if it's going to have cloud cover of more than 0.5 say \"{temperature} and cloudy\" instead of just the temperature."
   ]
  },
  {
   "cell_type": "code",
   "execution_count": 4,
   "metadata": {
    "collapsed": false
   },
   "outputs": [
    {
     "name": "stdout",
     "output_type": "stream",
     "text": [
      "The temperature for hour 1 is 90.3 degrees F.\n",
      "The temperature for hour 2 is 90.8 degrees F.\n",
      "The temperature for hour 3 is 91.81 degrees F and cloudy.\n",
      "The temperature for hour 4 is 91.54 degrees F and cloudy.\n",
      "The temperature for hour 5 is 90.82 degrees F and cloudy.\n",
      "The temperature for hour 6 is 89.33 degrees F and cloudy.\n",
      "The temperature for hour 7 is 88.06 degrees F and cloudy.\n",
      "The temperature for hour 8 is 86.7 degrees F and cloudy.\n",
      "The temperature for hour 9 is 85.04 degrees F and cloudy.\n",
      "The temperature for hour 10 is 83.46 degrees F and cloudy.\n",
      "The temperature for hour 11 is 82.63 degrees F and cloudy.\n",
      "The temperature for hour 12 is 82.14 degrees F and cloudy.\n",
      "The temperature for hour 13 is 81.43 degrees F and cloudy.\n",
      "The temperature for hour 14 is 80.82 degrees F and cloudy.\n",
      "The temperature for hour 15 is 80.16 degrees F and cloudy.\n",
      "The temperature for hour 16 is 79.49 degrees F and cloudy.\n",
      "The temperature for hour 17 is 78.37 degrees F and cloudy.\n",
      "The temperature for hour 18 is 77.71 degrees F and cloudy.\n",
      "The temperature for hour 19 is 77.25 degrees F and cloudy.\n",
      "The temperature for hour 20 is 78.43 degrees F and cloudy.\n",
      "The temperature for hour 21 is 80.26 degrees F and cloudy.\n",
      "The temperature for hour 22 is 82.26 degrees F and cloudy.\n",
      "The temperature for hour 23 is 84.2 degrees F and cloudy.\n",
      "The temperature for hour 24 is 86.27 degrees F and cloudy.\n"
     ]
    }
   ],
   "source": [
    "import requests\n",
    "url=\"https://api.forecast.io/forecast/64f4867f7d4c86182f3d1c6ed881dbfc/25.7617,-80.1918\"\n",
    "miamiresponse=requests.get(url)\n",
    "miamidata=miamiresponse.json()\n",
    "miamidata.keys()\n",
    "\n",
    "noofhoursinaday=0\n",
    "miamidata['hourly']['data']\n",
    "for count in miamidata['hourly']['data']:\n",
    "    if miamidata['hourly']['data'][noofhoursinaday]['cloudCover'] > 0.5:\n",
    "        print(\"The temperature for hour\",noofhoursinaday+1,\"is\",miamidata['hourly']['data'][noofhoursinaday]['temperature'],\"degrees F and cloudy.\")\n",
    "    else:\n",
    "        print(\"The temperature for hour\",noofhoursinaday+1,\"is\",miamidata['hourly']['data'][noofhoursinaday]['temperature'],\"degrees F.\")\n",
    "    noofhoursinaday=noofhoursinaday+1\n",
    "    \n",
    "    if noofhoursinaday>23:\n",
    "        break\n",
    "    "
   ]
  },
  {
   "cell_type": "markdown",
   "metadata": {},
   "source": [
    "7) What was the temperature in Central Park on Christmas Day, 1980? How about 1990? 2000?\n",
    "Tip: You'll need to use UNIX time, which is the number of seconds since January 1, 1970. Google can help you convert a normal date!\n",
    "Tip: You'll want to use Forecast.io's \"time machine\" API at https://developer.forecast.io/docs/v2"
   ]
  },
  {
   "cell_type": "code",
   "execution_count": 16,
   "metadata": {
    "collapsed": false
   },
   "outputs": [
    {
     "name": "stdout",
     "output_type": "stream",
     "text": [
      "The temperature at midnight of Christmas in 1980 is 33.96 degrees F\n"
     ]
    }
   ],
   "source": [
    "import requests\n",
    "timestamp='346550400'\n",
    "url=\"https://api.forecast.io/forecast/64f4867f7d4c86182f3d1c6ed881dbfc/40.7829,-73.9654,\"+timestamp\n",
    "cpresponse=requests.get(url)\n",
    "cpdata=cpresponse.json()\n",
    "print(\"The temperature at midnight of Christmas in 1980 was\",cpdata['currently']['temperature'],\"degrees F\")\n"
   ]
  },
  {
   "cell_type": "code",
   "execution_count": 8,
   "metadata": {
    "collapsed": false
   },
   "outputs": [
    {
     "name": "stdout",
     "output_type": "stream",
     "text": [
      "The temperature at midnight of Christmas in 1990 was 36.74 degrees F\n"
     ]
    }
   ],
   "source": [
    "import requests\n",
    "timestamp='662083200'\n",
    "url=\"https://api.forecast.io/forecast/64f4867f7d4c86182f3d1c6ed881dbfc/40.7829,-73.9654,\"+timestamp\n",
    "cpresponse=requests.get(url)\n",
    "cpdata=cpresponse.json()\n",
    "print(\"The temperature at midnight of Christmas in 1990 was\",cpdata['currently']['temperature'],\"degrees F\")"
   ]
  },
  {
   "cell_type": "code",
   "execution_count": 9,
   "metadata": {
    "collapsed": false
   },
   "outputs": [
    {
     "name": "stdout",
     "output_type": "stream",
     "text": [
      "The temperature at midnight of Christmas in 2000 was 20.52 degrees F\n"
     ]
    }
   ],
   "source": [
    "import requests\n",
    "timestamp='977702400'\n",
    "url=\"https://api.forecast.io/forecast/64f4867f7d4c86182f3d1c6ed881dbfc/40.7829,-73.9654,\"+timestamp\n",
    "cpresponse=requests.get(url)\n",
    "cpdata=cpresponse.json()\n",
    "print(\"The temperature at midnight of Christmas in 2000 was\",cpdata['currently']['temperature'],\"degrees F\")"
   ]
  },
  {
   "cell_type": "markdown",
   "metadata": {},
   "source": []
  },
  {
   "cell_type": "code",
   "execution_count": null,
   "metadata": {
    "collapsed": true
   },
   "outputs": [],
   "source": []
  }
 ],
 "metadata": {
  "kernelspec": {
   "display_name": "Python 3",
   "language": "python",
   "name": "python3"
  },
  "language_info": {
   "codemirror_mode": {
    "name": "ipython",
    "version": 3
   },
   "file_extension": ".py",
   "mimetype": "text/x-python",
   "name": "python",
   "nbconvert_exporter": "python",
   "pygments_lexer": "ipython3",
   "version": "3.5.1"
  }
 },
 "nbformat": 4,
 "nbformat_minor": 0
}
