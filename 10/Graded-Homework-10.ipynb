{
 "cells": [
  {
   "cell_type": "markdown",
   "metadata": {},
   "source": [
    "Grade = incomplete\n",
    "\n",
    "Ta-Stephan: Does not run. High_limit not defined."
   ]
  },
  {
   "cell_type": "code",
   "execution_count": 2,
   "metadata": {
    "collapsed": false
   },
   "outputs": [
    {
     "ename": "NameError",
     "evalue": "name 'high_limit' is not defined",
     "output_type": "error",
     "traceback": [
      "\u001b[0;31m---------------------------------------------------------------------------\u001b[0m",
      "\u001b[0;31mNameError\u001b[0m                                 Traceback (most recent call last)",
      "\u001b[0;32m<ipython-input-2-28f8a176c320>\u001b[0m in \u001b[0;36m<module>\u001b[0;34m()\u001b[0m\n\u001b[1;32m     16\u001b[0m \u001b[0;32mif\u001b[0m \u001b[0mhigh_temp\u001b[0m \u001b[0;34m>\u001b[0m \u001b[0mhot_limit\u001b[0m\u001b[0;34m:\u001b[0m\u001b[0;34m\u001b[0m\u001b[0m\n\u001b[1;32m     17\u001b[0m     \u001b[0mtemp_feeling\u001b[0m \u001b[0;34m=\u001b[0m \u001b[0;34m\"Slightly Hot\"\u001b[0m\u001b[0;34m\u001b[0m\u001b[0m\n\u001b[0;32m---> 18\u001b[0;31m \u001b[0;32mif\u001b[0m \u001b[0mhigh_temp\u001b[0m \u001b[0;34m>\u001b[0m \u001b[0mcold_limit\u001b[0m \u001b[0;32mand\u001b[0m \u001b[0mhigh_limit\u001b[0m \u001b[0;34m<\u001b[0m \u001b[0mhot_threshold\u001b[0m\u001b[0;34m:\u001b[0m\u001b[0;34m\u001b[0m\u001b[0m\n\u001b[0m\u001b[1;32m     19\u001b[0m     \u001b[0mtemp_feeling\u001b[0m \u001b[0;34m=\u001b[0m \u001b[0;34m\"Just about Perfect\"\u001b[0m\u001b[0;34m\u001b[0m\u001b[0m\n\u001b[1;32m     20\u001b[0m \u001b[0;32mif\u001b[0m \u001b[0mhigh_temp\u001b[0m \u001b[0;34m<\u001b[0m \u001b[0mcold_threshold\u001b[0m\u001b[0;34m:\u001b[0m\u001b[0;34m\u001b[0m\u001b[0m\n",
      "\u001b[0;31mNameError\u001b[0m: name 'high_limit' is not defined"
     ]
    }
   ],
   "source": [
    "\n",
    "import requests\n",
    "weather_response = requests.get ('https://api.forecast.io/forecast/64f4867f7d4c86182f3d1c6ed881dbfc/40.7142700,-74.0059700')\n",
    "weather_data = weather_response.json()\n",
    "daily_weather = weather_data['daily']['data']\n",
    "temperature = weather_data['currently']['temperature']\n",
    "\n",
    "\n",
    "summary = daily_weather[0]['summary']\n",
    "\n",
    "high_temp = daily_weather[0]['temperatureMax']\n",
    "low_temp = daily_weather[0]['temperatureMin']\n",
    "hot_limit= 80\n",
    "cold_limit = 68\n",
    "\n",
    "if high_temp > hot_limit:\n",
    "    temp_feeling = \"Slightly Hot\"\n",
    "if high_temp > cold_limit and high_limit < hot_threshold:\n",
    "    temp_feeling = \"Just about Perfect\"\n",
    "if high_temp < cold_threshold:\n",
    "    temp_feeling = \"Cool\"\n",
    "\n",
    "rain_probability = daily_weather[0]['precipProbability']\n",
    "rain_likelihood = rain_probability * 100\n",
    "\n",
    "if rain_likelihood < 20:\n",
    "    rain_warning = \"No chances of Rain.\"\n",
    "if rain_likelihood > 20 and rain_likelihood < 30:\n",
    "    rain_warning = \"A very faint possibility of Rain. You could always get Umbrellas for 5 dollars.\"\n",
    "if rain_likelihood > 30 and rain_likelihood < 60:\n",
    "    rain_warning = \"You wouldn't want to take chances. Carry an Umbrella\"\n",
    "if rain_likelihood > 60:\n",
    "    rain_warning = \"It looks like Rain is on the cards. Leaky Subway Stairs, coming right up.\"\n",
    "if rain_likelihood > 80:\n",
    "    rain_warning = \"Why are you even bothering going out? Stay indoors and enjoy.\"\n",
    "\n",
    "\n",
    "weather_forecast_output = [\"The temperature now is\" + str(temperature) + \" degrees Fahrenheit(ugh) and \" + str(summary) +\" Today will be \" + str(temp_feeling) + \" with an expected high of \" + str(high_temp) + \" degrees Fahrenheit and an expected low of \" + str(low_temp) + \" degrees Fahrenheit. It's going to rain with a probability of \" + str(rain_likelihood) + \" percent so \" + str(rain_warning)]\n",
    "\n",
    "def date_in_words(date):\n",
    "    months = ['January', 'February', 'March', 'April', 'May', 'June', 'July', 'August', 'September', 'October', 'November', 'December']\n",
    "    import dateutil.parser\n",
    "    date = dateutil.parser.parse(date)\n",
    "    return months[date.month - 1]\n",
    "\n",
    "def day_in_number(day):\n",
    "    import dateutil.parser\n",
    "    day = dateutil.parser.parse(day)\n",
    "    return day.day\n",
    "\n",
    "def year_in_number(year):\n",
    "    import dateutil.parser\n",
    "    year = dateutil.parser.parse(year)\n",
    "    return year.year\n",
    "\n",
    "import time\n",
    "datestring = time.strftime(\"%Y-%m-%d-%H-%M\")\n",
    "\n",
    "date_in_words(datestring)\n",
    "day_in_number(datestring)\n",
    "year_in_number(datestring)\n",
    "\n",
    "final_date = [date_in_words(datestring), day_in_number(datestring), \"-\", year_in_number(datestring)]\n",
    "specified_subjectline = [\"8AM weather forecast:\", final_date]\n",
    "\n",
    "\n",
    "import requests\n",
    "key = 'key-3a2bbee3565fa5844cd5408b67f877a1'\n",
    "recipient = 'harshadevulapalli@outlook.com'\n",
    "\n",
    "\n",
    "request_url = 'https://api.mailgun.net/v3/sandbox9157d0b51bda4555b4b664c238b56e3a.mailgun.org/messages'\n",
    "request = requests.post(request_url, auth=('api', key), data={\n",
    "    'from': 'postmaster@sandbox9157d0b51bda4555b4b664c238b56e3a.mailgun.org',\n",
    "    'to': recipient,\n",
    "    'subject': specified_subjectline,\n",
    "    'text': weather_forecast_output\n",
    "})\n",
    "print(specified_subjectline)\n",
    "print(weather_forecast_output)"
   ]
  },
  {
   "cell_type": "code",
   "execution_count": 3,
   "metadata": {
    "collapsed": false
   },
   "outputs": [
    {
     "ename": "NameError",
     "evalue": "name 'high_limit' is not defined",
     "output_type": "error",
     "traceback": [
      "\u001b[0;31m---------------------------------------------------------------------------\u001b[0m",
      "\u001b[0;31mNameError\u001b[0m                                 Traceback (most recent call last)",
      "\u001b[0;32m<ipython-input-3-646c382bd670>\u001b[0m in \u001b[0;36m<module>\u001b[0;34m()\u001b[0m\n\u001b[1;32m     16\u001b[0m \u001b[0;32mif\u001b[0m \u001b[0mhigh_temp\u001b[0m \u001b[0;34m>\u001b[0m \u001b[0mhot_limit\u001b[0m\u001b[0;34m:\u001b[0m\u001b[0;34m\u001b[0m\u001b[0m\n\u001b[1;32m     17\u001b[0m     \u001b[0mtemp_feeling\u001b[0m \u001b[0;34m=\u001b[0m \u001b[0;34m\"Slightly Hot\"\u001b[0m\u001b[0;34m\u001b[0m\u001b[0m\n\u001b[0;32m---> 18\u001b[0;31m \u001b[0;32mif\u001b[0m \u001b[0mhigh_temp\u001b[0m \u001b[0;34m>\u001b[0m \u001b[0mcold_limit\u001b[0m \u001b[0;32mand\u001b[0m \u001b[0mhigh_limit\u001b[0m \u001b[0;34m<\u001b[0m \u001b[0mhot_threshold\u001b[0m\u001b[0;34m:\u001b[0m\u001b[0;34m\u001b[0m\u001b[0m\n\u001b[0m\u001b[1;32m     19\u001b[0m     \u001b[0mtemp_feeling\u001b[0m \u001b[0;34m=\u001b[0m \u001b[0;34m\"Just about Perfect\"\u001b[0m\u001b[0;34m\u001b[0m\u001b[0m\n\u001b[1;32m     20\u001b[0m \u001b[0;32mif\u001b[0m \u001b[0mhigh_temp\u001b[0m \u001b[0;34m<\u001b[0m \u001b[0mcold_threshold\u001b[0m\u001b[0;34m:\u001b[0m\u001b[0;34m\u001b[0m\u001b[0m\n",
      "\u001b[0;31mNameError\u001b[0m: name 'high_limit' is not defined"
     ]
    }
   ],
   "source": []
  },
  {
   "cell_type": "code",
   "execution_count": null,
   "metadata": {
    "collapsed": true
   },
   "outputs": [],
   "source": []
  }
 ],
 "metadata": {
  "kernelspec": {
   "display_name": "Python 3",
   "language": "python",
   "name": "python3"
  },
  "language_info": {
   "codemirror_mode": {
    "name": "ipython",
    "version": 3
   },
   "file_extension": ".py",
   "mimetype": "text/x-python",
   "name": "python",
   "nbconvert_exporter": "python",
   "pygments_lexer": "ipython3",
   "version": "3.5.1"
  }
 },
 "nbformat": 4,
 "nbformat_minor": 0
}
